{
  "nbformat": 4,
  "nbformat_minor": 0,
  "metadata": {
    "colab": {
      "provenance": [],
      "authorship_tag": "ABX9TyP8Kk0+O5jgadMwXJyTuLj8",
      "include_colab_link": true
    },
    "kernelspec": {
      "name": "python3",
      "display_name": "Python 3"
    },
    "language_info": {
      "name": "python"
    }
  },
  "cells": [
    {
      "cell_type": "markdown",
      "metadata": {
        "id": "view-in-github",
        "colab_type": "text"
      },
      "source": [
        "<a href=\"https://colab.research.google.com/github/dakshayani2906/Data-Science-Portfolio/blob/main/Learn_Python.ipynb\" target=\"_parent\"><img src=\"https://colab.research.google.com/assets/colab-badge.svg\" alt=\"Open In Colab\"/></a>"
      ]
    },
    {
      "cell_type": "markdown",
      "source": [
        "## **Python Introduction**"
      ],
      "metadata": {
        "id": "wz7LqGa4apQW"
      }
    },
    {
      "cell_type": "markdown",
      "source": [
        "### **Whay is Python?**\n",
        "\n",
        "popoular programming language\n",
        "\n",
        "created - Guido van Rossum in 1991\n",
        "\n",
        "**used for?**\n",
        "\n",
        "1. Web development (server side)\n",
        "2. Software Development\n",
        "3. Mathematics\n",
        "4. System Scripting\n",
        "\n",
        "**What can Python do?**\n",
        "\n",
        "1. Python can be used on a server to create web applications.\n",
        "2. Python can be used alongside software to create workflows.\n",
        "3. Python can connect to database systems. It can also read and modify files.\n",
        "4. Python can be used to handle big data and perform complex mathematics.\n",
        "5. Python can be used for rapid prototyping, or for production-ready software development\n",
        "\n",
        "**Why Python?**\n",
        "1. Python works on different platforms (Windows, Mac, Linux, Raspberry Pi, etc).\n",
        "2. Python has a simple syntax similar to the English language.\n",
        "3. Python has syntax that allows developers to write programs with fewer lines than some other programming languages.\n",
        "4. Python runs on an interpreter system, meaning that code can be executed as soon as it is written. This means that prototyping can be very quick.\n",
        "5. Python can be treated in a procedural way, an object-oriented way or a functional way.\n",
        "\n",
        "**Python Syntax compared to other programming languages??**\n",
        "1. Python was designed for readability, and has some similarities to the English language with influence from mathematics.\n",
        "2. Python uses new lines to complete a command, as opposed to other programming languages which often use semicolons or parentheses.\n",
        "3. Python relies on indentation, using whitespace, to define scope; such as the scope of loops, functions and classes. Other programming languages often use curly-brackets for this purpose."
      ],
      "metadata": {
        "id": "b7HMGxfQbTL8"
      }
    },
    {
      "cell_type": "markdown",
      "source": [
        "Open Google Colab from your web and start doing it anywhere"
      ],
      "metadata": {
        "id": "xtF68EKscF5w"
      }
    },
    {
      "cell_type": "code",
      "execution_count": 185,
      "metadata": {
        "colab": {
          "base_uri": "https://localhost:8080/"
        },
        "id": "bVMp12WXaMWH",
        "outputId": "2313e54d-f405-4fc2-ab49-ce19cdbf480a"
      },
      "outputs": [
        {
          "output_type": "stream",
          "name": "stdout",
          "text": [
            "Hello, World!\n"
          ]
        }
      ],
      "source": [
        "# First code\n",
        "\n",
        "print(\"Hello, World!\")"
      ]
    },
    {
      "cell_type": "markdown",
      "source": [
        "## **Python Indendation**\n",
        "\n",
        "Indendation refers to the spaces at the beginning of a code line\n",
        "\n",
        "Where in other programming languages the indentation in code is for readability only, the indentation in Python is very important.\n",
        "\n",
        "Python uses indentation to indicate a block of code"
      ],
      "metadata": {
        "id": "qXiN3rpKciEL"
      }
    },
    {
      "cell_type": "code",
      "source": [
        "if 5 > 2:\n",
        "  print(\"Five is greater than two!\")"
      ],
      "metadata": {
        "colab": {
          "base_uri": "https://localhost:8080/"
        },
        "id": "aH_IkJ5Schsc",
        "outputId": "38ae7f41-f7b2-4a53-ce4a-76ac53dc32e4"
      },
      "execution_count": 2,
      "outputs": [
        {
          "output_type": "stream",
          "name": "stdout",
          "text": [
            "Five is greater than two!\n"
          ]
        }
      ]
    },
    {
      "cell_type": "code",
      "source": [
        "if 5 > 2:\n",
        "print(\"Five is greater than two!\")"
      ],
      "metadata": {
        "colab": {
          "base_uri": "https://localhost:8080/",
          "height": 106
        },
        "id": "6yBtajBlcJRf",
        "outputId": "feb0daf7-a350-4a13-8e8b-54c5ccdbed3d"
      },
      "execution_count": 3,
      "outputs": [
        {
          "output_type": "error",
          "ename": "IndentationError",
          "evalue": "expected an indented block after 'if' statement on line 1 (ipython-input-3793329317.py, line 2)",
          "traceback": [
            "\u001b[0;36m  File \u001b[0;32m\"/tmp/ipython-input-3793329317.py\"\u001b[0;36m, line \u001b[0;32m2\u001b[0m\n\u001b[0;31m    print(\"Five is greater than two!\")\u001b[0m\n\u001b[0m    ^\u001b[0m\n\u001b[0;31mIndentationError\u001b[0m\u001b[0;31m:\u001b[0m expected an indented block after 'if' statement on line 1\n"
          ]
        }
      ]
    },
    {
      "cell_type": "code",
      "source": [
        "if 5 > 2:\n",
        "        print(\"Five is greater than two!\")"
      ],
      "metadata": {
        "colab": {
          "base_uri": "https://localhost:8080/"
        },
        "id": "DQx0N-etcw7c",
        "outputId": "ae58eb91-a3ba-49c6-d0ea-091b3dcc9132"
      },
      "execution_count": 4,
      "outputs": [
        {
          "output_type": "stream",
          "name": "stdout",
          "text": [
            "Five is greater than two!\n"
          ]
        }
      ]
    },
    {
      "cell_type": "code",
      "source": [
        "if 5 > 2:\n",
        " print(\"Five is greater than two!\")\n",
        "        print(\"Five is greater than two!\")"
      ],
      "metadata": {
        "colab": {
          "base_uri": "https://localhost:8080/",
          "height": 106
        },
        "id": "ptpSlAqjc5Eq",
        "outputId": "4424b5b2-a01a-4195-96dd-b4d420d904ea"
      },
      "execution_count": 5,
      "outputs": [
        {
          "output_type": "error",
          "ename": "IndentationError",
          "evalue": "unexpected indent (ipython-input-3430240237.py, line 3)",
          "traceback": [
            "\u001b[0;36m  File \u001b[0;32m\"/tmp/ipython-input-3430240237.py\"\u001b[0;36m, line \u001b[0;32m3\u001b[0m\n\u001b[0;31m    print(\"Five is greater than two!\")\u001b[0m\n\u001b[0m    ^\u001b[0m\n\u001b[0;31mIndentationError\u001b[0m\u001b[0;31m:\u001b[0m unexpected indent\n"
          ]
        }
      ]
    },
    {
      "cell_type": "markdown",
      "source": [
        "## **Python Comments**\n",
        "\n",
        "Comments can be used to explain Python code.\n",
        "\n",
        "Comments can be used to make the code more readable.\n",
        "\n",
        "Comments can be used to prevent execution when testing code.\n",
        "\n",
        "\n",
        "\n",
        "**Creating a Comment**\n",
        "\n",
        "Comments starts with a #, and Python will ignore them"
      ],
      "metadata": {
        "id": "Ax59aFdOc-MS"
      }
    },
    {
      "cell_type": "code",
      "source": [
        "# Creating a Comment\n",
        "\n",
        "# Comments starts with a #, and Python will ignore them"
      ],
      "metadata": {
        "id": "bTdwj-MkdUEk"
      },
      "execution_count": null,
      "outputs": []
    },
    {
      "cell_type": "code",
      "source": [
        "#This is a comment\n",
        "print(\"Hello, World!\")"
      ],
      "metadata": {
        "colab": {
          "base_uri": "https://localhost:8080/"
        },
        "id": "34rFKW9XdYF6",
        "outputId": "fff36095-5ded-45df-a087-5c0773480e43"
      },
      "execution_count": 6,
      "outputs": [
        {
          "output_type": "stream",
          "name": "stdout",
          "text": [
            "Hello, World!\n"
          ]
        }
      ]
    },
    {
      "cell_type": "code",
      "source": [
        "# Comments can be placed at the end of a line, and Python will ignore the rest of the line:"
      ],
      "metadata": {
        "id": "Q1loE9_NdaQq"
      },
      "execution_count": null,
      "outputs": []
    },
    {
      "cell_type": "code",
      "source": [
        "print(\"Hello, World!\") #This is a comment\n"
      ],
      "metadata": {
        "colab": {
          "base_uri": "https://localhost:8080/"
        },
        "id": "zCnyyy7ydb09",
        "outputId": "9d697fe0-fc8e-4ddf-d95d-82cb02053c24"
      },
      "execution_count": 7,
      "outputs": [
        {
          "output_type": "stream",
          "name": "stdout",
          "text": [
            "Hello, World!\n"
          ]
        }
      ]
    },
    {
      "cell_type": "code",
      "source": [
        "#print(\"Hello, World!\")\n",
        "print(\"Cheers, Mate!\")"
      ],
      "metadata": {
        "colab": {
          "base_uri": "https://localhost:8080/"
        },
        "id": "lDvvlDStdfRK",
        "outputId": "8cb507e6-4599-4d25-fdb1-b07e85a7bb98"
      },
      "execution_count": 8,
      "outputs": [
        {
          "output_type": "stream",
          "name": "stdout",
          "text": [
            "Cheers, Mate!\n"
          ]
        }
      ]
    },
    {
      "cell_type": "markdown",
      "source": [
        "### **Multiline Comments**\n",
        "\n",
        "Python does not really have a syntax for multiline comments.\n",
        "\n",
        "To add a multiline comment you could insert a # for each line:"
      ],
      "metadata": {
        "id": "GK3YDD-vdhGx"
      }
    },
    {
      "cell_type": "code",
      "source": [
        "#This is a comment\n",
        "#written in\n",
        "#more than just one line\n",
        "print(\"Hello, World!\")"
      ],
      "metadata": {
        "colab": {
          "base_uri": "https://localhost:8080/"
        },
        "id": "nRuCuWNtdkRj",
        "outputId": "1fd7a1c1-916d-4589-a60e-6fbcf191ebcc"
      },
      "execution_count": 9,
      "outputs": [
        {
          "output_type": "stream",
          "name": "stdout",
          "text": [
            "Hello, World!\n"
          ]
        }
      ]
    },
    {
      "cell_type": "code",
      "source": [
        "\"\"\"\n",
        "This is a comment\n",
        "written in\n",
        "more than just one line\n",
        "\"\"\"\n",
        "print(\"Hello, World!\")"
      ],
      "metadata": {
        "colab": {
          "base_uri": "https://localhost:8080/"
        },
        "id": "patVXI_gdp3R",
        "outputId": "db464e44-8531-4706-cd19-4a7aca86632b"
      },
      "execution_count": 10,
      "outputs": [
        {
          "output_type": "stream",
          "name": "stdout",
          "text": [
            "Hello, World!\n"
          ]
        }
      ]
    },
    {
      "cell_type": "markdown",
      "source": [
        "## **Python Variables**"
      ],
      "metadata": {
        "id": "z5YJ1B24eR6K"
      }
    },
    {
      "cell_type": "markdown",
      "source": [
        "Variables are containers for storing data values.\n",
        "\n",
        "Creating Variables:\n",
        "Python has no command for declaring a variable.\n",
        "\n",
        "A variable is created the moment you first assign a value to it."
      ],
      "metadata": {
        "id": "mafx-lOdeZLY"
      }
    },
    {
      "cell_type": "code",
      "source": [
        "x = 5\n",
        "y = \"John\"\n",
        "print(x)\n",
        "print(y)"
      ],
      "metadata": {
        "colab": {
          "base_uri": "https://localhost:8080/"
        },
        "id": "l-y2Q6OQeRop",
        "outputId": "81018849-3ad7-4ede-8bfd-b74d60fe59a7"
      },
      "execution_count": 83,
      "outputs": [
        {
          "output_type": "stream",
          "name": "stdout",
          "text": [
            "5\n",
            "John\n"
          ]
        }
      ]
    },
    {
      "cell_type": "markdown",
      "source": [
        "Variables do not need to be declared with any particular type, and can even change type after they have been set."
      ],
      "metadata": {
        "id": "Kr-iHFlmexRx"
      }
    },
    {
      "cell_type": "code",
      "source": [
        "x = 4       # x is of type int\n",
        "x = \"Sally\" # x is now of type str\n",
        "print(x)"
      ],
      "metadata": {
        "colab": {
          "base_uri": "https://localhost:8080/"
        },
        "id": "J6n8xATlecOa",
        "outputId": "c47be7df-e1a6-4c0b-9241-af85144ede5d"
      },
      "execution_count": 84,
      "outputs": [
        {
          "output_type": "stream",
          "name": "stdout",
          "text": [
            "Sally\n"
          ]
        }
      ]
    },
    {
      "cell_type": "markdown",
      "source": [
        "### **Casting**\n",
        "\n",
        "If you want to specify the data type of a variable, this can be done with casting."
      ],
      "metadata": {
        "id": "X8gg0GxTe0VY"
      }
    },
    {
      "cell_type": "code",
      "source": [
        "x = str(3)\n",
        "y = int(3)\n",
        "z = float(3)\n",
        "\n",
        "print(x)\n",
        "print(y)\n",
        "print(z)"
      ],
      "metadata": {
        "colab": {
          "base_uri": "https://localhost:8080/"
        },
        "id": "awE6aKwhe4Qk",
        "outputId": "863d6cfa-ce4b-4dcf-aabb-bbab5e1d5a9e"
      },
      "execution_count": 85,
      "outputs": [
        {
          "output_type": "stream",
          "name": "stdout",
          "text": [
            "3\n",
            "3\n",
            "3.0\n"
          ]
        }
      ]
    },
    {
      "cell_type": "markdown",
      "source": [
        "**Get the Type:**\n",
        "\n",
        "You can get the data type of a variable with the type() function."
      ],
      "metadata": {
        "id": "aJpkS47AfEFw"
      }
    },
    {
      "cell_type": "code",
      "source": [
        "x = 5\n",
        "y = \"John\"\n",
        "print(type(x))\n",
        "print(type(y))"
      ],
      "metadata": {
        "colab": {
          "base_uri": "https://localhost:8080/"
        },
        "id": "BqOC45hle5B1",
        "outputId": "54166dc1-9c7e-452f-acd8-f7ea22db2362"
      },
      "execution_count": 86,
      "outputs": [
        {
          "output_type": "stream",
          "name": "stdout",
          "text": [
            "<class 'int'>\n",
            "<class 'str'>\n"
          ]
        }
      ]
    },
    {
      "cell_type": "markdown",
      "source": [
        "**Single or Double Quotes?**\n",
        "\n",
        "String variables can be declared either by using single or double quotes:"
      ],
      "metadata": {
        "id": "2n0-IPUqfKpb"
      }
    },
    {
      "cell_type": "code",
      "source": [
        "x = \"John\"\n",
        "# is the same as\n",
        "x = 'John'"
      ],
      "metadata": {
        "id": "nB2HQBVTfIWN"
      },
      "execution_count": 87,
      "outputs": []
    },
    {
      "cell_type": "markdown",
      "source": [
        "Case-Sensitive\n",
        "\n",
        "Variable names are case-sensitive."
      ],
      "metadata": {
        "id": "8b3zCeEXfN-5"
      }
    },
    {
      "cell_type": "code",
      "source": [
        "a = 4\n",
        "A = \"Sally\"\n",
        "#A will not overwrite a\n",
        "print(a)\n",
        "print(A)"
      ],
      "metadata": {
        "colab": {
          "base_uri": "https://localhost:8080/"
        },
        "id": "0S4cEQfqfQIo",
        "outputId": "fb4a03ab-fa84-4d53-a719-c6be40c756b6"
      },
      "execution_count": 88,
      "outputs": [
        {
          "output_type": "stream",
          "name": "stdout",
          "text": [
            "4\n",
            "Sally\n"
          ]
        }
      ]
    },
    {
      "cell_type": "markdown",
      "source": [
        "**Variable Names**\n",
        "\n",
        "A variable can have a short name (like x and y) or a more descriptive name (age, carname, total_volume).\n",
        "\n",
        "**Rules for Python variables:**\n",
        "\n",
        "1. A variable name must start with a letter or the underscore character\n",
        "2. A variable name cannot start with a number\n",
        "3. A variable name can only contain alpha-numeric characters and underscores (A-z, 0-9, and _ )\n",
        "4. Variable names are case-sensitive (age, Age and AGE are three different variables)\n",
        "5. A variable name cannot be any of the Python keywords."
      ],
      "metadata": {
        "id": "JErEq1O5fZd4"
      }
    },
    {
      "cell_type": "code",
      "source": [
        "# Legal Variable Names:\n",
        "\n",
        "myvar = \"John\"\n",
        "my_var = \"John\"\n",
        "_my_var = \"John\"\n",
        "myVar = \"John\"\n",
        "MYVAR = \"John\"\n",
        "myvar2 = \"John\""
      ],
      "metadata": {
        "id": "niiCVw-qfSYg"
      },
      "execution_count": 89,
      "outputs": []
    },
    {
      "cell_type": "code",
      "source": [
        "# Illegal Variable Names:\n",
        "\n",
        "2myvar = \"John\"\n",
        "my-var = \"John\"\n",
        "my var = \"John\""
      ],
      "metadata": {
        "colab": {
          "base_uri": "https://localhost:8080/",
          "height": 106
        },
        "id": "3Z2lztvLfkZA",
        "outputId": "48bd570f-fb88-4e81-83e5-608d5c3b7d20"
      },
      "execution_count": 90,
      "outputs": [
        {
          "output_type": "error",
          "ename": "SyntaxError",
          "evalue": "invalid decimal literal (ipython-input-675717240.py, line 3)",
          "traceback": [
            "\u001b[0;36m  File \u001b[0;32m\"/tmp/ipython-input-675717240.py\"\u001b[0;36m, line \u001b[0;32m3\u001b[0m\n\u001b[0;31m    2myvar = \"John\"\u001b[0m\n\u001b[0m    ^\u001b[0m\n\u001b[0;31mSyntaxError\u001b[0m\u001b[0;31m:\u001b[0m invalid decimal literal\n"
          ]
        }
      ]
    },
    {
      "cell_type": "markdown",
      "source": [
        "Variables are case - sensitive"
      ],
      "metadata": {
        "id": "86I7D7J3fqZo"
      }
    },
    {
      "cell_type": "markdown",
      "source": [
        "### **Python Variables - Assign Multiple Values**"
      ],
      "metadata": {
        "id": "be_AyM4UfuMo"
      }
    },
    {
      "cell_type": "code",
      "source": [
        "# Many Values to Multiple Variables\n",
        "# Python allows you to assign values to multiple variables in one line:\n",
        "\n",
        "x, y, z = \"Orange\", \"Banana\", \"Cherry\"\n",
        "print(x)\n",
        "print(y)\n",
        "print(z)"
      ],
      "metadata": {
        "colab": {
          "base_uri": "https://localhost:8080/"
        },
        "id": "HvEzZEzSfm5n",
        "outputId": "53f0cc21-294d-49e7-c2c2-babb59baa0f4"
      },
      "execution_count": 91,
      "outputs": [
        {
          "output_type": "stream",
          "name": "stdout",
          "text": [
            "Orange\n",
            "Banana\n",
            "Cherry\n"
          ]
        }
      ]
    },
    {
      "cell_type": "markdown",
      "source": [
        "**One Value to Multiple Variables:**\n",
        "\n",
        "And you can assign the same value to multiple variables in one line:\n",
        "\n"
      ],
      "metadata": {
        "id": "D2vkTagpf51Y"
      }
    },
    {
      "cell_type": "code",
      "source": [
        "x = y = z = \"Orange\"\n",
        "print(x)\n",
        "print(y)\n",
        "print(z)"
      ],
      "metadata": {
        "colab": {
          "base_uri": "https://localhost:8080/"
        },
        "id": "v9nIiaG0f1lg",
        "outputId": "1907cb00-dfeb-42d5-9ade-71cdf54d26e5"
      },
      "execution_count": 92,
      "outputs": [
        {
          "output_type": "stream",
          "name": "stdout",
          "text": [
            "Orange\n",
            "Orange\n",
            "Orange\n"
          ]
        }
      ]
    },
    {
      "cell_type": "markdown",
      "source": [
        "**Unpack a Collection:**\n",
        "\n",
        "If you have a collection of values in a list, tuple etc. Python allows you to extract the values into variables. This is called unpacking."
      ],
      "metadata": {
        "id": "t42BRE4BgApg"
      }
    },
    {
      "cell_type": "code",
      "source": [
        "#Unpaock a list:\n",
        "\n",
        "fruits = [\"apple\", \"banana\", \"cherry\"]\n",
        "x, y, z = fruits\n",
        "print(x)\n",
        "print(y)\n",
        "print(z)"
      ],
      "metadata": {
        "colab": {
          "base_uri": "https://localhost:8080/"
        },
        "id": "shgWAvzsfp7Z",
        "outputId": "a97883df-591f-446d-c7e3-cac0b67e5c21"
      },
      "execution_count": 93,
      "outputs": [
        {
          "output_type": "stream",
          "name": "stdout",
          "text": [
            "apple\n",
            "banana\n",
            "cherry\n"
          ]
        }
      ]
    },
    {
      "cell_type": "markdown",
      "source": [
        "**Output Variables**\n",
        "\n",
        "The Python print() function is often used to output variables."
      ],
      "metadata": {
        "id": "TWbroNj5gKkA"
      }
    },
    {
      "cell_type": "code",
      "source": [
        "x = \"Python is awesome\"\n",
        "print(x)\n"
      ],
      "metadata": {
        "colab": {
          "base_uri": "https://localhost:8080/"
        },
        "id": "XLG8QAXXgGdf",
        "outputId": "608769b4-a84e-44a3-e1cd-e8da6eb6ae7a"
      },
      "execution_count": 94,
      "outputs": [
        {
          "output_type": "stream",
          "name": "stdout",
          "text": [
            "Python is awesome\n"
          ]
        }
      ]
    },
    {
      "cell_type": "markdown",
      "source": [
        "In the print() function, you output multiple variables, separated by a comma:\n",
        "\n"
      ],
      "metadata": {
        "id": "d9LzSIBYgPWf"
      }
    },
    {
      "cell_type": "code",
      "source": [
        "x = \"Python\"\n",
        "y = \"is\"\n",
        "z = \"awesome\"\n",
        "print(x, y, z)"
      ],
      "metadata": {
        "colab": {
          "base_uri": "https://localhost:8080/"
        },
        "id": "VwlYjVmdgQt_",
        "outputId": "69133c22-d543-449d-8227-7d21ff60e5d5"
      },
      "execution_count": 95,
      "outputs": [
        {
          "output_type": "stream",
          "name": "stdout",
          "text": [
            "Python is awesome\n"
          ]
        }
      ]
    },
    {
      "cell_type": "markdown",
      "source": [
        "You can also use the + operator to output multiple variables:\n",
        "\n"
      ],
      "metadata": {
        "id": "EdnMfosAgTFP"
      }
    },
    {
      "cell_type": "code",
      "source": [
        "x = \"Python \"\n",
        "y = \"is \"\n",
        "z = \"awesome\"\n",
        "print(x + y + z)"
      ],
      "metadata": {
        "colab": {
          "base_uri": "https://localhost:8080/"
        },
        "id": "K5HKQwzFgT0f",
        "outputId": "344c22e9-e939-49ef-8f5e-c89e1d9967a5"
      },
      "execution_count": 96,
      "outputs": [
        {
          "output_type": "stream",
          "name": "stdout",
          "text": [
            "Python is awesome\n"
          ]
        }
      ]
    },
    {
      "cell_type": "markdown",
      "source": [
        "Notice the space character after \"Python \" and \"is \", without them the result would be \"Pythonisawesome\"."
      ],
      "metadata": {
        "id": "Lu1VtaqWgXEJ"
      }
    },
    {
      "cell_type": "code",
      "source": [
        "# For numbers, the + character works as a mathematical operator:\n",
        "\n",
        "x = 5\n",
        "y = 10\n",
        "print(x + y)"
      ],
      "metadata": {
        "colab": {
          "base_uri": "https://localhost:8080/"
        },
        "id": "bxy4lqtdgW23",
        "outputId": "3945b01e-b77f-4821-8c63-1d088c36071c"
      },
      "execution_count": 97,
      "outputs": [
        {
          "output_type": "stream",
          "name": "stdout",
          "text": [
            "15\n"
          ]
        }
      ]
    },
    {
      "cell_type": "markdown",
      "source": [
        "In the print() function, when you try to combine a string and a number with the + operator, Python will give you an error:"
      ],
      "metadata": {
        "id": "IvK_YR6PgcaI"
      }
    },
    {
      "cell_type": "code",
      "source": [
        "x = 5\n",
        "y = \"John\"\n",
        "print(x + y)"
      ],
      "metadata": {
        "colab": {
          "base_uri": "https://localhost:8080/",
          "height": 176
        },
        "id": "AOw-t3RMgd6o",
        "outputId": "8c8de8dd-0ba3-42d9-ceb5-3e6b041f34dc"
      },
      "execution_count": 98,
      "outputs": [
        {
          "output_type": "error",
          "ename": "TypeError",
          "evalue": "unsupported operand type(s) for +: 'int' and 'str'",
          "traceback": [
            "\u001b[0;31m---------------------------------------------------------------------------\u001b[0m",
            "\u001b[0;31mTypeError\u001b[0m                                 Traceback (most recent call last)",
            "\u001b[0;32m/tmp/ipython-input-1989821626.py\u001b[0m in \u001b[0;36m<cell line: 0>\u001b[0;34m()\u001b[0m\n\u001b[1;32m      1\u001b[0m \u001b[0mx\u001b[0m \u001b[0;34m=\u001b[0m \u001b[0;36m5\u001b[0m\u001b[0;34m\u001b[0m\u001b[0;34m\u001b[0m\u001b[0m\n\u001b[1;32m      2\u001b[0m \u001b[0my\u001b[0m \u001b[0;34m=\u001b[0m \u001b[0;34m\"John\"\u001b[0m\u001b[0;34m\u001b[0m\u001b[0;34m\u001b[0m\u001b[0m\n\u001b[0;32m----> 3\u001b[0;31m \u001b[0mprint\u001b[0m\u001b[0;34m(\u001b[0m\u001b[0mx\u001b[0m \u001b[0;34m+\u001b[0m \u001b[0my\u001b[0m\u001b[0;34m)\u001b[0m\u001b[0;34m\u001b[0m\u001b[0;34m\u001b[0m\u001b[0m\n\u001b[0m",
            "\u001b[0;31mTypeError\u001b[0m: unsupported operand type(s) for +: 'int' and 'str'"
          ]
        }
      ]
    },
    {
      "cell_type": "markdown",
      "source": [
        "The best way to output multiple variables in the print() function is to separate them with commas, which even support different data types:"
      ],
      "metadata": {
        "id": "afKwr7CRgfvH"
      }
    },
    {
      "cell_type": "code",
      "source": [
        "x = 5\n",
        "y = \"John\"\n",
        "print(x, y)"
      ],
      "metadata": {
        "id": "MRyK5GocghHJ"
      },
      "execution_count": null,
      "outputs": []
    },
    {
      "cell_type": "markdown",
      "source": [
        "**Global Variables**\n",
        "\n",
        "Variables that are created outside of a function (as in all of the examples in the previous pages) are known as global variables.\n",
        "\n",
        "Global variables can be used by everyone, both inside of functions and outside"
      ],
      "metadata": {
        "id": "jek5cMh1glX-"
      }
    },
    {
      "cell_type": "code",
      "source": [
        "# Create a variable outside of a function, and use it inside the function\n",
        "\n",
        "x = \"awesome\"\n",
        "\n",
        "def myfunc():\n",
        "  print(\"Python is \" + x)\n",
        "\n",
        "myfunc()\n"
      ],
      "metadata": {
        "colab": {
          "base_uri": "https://localhost:8080/"
        },
        "id": "cVqN_338gnxv",
        "outputId": "3ab596d7-c7d6-47fb-b3bf-5e64d1c80d6a"
      },
      "execution_count": 99,
      "outputs": [
        {
          "output_type": "stream",
          "name": "stdout",
          "text": [
            "Python is awesome\n"
          ]
        }
      ]
    },
    {
      "cell_type": "markdown",
      "source": [
        "If you create a variable with the same name inside a function, this variable will be local, and can only be used inside the function. The global variable with the same name will remain as it was, global and with the original value."
      ],
      "metadata": {
        "id": "_NzOz0g4gsen"
      }
    },
    {
      "cell_type": "code",
      "source": [
        "# Create a variable inside a function, with the same name as the global variable\n",
        "\n",
        "x = \"awesome\"\n",
        "\n",
        "def myfunc():\n",
        "  x = \"fantastic\"\n",
        "  print(\"Python is \" + x)\n",
        "\n",
        "myfunc()\n",
        "\n",
        "print(\"Python is \" + x)"
      ],
      "metadata": {
        "colab": {
          "base_uri": "https://localhost:8080/"
        },
        "id": "6dZYcBvigsUJ",
        "outputId": "7bb1c710-4345-490e-8b0d-6bc6520e4fdf"
      },
      "execution_count": 100,
      "outputs": [
        {
          "output_type": "stream",
          "name": "stdout",
          "text": [
            "Python is fantastic\n",
            "Python is awesome\n"
          ]
        }
      ]
    },
    {
      "cell_type": "markdown",
      "source": [
        "**The global Keyword**\n",
        "\n",
        "Normally, when you create a variable inside a function, that variable is local, and can only be used inside that function.\n",
        "\n",
        "To create a global variable inside a function, you can use the global keyword."
      ],
      "metadata": {
        "id": "v8R9DeE_g0pH"
      }
    },
    {
      "cell_type": "code",
      "source": [
        "#If you sue the global keyword, the variable belong to global scope:\n",
        "\n",
        "def myfunc():\n",
        "  global x\n",
        "  x = \"fantastic\"\n",
        "\n",
        "myfunc()\n",
        "\n",
        "print(\"Python is \" + x)"
      ],
      "metadata": {
        "colab": {
          "base_uri": "https://localhost:8080/"
        },
        "id": "GVnLxW2vg0aP",
        "outputId": "3a1827e9-64b8-4636-9a7a-c49685af9dcf"
      },
      "execution_count": 101,
      "outputs": [
        {
          "output_type": "stream",
          "name": "stdout",
          "text": [
            "Python is fantastic\n"
          ]
        }
      ]
    },
    {
      "cell_type": "markdown",
      "source": [
        "Also, use the global keyword if you want to change a global variable inside a function."
      ],
      "metadata": {
        "id": "9110VcQog_tQ"
      }
    },
    {
      "cell_type": "code",
      "source": [
        "# To change the value of a global variable inside a function, refer to the variable by using the global keyword:\n",
        "\n",
        "x = \"awesome\"\n",
        "\n",
        "def myfunc():\n",
        "  global x\n",
        "  x = \"fantastic\"\n",
        "\n",
        "myfunc()\n",
        "\n",
        "print(\"Python is \" + x)"
      ],
      "metadata": {
        "colab": {
          "base_uri": "https://localhost:8080/"
        },
        "id": "ahL9b-SegxYL",
        "outputId": "d8e5d2bb-efae-461d-868f-a1847824c77f"
      },
      "execution_count": 102,
      "outputs": [
        {
          "output_type": "stream",
          "name": "stdout",
          "text": [
            "Python is fantastic\n"
          ]
        }
      ]
    },
    {
      "cell_type": "markdown",
      "source": [
        "## **Data Types**\n",
        "\n"
      ],
      "metadata": {
        "id": "55IVHod3hBOP"
      }
    },
    {
      "cell_type": "markdown",
      "source": [
        "**Built-in Data Types**\n",
        "\n",
        "In programming, data type is an important concept.\n",
        "\n",
        "Variables can store data of different types, and different types can do different things.\n",
        "\n",
        "Python has the following data types built-in by default, in these categories:\n",
        "\n",
        "1. **Text Type**:\tstr\n",
        "2. **Numeric Types**:\tint, float, complex\n",
        "3. **Sequence Types**:\tlist, tuple, range\n",
        "4. **Mapping Type**:\tdict\n",
        "5. **Set Types**:\tset, frozenset\n",
        "6. **Boolean Type**:\tbool\n",
        "7. **Binary Types**:\tbytes, bytearray, memoryview\n",
        "8. **None Type**:\tNoneType\n",
        "\n",
        "\n",
        "**Getting the Data Type**\n",
        "\n",
        "You can get the data type of any object by using the type() function:"
      ],
      "metadata": {
        "id": "phsUYh81hNO_"
      }
    },
    {
      "cell_type": "code",
      "source": [
        "# Print the data type of the variable x:\n",
        "\n",
        "x = 5\n",
        "print(type(x))"
      ],
      "metadata": {
        "colab": {
          "base_uri": "https://localhost:8080/"
        },
        "id": "jArtlChMhM1u",
        "outputId": "0ad2520f-f0f9-467b-8681-3405370fcffe"
      },
      "execution_count": 35,
      "outputs": [
        {
          "output_type": "stream",
          "name": "stdout",
          "text": [
            "<class 'int'>\n"
          ]
        }
      ]
    },
    {
      "cell_type": "markdown",
      "source": [
        "**Setting the Data Type:**\n",
        "\n",
        "In Python, the data type is set when you assign a value to a variable:\n",
        "\n",
        "**Example\tData Type\tTry it**\n",
        "\n",
        "x = \"Hello World\"\t------ str\n",
        "x = 20\t------  int\n",
        "x = 20.5 ------\tfloat\n",
        "x = 1j\t ----- complex\n",
        "x = [\"apple\", \"banana\", \"cherry\"]\t----- list\n",
        "x = (\"apple\", \"banana\", \"cherry\")\t----- tuple\n",
        "x = range(6)\t------ range\n",
        "x = {\"name\" : \"John\", \"age\" : 36}\t---- dict\n",
        "x = {\"apple\", \"banana\", \"cherry\"}\t-------  set\n",
        "x = frozenset({\"apple\", \"banana\", \"cherry\"})\t------ frozenset\n",
        "x = True\t------- bool\n",
        "x = b\"Hello\"\t-------- bytes\n",
        "x = bytearray(5)\t------- bytearray\n",
        "x = memoryview(bytes(5))\t--------  memoryview\n",
        "x = None\t-----------  NoneType"
      ],
      "metadata": {
        "id": "dA892VWKiJqH"
      }
    },
    {
      "cell_type": "code",
      "source": [
        "\n"
      ],
      "metadata": {
        "id": "ONyPcn3jh6S2"
      },
      "execution_count": null,
      "outputs": []
    },
    {
      "cell_type": "markdown",
      "source": [
        "**Setting the Specific Data Type:**\n",
        "\n",
        "If you want to specify the data type, you can use the following constructor functions:\n",
        "\n",
        "x = str(\"Hello World\")\tstr\n",
        "x = int(20)\tint\n",
        "x = float(20.5)\tfloat\n",
        "x = complex(1j)\tcomplex\n",
        "x = list((\"apple\", \"banana\", \"cherry\"))\tlist\n",
        "x = tuple((\"apple\", \"banana\", \"cherry\"))\ttuple\n",
        "x = range(6)\trange\n",
        "x = dict(name=\"John\", age=36)\tdict\n",
        "x = set((\"apple\", \"banana\", \"cherry\"))\tset\n",
        "x = frozenset((\"apple\", \"banana\", \"cherry\"))\tfrozenset\n",
        "x = bool(5)\tbool\n",
        "x = bytes(5)\tbytes\n",
        "x = bytearray(5)\tbytearray\n",
        "x = memoryview(bytes(5))\tmemoryview"
      ],
      "metadata": {
        "id": "rNPau3PIinSG"
      }
    },
    {
      "cell_type": "markdown",
      "source": [
        "## **Python Numbers**"
      ],
      "metadata": {
        "id": "cMBzUnoeiuBo"
      }
    },
    {
      "cell_type": "markdown",
      "source": [
        "Python Numbers:\n",
        "\n",
        "There are three numeric types in Python:\n",
        "\n",
        "int\n",
        "float\n",
        "complex\n",
        "\n",
        "Variables of numeric types are created when you assign a value to them:\n",
        "\n"
      ],
      "metadata": {
        "id": "z4keNZ4kix1u"
      }
    },
    {
      "cell_type": "code",
      "source": [
        "x = 1\n",
        "y = 2.8\n",
        "z = 1j\n",
        "\n",
        "print(type(x))\n",
        "print(type(y))\n",
        "print(type(z))"
      ],
      "metadata": {
        "colab": {
          "base_uri": "https://localhost:8080/"
        },
        "id": "lsmqKwGTi1oH",
        "outputId": "56442236-a4e1-4c22-e459-f46662338fb0"
      },
      "execution_count": 38,
      "outputs": [
        {
          "output_type": "stream",
          "name": "stdout",
          "text": [
            "<class 'int'>\n",
            "<class 'float'>\n",
            "<class 'complex'>\n"
          ]
        }
      ]
    },
    {
      "cell_type": "markdown",
      "source": [
        "**Int**\n",
        "\n",
        "Int, or integer, is a whole number, positive or negative, without decimals, of unlimited length."
      ],
      "metadata": {
        "id": "LL5zD0eCjNF9"
      }
    },
    {
      "cell_type": "code",
      "source": [
        "x = 1\n",
        "y = 35656222554887711\n",
        "z = -3255522\n",
        "\n",
        "print(type(x))\n",
        "print(type(y))\n",
        "print(type(z))"
      ],
      "metadata": {
        "colab": {
          "base_uri": "https://localhost:8080/"
        },
        "id": "uVzeGVX8i6-H",
        "outputId": "57f82319-e517-4bda-985f-af71f8476b36"
      },
      "execution_count": 39,
      "outputs": [
        {
          "output_type": "stream",
          "name": "stdout",
          "text": [
            "<class 'int'>\n",
            "<class 'int'>\n",
            "<class 'int'>\n"
          ]
        }
      ]
    },
    {
      "cell_type": "markdown",
      "source": [
        "**Float**\n",
        "\n",
        "Float, or \"floating point number\" is a number, positive or negative, containing one or more decimals"
      ],
      "metadata": {
        "id": "aFAaR9odjRh9"
      }
    },
    {
      "cell_type": "code",
      "source": [
        "x = 1.10\n",
        "y = 1.0\n",
        "z = -35.59\n",
        "\n",
        "print(type(x))\n",
        "print(type(y))\n",
        "print(type(z))"
      ],
      "metadata": {
        "colab": {
          "base_uri": "https://localhost:8080/"
        },
        "id": "vu5XPW52jTxN",
        "outputId": "a9ceece1-10dc-4187-fae0-2ca3ce6a60b6"
      },
      "execution_count": 40,
      "outputs": [
        {
          "output_type": "stream",
          "name": "stdout",
          "text": [
            "<class 'float'>\n",
            "<class 'float'>\n",
            "<class 'float'>\n"
          ]
        }
      ]
    },
    {
      "cell_type": "markdown",
      "source": [
        "Float can also be scientific numbers with an \"e\" to indicate the power of 10.\n",
        "\n"
      ],
      "metadata": {
        "id": "SRUQF95CjVY-"
      }
    },
    {
      "cell_type": "code",
      "source": [
        "x = 35e3\n",
        "y = 12E4\n",
        "z = -87.7e100\n",
        "\n",
        "print(type(x))\n",
        "print(type(y))\n",
        "print(type(z))"
      ],
      "metadata": {
        "colab": {
          "base_uri": "https://localhost:8080/"
        },
        "id": "4VBTqw4jjWH1",
        "outputId": "6eaa99a7-5298-43d5-dda4-e41def117dd7"
      },
      "execution_count": 41,
      "outputs": [
        {
          "output_type": "stream",
          "name": "stdout",
          "text": [
            "<class 'float'>\n",
            "<class 'float'>\n",
            "<class 'float'>\n"
          ]
        }
      ]
    },
    {
      "cell_type": "markdown",
      "source": [
        "**Complex**\n",
        "\n",
        "Complex numbers are written with a \"j\" as the imaginary part:"
      ],
      "metadata": {
        "id": "MLxoIwmdjVI1"
      }
    },
    {
      "cell_type": "code",
      "source": [
        "x = 3+5j\n",
        "y = 5j\n",
        "z = -5j\n",
        "\n",
        "print(type(x))\n",
        "print(type(y))\n",
        "print(type(z))"
      ],
      "metadata": {
        "colab": {
          "base_uri": "https://localhost:8080/"
        },
        "id": "PxfkUXzujaVF",
        "outputId": "14032676-013b-47bd-8853-6efb83e6b6bd"
      },
      "execution_count": 42,
      "outputs": [
        {
          "output_type": "stream",
          "name": "stdout",
          "text": [
            "<class 'complex'>\n",
            "<class 'complex'>\n",
            "<class 'complex'>\n"
          ]
        }
      ]
    },
    {
      "cell_type": "markdown",
      "source": [
        "**Type Conversion**\n",
        "\n",
        "You can convert from one type to another with the int(), float(), and complex() methods:"
      ],
      "metadata": {
        "id": "9pTmJD_wjdD0"
      }
    },
    {
      "cell_type": "code",
      "source": [
        "# Convert from one type to another:\n",
        "\n",
        "x = 1    # int\n",
        "y = 2.8  # float\n",
        "z = 1j   # complex\n",
        "\n",
        "#convert from int to float:\n",
        "a = float(x)\n",
        "\n",
        "#convert from float to int:\n",
        "b = int(y)\n",
        "\n",
        "#convert from int to complex:\n",
        "c = complex(x)\n",
        "\n",
        "print(a)\n",
        "print(b)\n",
        "print(c)\n",
        "\n",
        "print(type(a))\n",
        "print(type(b))\n",
        "print(type(c))"
      ],
      "metadata": {
        "colab": {
          "base_uri": "https://localhost:8080/"
        },
        "id": "Hcdi42XWjfHX",
        "outputId": "99e081af-e6f6-4267-c00d-6aa5233c3846"
      },
      "execution_count": 43,
      "outputs": [
        {
          "output_type": "stream",
          "name": "stdout",
          "text": [
            "1.0\n",
            "2\n",
            "(1+0j)\n",
            "<class 'float'>\n",
            "<class 'int'>\n",
            "<class 'complex'>\n"
          ]
        }
      ]
    },
    {
      "cell_type": "markdown",
      "source": [
        "Note: You cannot convert complex numbers into another number type.\n",
        "\n"
      ],
      "metadata": {
        "id": "5aCFtdfSjp8t"
      }
    },
    {
      "cell_type": "markdown",
      "source": [
        "**Random Number:**\n",
        "\n",
        "Python does not have a random() function to make a random number, but Python has a built-in module called random that can be used to make random numbers:"
      ],
      "metadata": {
        "id": "Za9KQQbNjsJu"
      }
    },
    {
      "cell_type": "code",
      "source": [
        "import random\n",
        "\n",
        "print(random.randrange(1, 10))"
      ],
      "metadata": {
        "colab": {
          "base_uri": "https://localhost:8080/"
        },
        "id": "pQNshTLfjqqf",
        "outputId": "d2216002-1750-4e21-f1cb-0444ded9fe46"
      },
      "execution_count": 44,
      "outputs": [
        {
          "output_type": "stream",
          "name": "stdout",
          "text": [
            "6\n"
          ]
        }
      ]
    },
    {
      "cell_type": "markdown",
      "source": [
        "## **Python Casting**"
      ],
      "metadata": {
        "id": "cbSsnU8ZjxBO"
      }
    },
    {
      "cell_type": "markdown",
      "source": [
        "**Specify a Variable Type**\n",
        "\n",
        "There may be times when you want to specify a type on to a variable. This can be done with casting.\n",
        "\n",
        "Python is an object-orientated language, and as such it uses classes to define data types, including its primitive types.\n",
        "\n",
        "**Casting in python is therefore done using constructor functions:**\n",
        "\n",
        "1. int() - constructs an integer number from an integer literal, a float literal (by removing all decimals), or a string literal (providing the string represents a whole number)\n",
        "\n",
        "2. float() - constructs a float number from an integer literal, a float literal or a string literal (providing the string represents a float or an integer)\n",
        "\n",
        "3. str() - constructs a string from a wide variety of data types, including strings, integer literals and float literals"
      ],
      "metadata": {
        "id": "heP4rduTjzJF"
      }
    },
    {
      "cell_type": "code",
      "source": [
        "# Integers\n",
        "\n",
        "x = int(1)\n",
        "y = int(2.8)\n",
        "z = int(\"3\")\n",
        "\n",
        "print(x)\n",
        "print(y)\n",
        "print(z)"
      ],
      "metadata": {
        "colab": {
          "base_uri": "https://localhost:8080/"
        },
        "id": "OK9dd5MBjy1F",
        "outputId": "bfec75ef-79e0-4b14-b5ab-0f3c6c0e3c07"
      },
      "execution_count": 47,
      "outputs": [
        {
          "output_type": "stream",
          "name": "stdout",
          "text": [
            "1\n",
            "2\n",
            "3\n"
          ]
        }
      ]
    },
    {
      "cell_type": "code",
      "source": [
        "# Float\n",
        "x = float(1)\n",
        "y = float(2.8)\n",
        "z = float(\"3\")\n",
        "w = float(\"4.2\")\n",
        "\n",
        "print(x)\n",
        "print(y)\n",
        "print(z)\n",
        "print(w)\n"
      ],
      "metadata": {
        "colab": {
          "base_uri": "https://localhost:8080/"
        },
        "id": "LUPnhn9RkEsV",
        "outputId": "a16427a6-d066-457b-dc2a-e208302938d1"
      },
      "execution_count": 48,
      "outputs": [
        {
          "output_type": "stream",
          "name": "stdout",
          "text": [
            "1.0\n",
            "2.8\n",
            "3.0\n",
            "4.2\n"
          ]
        }
      ]
    },
    {
      "cell_type": "code",
      "source": [
        "# Strings\n",
        "\n",
        "x = str(\"s1\")\n",
        "y = str(2)\n",
        "z = str(3.0)\n",
        "\n",
        "print(x)\n",
        "print(y)\n",
        "print(z)"
      ],
      "metadata": {
        "colab": {
          "base_uri": "https://localhost:8080/"
        },
        "id": "295FNnHjkPx9",
        "outputId": "b32fdf20-38ef-433f-de4c-08597463d347"
      },
      "execution_count": 49,
      "outputs": [
        {
          "output_type": "stream",
          "name": "stdout",
          "text": [
            "s1\n",
            "2\n",
            "3.0\n"
          ]
        }
      ]
    },
    {
      "cell_type": "markdown",
      "source": [
        "## **Python Strings**"
      ],
      "metadata": {
        "id": "4J0EXAkIkb2N"
      }
    },
    {
      "cell_type": "markdown",
      "source": [
        "**Strings**\n",
        "\n",
        "Strings in python are surrounded by either single quotation marks, or double quotation marks.\n",
        "\n",
        "'hello' is the same as \"hello\".\n",
        "\n",
        "You can display a string literal with the print() function:"
      ],
      "metadata": {
        "id": "1XM-7h49kfrM"
      }
    },
    {
      "cell_type": "code",
      "source": [
        "print(\"Hello\")\n",
        "print('Hello')"
      ],
      "metadata": {
        "colab": {
          "base_uri": "https://localhost:8080/"
        },
        "id": "jEPCb90Gkh6U",
        "outputId": "d3257759-41c0-40b8-f215-b035fd6648fc"
      },
      "execution_count": 50,
      "outputs": [
        {
          "output_type": "stream",
          "name": "stdout",
          "text": [
            "Hello\n",
            "Hello\n"
          ]
        }
      ]
    },
    {
      "cell_type": "markdown",
      "source": [
        "**Quotes Inside Quotes:**\n",
        "\n",
        "You can use quotes inside a string, as long as they don't match the quotes surrounding the string:"
      ],
      "metadata": {
        "id": "ei61I5TmkjxU"
      }
    },
    {
      "cell_type": "code",
      "source": [
        "print(\"It's alright\")\n",
        "print(\"He is called 'Johnny'\")\n",
        "print('He is called \"Johnny\"')"
      ],
      "metadata": {
        "colab": {
          "base_uri": "https://localhost:8080/"
        },
        "id": "YQFFnnvmkl_u",
        "outputId": "c1b5dc21-ed9c-4f5e-f21c-180b41c1263b"
      },
      "execution_count": 51,
      "outputs": [
        {
          "output_type": "stream",
          "name": "stdout",
          "text": [
            "It's alright\n",
            "He is called 'Johnny'\n",
            "He is called \"Johnny\"\n"
          ]
        }
      ]
    },
    {
      "cell_type": "markdown",
      "source": [
        "**Assign String to a Variable:**\n",
        "\n",
        "\n",
        "Assigning a string to a variable is done with the variable name followed by an equal sign and the string:"
      ],
      "metadata": {
        "id": "5Y1siUyKkoH0"
      }
    },
    {
      "cell_type": "code",
      "source": [
        "a = \"Hello\"\n",
        "print(a)"
      ],
      "metadata": {
        "colab": {
          "base_uri": "https://localhost:8080/"
        },
        "id": "2olGqYffkpoU",
        "outputId": "693bb157-154c-4adc-c1c4-2c5d5f43aa9b"
      },
      "execution_count": 52,
      "outputs": [
        {
          "output_type": "stream",
          "name": "stdout",
          "text": [
            "Hello\n"
          ]
        }
      ]
    },
    {
      "cell_type": "markdown",
      "source": [
        "**Multiline Strings:**\n",
        "\n",
        "You can assign a multiline string to a variable by using three quotes:"
      ],
      "metadata": {
        "id": "Q2jYiVhnkrSE"
      }
    },
    {
      "cell_type": "code",
      "source": [
        "# You can use three double quotes:\n",
        "\n",
        "a = \"\"\"Lorem ipsum dolor sit amet,\n",
        "consectetur adipiscing elit,\n",
        "sed do eiusmod tempor incididunt\n",
        "ut labore et dolore magna aliqua.\"\"\"\n",
        "\n",
        "\n",
        "print(a)"
      ],
      "metadata": {
        "colab": {
          "base_uri": "https://localhost:8080/"
        },
        "id": "6aCzDeATktKk",
        "outputId": "902f3279-70b8-45ba-9c22-a98d754b9279"
      },
      "execution_count": 54,
      "outputs": [
        {
          "output_type": "stream",
          "name": "stdout",
          "text": [
            "Lorem ipsum dolor sit amet,\n",
            "consectetur adipiscing elit,\n",
            "sed do eiusmod tempor incididunt\n",
            "ut labore et dolore magna aliqua.\n"
          ]
        }
      ]
    },
    {
      "cell_type": "code",
      "source": [
        "# Or three single quotes:\n",
        "\n",
        "a = '''Lorem ipsum dolor sit amet,\n",
        "consectetur adipiscing elit,\n",
        "sed do eiusmod tempor incididunt\n",
        "ut labore et dolore magna aliqua.'''\n",
        "\n",
        "print(a)"
      ],
      "metadata": {
        "colab": {
          "base_uri": "https://localhost:8080/"
        },
        "id": "C5OJn1Jnk4Nb",
        "outputId": "68e75edc-43bd-4a3f-c7df-5f2a2e67e10e"
      },
      "execution_count": 57,
      "outputs": [
        {
          "output_type": "stream",
          "name": "stdout",
          "text": [
            "Lorem ipsum dolor sit amet,\n",
            "consectetur adipiscing elit,\n",
            "sed do eiusmod tempor incididunt\n",
            "ut labore et dolore magna aliqua.\n"
          ]
        }
      ]
    },
    {
      "cell_type": "markdown",
      "source": [
        "Note: in the result, the line breaks are inserted at the same position as in the code."
      ],
      "metadata": {
        "id": "lsyt7LX1lCWT"
      }
    },
    {
      "cell_type": "markdown",
      "source": [
        "**Strings are Arrays**\n",
        "\n",
        "Like many other popular programming languages, strings in Python are arrays of unicode characters.\n",
        "\n",
        "However, Python does not have a character data type, a single character is simply a string with a length of 1.\n",
        "\n",
        "Square brackets can be used to access elements of the string."
      ],
      "metadata": {
        "id": "AJta8wLvlC78"
      }
    },
    {
      "cell_type": "code",
      "source": [
        "# Get the character at position 1 (remember that the first character has the position 0):\n",
        "\n",
        "a = \"Hello, World!\"\n",
        "print(a[1])"
      ],
      "metadata": {
        "colab": {
          "base_uri": "https://localhost:8080/"
        },
        "id": "AgQE3efvlHsu",
        "outputId": "3e64de57-87f3-42f0-f73c-b3cf575517dc"
      },
      "execution_count": 58,
      "outputs": [
        {
          "output_type": "stream",
          "name": "stdout",
          "text": [
            "e\n"
          ]
        }
      ]
    },
    {
      "cell_type": "markdown",
      "source": [
        "**Looping Through a String:**\n",
        "\n",
        "Since strings are arrays, we can loop through the characters in a string, with a for loop."
      ],
      "metadata": {
        "id": "_4zHv5DzlL3z"
      }
    },
    {
      "cell_type": "code",
      "source": [
        "# Loop through the letters in the word \"banana\":\n",
        "\n",
        "for x in \"banana\":\n",
        "  print(x)"
      ],
      "metadata": {
        "colab": {
          "base_uri": "https://localhost:8080/"
        },
        "id": "X8_7AmWZlPEe",
        "outputId": "777d2bd7-5b69-4a42-e133-c1bbb8cd8496"
      },
      "execution_count": 59,
      "outputs": [
        {
          "output_type": "stream",
          "name": "stdout",
          "text": [
            "b\n",
            "a\n",
            "n\n",
            "a\n",
            "n\n",
            "a\n"
          ]
        }
      ]
    },
    {
      "cell_type": "markdown",
      "source": [
        "**String Length**\n",
        "\n",
        "To get the length of a string, use the len() function"
      ],
      "metadata": {
        "id": "R5UUFeP2lS4j"
      }
    },
    {
      "cell_type": "code",
      "source": [
        "# The len() function returns the length of a string:\n",
        "\n",
        "a = \"Hello, World!\"\n",
        "print(len(a))"
      ],
      "metadata": {
        "colab": {
          "base_uri": "https://localhost:8080/"
        },
        "id": "q0n_8cJelP98",
        "outputId": "0fe998b8-27e3-4739-8c09-16935819027c"
      },
      "execution_count": 60,
      "outputs": [
        {
          "output_type": "stream",
          "name": "stdout",
          "text": [
            "13\n"
          ]
        }
      ]
    },
    {
      "cell_type": "markdown",
      "source": [
        "**Check String:**\n",
        "\n",
        "To check if a certain phrase or character is present in a string, we can use the keyword in."
      ],
      "metadata": {
        "id": "uTE-kPX-lW-s"
      }
    },
    {
      "cell_type": "code",
      "source": [
        "# Check if \"free\" is present in the following text:\n",
        "\n",
        "txt = \"The best things in life are free!\"\n",
        "print(\"free\" in txt)"
      ],
      "metadata": {
        "colab": {
          "base_uri": "https://localhost:8080/"
        },
        "id": "R7YpilzdlYnj",
        "outputId": "6082cf08-0e45-4873-cb6f-24f875ed239b"
      },
      "execution_count": 61,
      "outputs": [
        {
          "output_type": "stream",
          "name": "stdout",
          "text": [
            "True\n"
          ]
        }
      ]
    },
    {
      "cell_type": "markdown",
      "source": [
        "**Use it in an if statement:**"
      ],
      "metadata": {
        "id": "op5YgkSXlciL"
      }
    },
    {
      "cell_type": "code",
      "source": [
        "# Print only if \"free\" is present:\n",
        "\n",
        "txt = \"The best things in life are free!\"\n",
        "if \"free\" in txt:\n",
        "  print(\"Yes, 'free' is present.\")"
      ],
      "metadata": {
        "colab": {
          "base_uri": "https://localhost:8080/"
        },
        "id": "pS8R3fH7laME",
        "outputId": "4eeea8ef-3194-418a-b73a-7a0304d602db"
      },
      "execution_count": 62,
      "outputs": [
        {
          "output_type": "stream",
          "name": "stdout",
          "text": [
            "Yes, 'free' is present.\n"
          ]
        }
      ]
    },
    {
      "cell_type": "markdown",
      "source": [
        "**Check if NOT:**\n",
        "\n",
        "To check if a certain phrase or character is NOT present in a string, we can use the keyword not in."
      ],
      "metadata": {
        "id": "XBpdlM6glh0c"
      }
    },
    {
      "cell_type": "code",
      "source": [
        "# Check if \"expensive\" is NOT present in the following text:\n",
        "\n",
        "txt = \"The best things in life are free!\"\n",
        "print(\"expensive\" not in txt)"
      ],
      "metadata": {
        "colab": {
          "base_uri": "https://localhost:8080/"
        },
        "id": "g9_1_hv6ljtj",
        "outputId": "a49eae33-48eb-4392-9561-ac7570687c83"
      },
      "execution_count": 63,
      "outputs": [
        {
          "output_type": "stream",
          "name": "stdout",
          "text": [
            "True\n"
          ]
        }
      ]
    },
    {
      "cell_type": "markdown",
      "source": [
        "**Use it in an if statement:**\n",
        "\n",
        "\n"
      ],
      "metadata": {
        "id": "3MhtcaaolmvL"
      }
    },
    {
      "cell_type": "code",
      "source": [
        "# print only if \"expensive\" is NOT present:\n",
        "\n",
        "txt = \"The best things in life are free!\"\n",
        "if \"expensive\" not in txt:\n",
        "  print(\"No, 'expensive' is NOT present.\")"
      ],
      "metadata": {
        "colab": {
          "base_uri": "https://localhost:8080/"
        },
        "id": "Y3HYvPtwloZj",
        "outputId": "d0acb530-eef6-4186-f3d2-33d610eba3e2"
      },
      "execution_count": 64,
      "outputs": [
        {
          "output_type": "stream",
          "name": "stdout",
          "text": [
            "No, 'expensive' is NOT present.\n"
          ]
        }
      ]
    },
    {
      "cell_type": "markdown",
      "source": [
        "**Python - Slicing Strings**"
      ],
      "metadata": {
        "id": "gjNHsyqZl2YT"
      }
    },
    {
      "cell_type": "markdown",
      "source": [
        "**Slicing**\n",
        "\n",
        "You can return a range of characters by using the slice syntax.\n",
        "\n",
        "Specify the start index and the end index, separated by a colon, to return a part of the string."
      ],
      "metadata": {
        "id": "gjk8WIpZl5Y8"
      }
    },
    {
      "cell_type": "code",
      "source": [
        "# Get the characters from position 2 to position 5 (not included):\n",
        "\n",
        "b = \"Hello, World!\"\n",
        "print(b[2:5])"
      ],
      "metadata": {
        "colab": {
          "base_uri": "https://localhost:8080/"
        },
        "id": "VRXvhfHgl4vb",
        "outputId": "9077d6b6-ad1d-449d-def7-62d0255a75e5"
      },
      "execution_count": 65,
      "outputs": [
        {
          "output_type": "stream",
          "name": "stdout",
          "text": [
            "llo\n"
          ]
        }
      ]
    },
    {
      "cell_type": "markdown",
      "source": [
        "Note: The first character has index 0.\n",
        "\n"
      ],
      "metadata": {
        "id": "FUx_td9ol5AT"
      }
    },
    {
      "cell_type": "markdown",
      "source": [
        "**Slice From the Start:**\n",
        "\n",
        "By leaving out the start index, the range will start at the first character:"
      ],
      "metadata": {
        "id": "CTmzFCxHmAV1"
      }
    },
    {
      "cell_type": "code",
      "source": [
        "# Get the characters from the start to position 5 (not included):\n",
        "\n",
        "b = \"Hello, World!\"\n",
        "print(b[:5])"
      ],
      "metadata": {
        "colab": {
          "base_uri": "https://localhost:8080/"
        },
        "id": "YbY9Di_GmEcz",
        "outputId": "32e855da-9766-4bb0-f970-622fda39575b"
      },
      "execution_count": 66,
      "outputs": [
        {
          "output_type": "stream",
          "name": "stdout",
          "text": [
            "Hello\n"
          ]
        }
      ]
    },
    {
      "cell_type": "markdown",
      "source": [
        "**Slice To the End**\n",
        "\n",
        "By leaving out the end index, the range will go to the end:"
      ],
      "metadata": {
        "id": "-WsbW_IzmHKD"
      }
    },
    {
      "cell_type": "code",
      "source": [
        "# Get the characters from position 2, and all the way to the end:\n",
        "\n",
        "b = \"Hello, World!\"\n",
        "print(b[2:])"
      ],
      "metadata": {
        "colab": {
          "base_uri": "https://localhost:8080/"
        },
        "id": "k3UtyYZ0mFbR",
        "outputId": "edc94e3c-65f6-43ae-e959-4dccc07a93fd"
      },
      "execution_count": 67,
      "outputs": [
        {
          "output_type": "stream",
          "name": "stdout",
          "text": [
            "llo, World!\n"
          ]
        }
      ]
    },
    {
      "cell_type": "markdown",
      "source": [
        "**Negative Indexing**\n",
        "\n",
        "Use negative indexes to start the slice from the end of the string:"
      ],
      "metadata": {
        "id": "_EE16ao5mK7U"
      }
    },
    {
      "cell_type": "code",
      "source": [
        "#Get the characters:\n",
        "\n",
        "#From: \"o\" in \"World!\" (position -5)\n",
        "\n",
        "#To, but not included: \"d\" in \"World!\" (position -2):\n",
        "\n",
        "b = \"Hello, World!\"\n",
        "print(b[-5:-2])"
      ],
      "metadata": {
        "colab": {
          "base_uri": "https://localhost:8080/"
        },
        "id": "FOvtP_hXmL3s",
        "outputId": "39b0a431-9d93-46a4-c112-de49a67aca63"
      },
      "execution_count": 68,
      "outputs": [
        {
          "output_type": "stream",
          "name": "stdout",
          "text": [
            "orl\n"
          ]
        }
      ]
    },
    {
      "cell_type": "markdown",
      "source": [
        "**Python - Modify Strings**\n"
      ],
      "metadata": {
        "id": "xTZ29GFYmYfz"
      }
    },
    {
      "cell_type": "markdown",
      "source": [
        "Python has a set of built-in methods that you can use on strings.\n",
        "\n"
      ],
      "metadata": {
        "id": "jdPITKRAmZ9y"
      }
    },
    {
      "cell_type": "markdown",
      "source": [
        "**Upper Case**"
      ],
      "metadata": {
        "id": "Li5wtLfGmcDk"
      }
    },
    {
      "cell_type": "code",
      "source": [
        "# The upper() method returns the string in upper case:\n",
        "\n",
        "a = \"Hello, World!\"\n",
        "print(a.upper())"
      ],
      "metadata": {
        "colab": {
          "base_uri": "https://localhost:8080/"
        },
        "id": "cUL0VYuQmdvr",
        "outputId": "69a7db1b-4987-4bcc-fb44-7b4309732596"
      },
      "execution_count": 69,
      "outputs": [
        {
          "output_type": "stream",
          "name": "stdout",
          "text": [
            "HELLO, WORLD!\n"
          ]
        }
      ]
    },
    {
      "cell_type": "markdown",
      "source": [
        "**Lower Case**"
      ],
      "metadata": {
        "id": "FZpAaK4zmieT"
      }
    },
    {
      "cell_type": "code",
      "source": [
        "#The lower() method returns the string in lower case:\n",
        "\n",
        "a = \"Hello, World!\"\n",
        "print(a.lower())"
      ],
      "metadata": {
        "colab": {
          "base_uri": "https://localhost:8080/"
        },
        "id": "caWZE5d3mQg0",
        "outputId": "57990cbd-8d7b-49cb-abab-d4633eb886f3"
      },
      "execution_count": 70,
      "outputs": [
        {
          "output_type": "stream",
          "name": "stdout",
          "text": [
            "hello, world!\n"
          ]
        }
      ]
    },
    {
      "cell_type": "markdown",
      "source": [
        "**Remove Whitespace**\n",
        "\n",
        "Whitespace is the space before and/or after the actual text, and very often you want to remove this space"
      ],
      "metadata": {
        "id": "HmuDYmU4mmrM"
      }
    },
    {
      "cell_type": "code",
      "source": [
        "# The strip() method removes any whitespace from the beginning or the end:\n",
        "\n",
        "a = \" Hello, World! \"\n",
        "print(a.strip()) # returns \"Hello, World!\""
      ],
      "metadata": {
        "colab": {
          "base_uri": "https://localhost:8080/"
        },
        "id": "PvylW7PVmkoB",
        "outputId": "c6bbbbff-0081-43cc-80c5-eb2126c2b143"
      },
      "execution_count": 71,
      "outputs": [
        {
          "output_type": "stream",
          "name": "stdout",
          "text": [
            "Hello, World!\n"
          ]
        }
      ]
    },
    {
      "cell_type": "markdown",
      "source": [
        "**Replace String**"
      ],
      "metadata": {
        "id": "AWW1UIosmq-K"
      }
    },
    {
      "cell_type": "code",
      "source": [
        "# The replace() method replaces a string with another string:\n",
        "\n",
        "a = \"Hello, World!\"\n",
        "print(a.replace(\"H\", \"J\"))"
      ],
      "metadata": {
        "colab": {
          "base_uri": "https://localhost:8080/"
        },
        "id": "MotSvbh9mtOr",
        "outputId": "755b614c-acb3-4ce0-8bdd-0e39247691e9"
      },
      "execution_count": 72,
      "outputs": [
        {
          "output_type": "stream",
          "name": "stdout",
          "text": [
            "Jello, World!\n"
          ]
        }
      ]
    },
    {
      "cell_type": "markdown",
      "source": [
        "**Split String:**\n",
        "\n",
        "The split() method returns a list where the text between the specified separator becomes the list items."
      ],
      "metadata": {
        "id": "4_ntOpWimwi6"
      }
    },
    {
      "cell_type": "code",
      "source": [
        "#The split() method splits the string into substrings if it finds instances of the separator:\n",
        "\n",
        "a = \"Hello, World!\"\n",
        "print(a.split(\",\"))"
      ],
      "metadata": {
        "colab": {
          "base_uri": "https://localhost:8080/"
        },
        "id": "hWnXtPYymxzS",
        "outputId": "fac168f8-0da1-4378-c83f-e5821af22eaf"
      },
      "execution_count": 73,
      "outputs": [
        {
          "output_type": "stream",
          "name": "stdout",
          "text": [
            "['Hello', ' World!']\n"
          ]
        }
      ]
    },
    {
      "cell_type": "markdown",
      "source": [
        "**Python - String Concatenation**"
      ],
      "metadata": {
        "id": "stGSBoJEnCyy"
      }
    },
    {
      "cell_type": "markdown",
      "source": [
        "**String Concatenation:**\n",
        "\n",
        "To concatenate, or combine, two strings you can use the + operator."
      ],
      "metadata": {
        "id": "BV2A5tU1nHpT"
      }
    },
    {
      "cell_type": "code",
      "source": [
        "# Merge variable a with variable b into variable c:\n",
        "\n",
        "a = \"Hello\"\n",
        "b = \"World\"\n",
        "c = a + b\n",
        "print(c)"
      ],
      "metadata": {
        "colab": {
          "base_uri": "https://localhost:8080/"
        },
        "id": "vHlZKYuSm0zI",
        "outputId": "639801e0-930d-4dd1-c62d-75be26b0a822"
      },
      "execution_count": 74,
      "outputs": [
        {
          "output_type": "stream",
          "name": "stdout",
          "text": [
            "HelloWorld\n"
          ]
        }
      ]
    },
    {
      "cell_type": "code",
      "source": [
        "# To add a space between them, add a \" \":\n",
        "\n",
        "a = \"Hello\"\n",
        "b = \"World\"\n",
        "c = a + \" \" + b\n",
        "print(c)"
      ],
      "metadata": {
        "colab": {
          "base_uri": "https://localhost:8080/"
        },
        "id": "gmb2oandnKhz",
        "outputId": "27c0943a-1e3b-4f73-b58b-a9d30f25db8f"
      },
      "execution_count": 75,
      "outputs": [
        {
          "output_type": "stream",
          "name": "stdout",
          "text": [
            "Hello World\n"
          ]
        }
      ]
    },
    {
      "cell_type": "markdown",
      "source": [
        "**Python - Format - Strings**"
      ],
      "metadata": {
        "id": "L9BIYbdXnPNy"
      }
    },
    {
      "cell_type": "markdown",
      "source": [
        "**String Format**\n",
        "\n",
        "As we learned in the Python Variables chapter, we cannot combine strings and numbers like this:"
      ],
      "metadata": {
        "id": "V2jnRBSfnTZ0"
      }
    },
    {
      "cell_type": "code",
      "source": [
        "age = 36\n",
        "#This will produce an error:\n",
        "txt = \"My name is John, I am \" + age\n",
        "print(txt)"
      ],
      "metadata": {
        "colab": {
          "base_uri": "https://localhost:8080/",
          "height": 193
        },
        "id": "vgGR7LT7nMib",
        "outputId": "5f27e3ab-4f7f-4818-a5fd-c893c5a2f3b1"
      },
      "execution_count": 76,
      "outputs": [
        {
          "output_type": "error",
          "ename": "TypeError",
          "evalue": "can only concatenate str (not \"int\") to str",
          "traceback": [
            "\u001b[0;31m---------------------------------------------------------------------------\u001b[0m",
            "\u001b[0;31mTypeError\u001b[0m                                 Traceback (most recent call last)",
            "\u001b[0;32m/tmp/ipython-input-3301732986.py\u001b[0m in \u001b[0;36m<cell line: 0>\u001b[0;34m()\u001b[0m\n\u001b[1;32m      1\u001b[0m \u001b[0mage\u001b[0m \u001b[0;34m=\u001b[0m \u001b[0;36m36\u001b[0m\u001b[0;34m\u001b[0m\u001b[0;34m\u001b[0m\u001b[0m\n\u001b[1;32m      2\u001b[0m \u001b[0;31m#This will produce an error:\u001b[0m\u001b[0;34m\u001b[0m\u001b[0;34m\u001b[0m\u001b[0m\n\u001b[0;32m----> 3\u001b[0;31m \u001b[0mtxt\u001b[0m \u001b[0;34m=\u001b[0m \u001b[0;34m\"My name is John, I am \"\u001b[0m \u001b[0;34m+\u001b[0m \u001b[0mage\u001b[0m\u001b[0;34m\u001b[0m\u001b[0;34m\u001b[0m\u001b[0m\n\u001b[0m\u001b[1;32m      4\u001b[0m \u001b[0mprint\u001b[0m\u001b[0;34m(\u001b[0m\u001b[0mtxt\u001b[0m\u001b[0;34m)\u001b[0m\u001b[0;34m\u001b[0m\u001b[0;34m\u001b[0m\u001b[0m\n",
            "\u001b[0;31mTypeError\u001b[0m: can only concatenate str (not \"int\") to str"
          ]
        }
      ]
    },
    {
      "cell_type": "markdown",
      "source": [
        "But we can combine strings and numbers by using f-strings or the format() method!\n",
        "\n",
        "**F-Strings**\n",
        "\n",
        "F-String was introduced in Python 3.6, and is now the preferred way of formatting strings.\n",
        "\n",
        "To specify a string as an f-string, simply put an f in front of the string literal, and add curly brackets {} as placeholders for variables and other operations."
      ],
      "metadata": {
        "id": "Fi9orCf7nYED"
      }
    },
    {
      "cell_type": "code",
      "source": [
        "# Create an f-string:\n",
        "\n",
        "age = 36\n",
        "txt = f\"My name is John, I am {age}\"\n",
        "print(txt)"
      ],
      "metadata": {
        "colab": {
          "base_uri": "https://localhost:8080/"
        },
        "id": "lCnyYciSnbyK",
        "outputId": "1824e109-4e8b-4d6a-f3f1-32c5582e0430"
      },
      "execution_count": 77,
      "outputs": [
        {
          "output_type": "stream",
          "name": "stdout",
          "text": [
            "My name is John, I am 36\n"
          ]
        }
      ]
    },
    {
      "cell_type": "markdown",
      "source": [
        "**Placeholders and Modifiers**\n",
        "\n",
        "A placeholder can contain variables, operations, functions, and modifiers to format the value."
      ],
      "metadata": {
        "id": "UkG9CDe3ne6q"
      }
    },
    {
      "cell_type": "code",
      "source": [
        "# Add a placeholder for the price variable:\n",
        "\n",
        "price = 59\n",
        "txt = f\"The price is {price} dollars\"\n",
        "print(txt)"
      ],
      "metadata": {
        "colab": {
          "base_uri": "https://localhost:8080/"
        },
        "id": "TYC8JThQnekc",
        "outputId": "249a0de1-f1ee-4c30-9a1f-9c5921205aef"
      },
      "execution_count": 78,
      "outputs": [
        {
          "output_type": "stream",
          "name": "stdout",
          "text": [
            "The price is 59 dollars\n"
          ]
        }
      ]
    },
    {
      "cell_type": "markdown",
      "source": [
        "A placeholder can include a modifier to format the value.\n",
        "\n",
        "A modifier is included by adding a colon : followed by a legal formatting type, like .2f which means fixed point number with 2 decimals:"
      ],
      "metadata": {
        "id": "NqXTj1HgnnV0"
      }
    },
    {
      "cell_type": "code",
      "source": [
        "# Display the price with 2 decimals:\n",
        "\n",
        "price = 59\n",
        "txt = f\"The price is {price:.2f} dollars\"\n",
        "print(txt)"
      ],
      "metadata": {
        "colab": {
          "base_uri": "https://localhost:8080/"
        },
        "id": "7ZCs0V92nchK",
        "outputId": "5ff91e2c-677e-4904-823c-7d1978542595"
      },
      "execution_count": 79,
      "outputs": [
        {
          "output_type": "stream",
          "name": "stdout",
          "text": [
            "The price is 59.00 dollars\n"
          ]
        }
      ]
    },
    {
      "cell_type": "markdown",
      "source": [
        "A placeholder can contain Python code, like math operations:\n",
        "\n"
      ],
      "metadata": {
        "id": "w_ssYYv0nsE7"
      }
    },
    {
      "cell_type": "code",
      "source": [
        "# Perform a math operation in the placeholder, and return the result:\n",
        "\n",
        "txt = f\"The price is {20 * 59} dollars\"\n",
        "print(txt)"
      ],
      "metadata": {
        "colab": {
          "base_uri": "https://localhost:8080/"
        },
        "id": "73DDWOWbno4a",
        "outputId": "574b2e1e-7b4b-49f7-a7fa-fcebbca66991"
      },
      "execution_count": 80,
      "outputs": [
        {
          "output_type": "stream",
          "name": "stdout",
          "text": [
            "The price is 1180 dollars\n"
          ]
        }
      ]
    },
    {
      "cell_type": "markdown",
      "source": [
        "**Python - Escape Characters**"
      ],
      "metadata": {
        "id": "5dVWBE_pny-K"
      }
    },
    {
      "cell_type": "markdown",
      "source": [
        "Escape Character\n",
        "\n",
        "To insert characters that are illegal in a string, use an escape character.\n",
        "\n",
        "An escape character is a backslash \\ followed by the character you want to insert.\n",
        "\n",
        "An example of an illegal character is a double quote inside a string that is surrounded by double quotes:"
      ],
      "metadata": {
        "id": "NoKx_7EMn3oa"
      }
    },
    {
      "cell_type": "code",
      "source": [
        "txt = \"We are the so-called \"Vikings\" from the north.\""
      ],
      "metadata": {
        "colab": {
          "base_uri": "https://localhost:8080/",
          "height": 106
        },
        "id": "uJUoUbTbnt_O",
        "outputId": "e4c94340-1315-4d66-a994-0f3de71739f2"
      },
      "execution_count": 81,
      "outputs": [
        {
          "output_type": "error",
          "ename": "SyntaxError",
          "evalue": "invalid syntax (ipython-input-7934146.py, line 1)",
          "traceback": [
            "\u001b[0;36m  File \u001b[0;32m\"/tmp/ipython-input-7934146.py\"\u001b[0;36m, line \u001b[0;32m1\u001b[0m\n\u001b[0;31m    txt = \"We are the so-called \"Vikings\" from the north.\"\u001b[0m\n\u001b[0m                                 ^\u001b[0m\n\u001b[0;31mSyntaxError\u001b[0m\u001b[0;31m:\u001b[0m invalid syntax\n"
          ]
        }
      ]
    },
    {
      "cell_type": "markdown",
      "source": [
        "To fix this problem, use the escape character \\\":\n",
        "\n"
      ],
      "metadata": {
        "id": "oJVpX-Ekn9nS"
      }
    },
    {
      "cell_type": "code",
      "source": [
        "txt = \"We are the so-called \\\"Vikings\\\" from the north.\"\n"
      ],
      "metadata": {
        "id": "k3Lw7zzqn82i"
      },
      "execution_count": 82,
      "outputs": []
    },
    {
      "cell_type": "markdown",
      "source": [
        "**Escape Characters**\n",
        "\n",
        "Other escape characters used in Python:\n",
        "\n",
        "Code\tResult\n",
        "\\'\tSingle Quote\n",
        "\\\\\tBackslash\n",
        "\\n\tNew Line\n",
        "\\r\tCarriage Return\n",
        "\\t\tTab\n",
        "\\b\tBackspace\n",
        "\\f\tForm Feed\n",
        "\\ooo\tOctal value\n",
        "\\xhh\tHex value"
      ],
      "metadata": {
        "id": "L04zB6exoBkp"
      }
    },
    {
      "cell_type": "markdown",
      "source": [
        "**Python - String Methods**"
      ],
      "metadata": {
        "id": "1Z7GTHzSoNgB"
      }
    },
    {
      "cell_type": "markdown",
      "source": [
        "String Methods:\n",
        "\n",
        "Python has a set of built-in methods that you can use on strings.\n",
        "\n",
        "Note: All string methods return new values. They do not change the original string.\n",
        "\n",
        "\n",
        "Method\tDescription:\n",
        "\n",
        "1. capitalize()\tConverts the first character to upper case\n",
        "2. casefold()\tConverts string into lower case\n",
        "3. center()\tReturns a centered string\n",
        "4. count()\tReturns the number of times a specified value occurs in a string\n",
        "5. encode()\tReturns an encoded version of the string\n",
        "6. endswith()\tReturns true if the string ends with the specified value\n",
        "7. expandtabs()\tSets the tab size of the string\n",
        "8. find()\tSearches the string for a specified value and returns the position of where it was found\n",
        "9. format()\tFormats specified values in a string\n",
        "10. format_map()\tFormats specified values in a string\n",
        "11. index()\tSearches the string for a specified value and returns the position of where it was found\n",
        "12. isalnum()\tReturns True if all characters in the string are alphanumeric\n",
        "13. isalpha()\tReturns True if all characters in the string are in the alphabet\n",
        "14. isascii()\tReturns True if all characters in the string are ascii characters\n",
        "15. isdecimal()\tReturns True if all characters in the string are decimals\n",
        "16. isdigit()\tReturns True if all characters in the string are digits\n",
        "17. isidentifier()\tReturns True if the string is an identifier\n",
        "18. islower()\tReturns True if all characters in the string are lower case\n",
        "19. isnumeric()\tReturns True if all characters in the string are numeric\n",
        "20. isprintable()\tReturns True if all characters in the string are printable\n",
        "21. isspace()\tReturns True if all characters in the string are whitespaces\n",
        "22. istitle()\tReturns True if the string follows the rules of a title\n",
        "23. isupper()\tReturns True if all characters in the string are upper case\n",
        "24. join()\tJoins the elements of an iterable to the end of the string\n",
        "25. ljust()\tReturns a left justified version of the string\n",
        "26. lower()\tConverts a string into lower case\n",
        "27. lstrip()\tReturns a left trim version of the string\n",
        "28. maketrans()\tReturns a translation table to be used in translations\n",
        "29. partition()\tReturns a tuple where the string is parted into three parts\n",
        "30. replace()\tReturns a string where a specified value is replaced with a specified value\n",
        "31. rfind()\tSearches the string for a specified value and returns the last position of where it was found\n",
        "32. rindex()\tSearches the string for a specified value and returns the last position of where it was found\n",
        "33. rjust()\tReturns a right justified version of the string\n",
        "34. rpartition()\tReturns a tuple where the string is parted into three parts\n",
        "35. rsplit()\tSplits the string at the specified separator, and returns a list\n",
        "36. rstrip()\tReturns a right trim version of the string\n",
        "37. split()\tSplits the string at the specified separator, and returns a list\n",
        "38. splitlines()\tSplits the string at line breaks and returns a list\n",
        "39. startswith()\tReturns true if the string starts with the specified value\n",
        "40. strip()\tReturns a trimmed version of the string\n",
        "41. swapcase()\tSwaps cases, lower case becomes upper case and vice versa\n",
        "42. title()\tConverts the first character of each word to upper case\n",
        "43. translate()\tReturns a translated string\n",
        "44. upper()\tConverts a string into upper case\n",
        "45. zfill()\tFills the string with a specified number of 0 values at the beginning"
      ],
      "metadata": {
        "id": "GPADgAzBoR-R"
      }
    },
    {
      "cell_type": "markdown",
      "source": [
        "## **Python Booleans**"
      ],
      "metadata": {
        "id": "RhCLBEqgpMJr"
      }
    },
    {
      "cell_type": "markdown",
      "source": [
        "In programming you often need to know if an expression is True or False.\n",
        "\n",
        "You can evaluate any expression in Python, and get one of two answers, True or False.\n",
        "\n",
        "When you compare two values, the expression is evaluated and Python returns the Boolean answer:"
      ],
      "metadata": {
        "id": "tvm2qisbsAZY"
      }
    },
    {
      "cell_type": "code",
      "source": [
        "print(10 > 9)\n",
        "print(10 == 9)\n",
        "print(10 < 9)"
      ],
      "metadata": {
        "colab": {
          "base_uri": "https://localhost:8080/"
        },
        "id": "7RNd4oz_n-xK",
        "outputId": "ed04042f-fd8b-43be-f033-0003a832f7fd"
      },
      "execution_count": 103,
      "outputs": [
        {
          "output_type": "stream",
          "name": "stdout",
          "text": [
            "True\n",
            "False\n",
            "False\n"
          ]
        }
      ]
    },
    {
      "cell_type": "code",
      "source": [
        "#Print a message based on whether the condition is True or False:\n",
        "\n",
        "a = 200\n",
        "b = 33\n",
        "\n",
        "if b > a:\n",
        "  print(\"b is greater than a\")\n",
        "else:\n",
        "  print(\"b is not greater than a\")"
      ],
      "metadata": {
        "colab": {
          "base_uri": "https://localhost:8080/"
        },
        "id": "QL1JWBH0sGbW",
        "outputId": "13e4772c-0191-4ad4-cc99-2acea2421437"
      },
      "execution_count": 104,
      "outputs": [
        {
          "output_type": "stream",
          "name": "stdout",
          "text": [
            "b is not greater than a\n"
          ]
        }
      ]
    },
    {
      "cell_type": "markdown",
      "source": [
        "**Evaluate Values and Variables:**\n",
        "\n",
        "The bool() function allows you to evaluate any value, and give you True or False in return,"
      ],
      "metadata": {
        "id": "N7EJm_5TsLhf"
      }
    },
    {
      "cell_type": "code",
      "source": [
        "# Evaluate a string and a number:\n",
        "\n",
        "print(bool(\"Hello\"))\n",
        "print(bool(15))"
      ],
      "metadata": {
        "colab": {
          "base_uri": "https://localhost:8080/"
        },
        "id": "YhJJNgn1sJPv",
        "outputId": "018310ac-c8b0-4dd1-f83a-4328cd1f3fb5"
      },
      "execution_count": 105,
      "outputs": [
        {
          "output_type": "stream",
          "name": "stdout",
          "text": [
            "True\n",
            "True\n"
          ]
        }
      ]
    },
    {
      "cell_type": "code",
      "source": [
        "#Evaluate two variables:\n",
        "\n",
        "x = \"Hello\"\n",
        "y = 15\n",
        "\n",
        "print(bool(x))\n",
        "print(bool(y))"
      ],
      "metadata": {
        "colab": {
          "base_uri": "https://localhost:8080/"
        },
        "id": "myQa7sI6sSOW",
        "outputId": "595aac03-3bef-4ec7-a3ff-f124390c6c38"
      },
      "execution_count": 106,
      "outputs": [
        {
          "output_type": "stream",
          "name": "stdout",
          "text": [
            "True\n",
            "True\n"
          ]
        }
      ]
    },
    {
      "cell_type": "markdown",
      "source": [
        "**Most Values are True**\n",
        "\n",
        "\n",
        "Almost any value is evaluated to True if it has some sort of content.\n",
        "\n",
        "Any string is True, except empty strings.\n",
        "\n",
        "Any number is True, except 0.\n",
        "\n",
        "Any list, tuple, set, and dictionary are True, except empty ones."
      ],
      "metadata": {
        "id": "ZQFp7A3OsO98"
      }
    },
    {
      "cell_type": "code",
      "source": [
        "bool(\"abc\")\n",
        "bool(123)\n",
        "bool([\"apple\", \"cherry\", \"banana\"])"
      ],
      "metadata": {
        "colab": {
          "base_uri": "https://localhost:8080/"
        },
        "id": "bIrqr6t0sU_W",
        "outputId": "3d508184-4391-487d-c733-ff9317a0b794"
      },
      "execution_count": 107,
      "outputs": [
        {
          "output_type": "execute_result",
          "data": {
            "text/plain": [
              "True"
            ]
          },
          "metadata": {},
          "execution_count": 107
        }
      ]
    },
    {
      "cell_type": "markdown",
      "source": [
        "**Some Values are False**\n",
        "\n",
        "In fact, there are not many values that evaluate to False, except empty values, such as (), [], {}, \"\", the number 0, and the value None. And of course the value False evaluates to False."
      ],
      "metadata": {
        "id": "0_WewihgsZru"
      }
    },
    {
      "cell_type": "code",
      "source": [
        "#The following will return False:\n",
        "\n",
        "bool(False)\n",
        "bool(None)\n",
        "bool(0)\n",
        "bool(\"\")\n",
        "bool(())\n",
        "bool([])\n",
        "bool({})\n"
      ],
      "metadata": {
        "colab": {
          "base_uri": "https://localhost:8080/"
        },
        "id": "tIh3_t2cscCm",
        "outputId": "2b987416-5753-48e1-a638-16efcb3bdc30"
      },
      "execution_count": 108,
      "outputs": [
        {
          "output_type": "execute_result",
          "data": {
            "text/plain": [
              "False"
            ]
          },
          "metadata": {},
          "execution_count": 108
        }
      ]
    },
    {
      "cell_type": "markdown",
      "source": [
        "One more value, or object in this case, evaluates to False, and that is if you have an object that is made from a class with a __len__ function that returns 0 or False:"
      ],
      "metadata": {
        "id": "Bj6DUNyUsej6"
      }
    },
    {
      "cell_type": "code",
      "source": [
        "class myclass():\n",
        "  def __len__(self):\n",
        "    return 0\n",
        "\n",
        "myobj = myclass()\n",
        "print(bool(myobj))"
      ],
      "metadata": {
        "colab": {
          "base_uri": "https://localhost:8080/"
        },
        "id": "jdpRuPq9scx3",
        "outputId": "2405b6bf-ca7a-4886-b701-dcf24751bd73"
      },
      "execution_count": 109,
      "outputs": [
        {
          "output_type": "stream",
          "name": "stdout",
          "text": [
            "False\n"
          ]
        }
      ]
    },
    {
      "cell_type": "markdown",
      "source": [
        "**Functions can Return a Boolean**\n",
        "\n",
        "You can create functions that returns a Boolean Value:"
      ],
      "metadata": {
        "id": "u-2xg9lBsil_"
      }
    },
    {
      "cell_type": "code",
      "source": [
        "#Print the answer of a function:\n",
        "\n",
        "def myFunction() :\n",
        "  return True\n",
        "\n",
        "print(myFunction())"
      ],
      "metadata": {
        "colab": {
          "base_uri": "https://localhost:8080/"
        },
        "id": "O22duuivslR-",
        "outputId": "b1aa4d4b-e091-49db-eb2a-4ee6667b9410"
      },
      "execution_count": 110,
      "outputs": [
        {
          "output_type": "stream",
          "name": "stdout",
          "text": [
            "True\n"
          ]
        }
      ]
    },
    {
      "cell_type": "markdown",
      "source": [
        "You can execute code based on the Boolean answer of a function:\n",
        "\n"
      ],
      "metadata": {
        "id": "E5nTLzPcspfW"
      }
    },
    {
      "cell_type": "code",
      "source": [
        "# Print \"YES!\" if the function returns True, otherwise print \"NO!\":\n",
        "\n",
        "def myFunction() :\n",
        "  return True\n",
        "\n",
        "if myFunction():\n",
        "  print(\"YES!\")\n",
        "else:\n",
        "  print(\"NO!\")"
      ],
      "metadata": {
        "colab": {
          "base_uri": "https://localhost:8080/"
        },
        "id": "PtO0p8YEsmRV",
        "outputId": "1a1534fc-ac9a-488e-b382-bcecb4c15c25"
      },
      "execution_count": 111,
      "outputs": [
        {
          "output_type": "stream",
          "name": "stdout",
          "text": [
            "YES!\n"
          ]
        }
      ]
    },
    {
      "cell_type": "markdown",
      "source": [
        "Python also has many built-in functions that return a boolean value, like the isinstance() function, which can be used to determine if an object is of a certain data type:"
      ],
      "metadata": {
        "id": "Wq--O3Ozswdu"
      }
    },
    {
      "cell_type": "code",
      "source": [
        "#Check if an object is an integer or not:\n",
        "\n",
        "x = 200\n",
        "print(isinstance(x, int))"
      ],
      "metadata": {
        "colab": {
          "base_uri": "https://localhost:8080/"
        },
        "id": "9_Fov79esrpg",
        "outputId": "c37039c7-882d-451c-e3d1-5e5369861416"
      },
      "execution_count": 114,
      "outputs": [
        {
          "output_type": "stream",
          "name": "stdout",
          "text": [
            "True\n"
          ]
        }
      ]
    },
    {
      "cell_type": "markdown",
      "source": [
        "## **Python Operators**"
      ],
      "metadata": {
        "id": "QTMG44dCs2ZG"
      }
    },
    {
      "cell_type": "markdown",
      "source": [
        "**Python Operators**\n",
        "\n",
        "\n",
        "Operators are used to perform operations on variables and values.\n",
        "\n",
        "In the example below, we use the + operator to add together two values:"
      ],
      "metadata": {
        "id": "roIxPVzLs7sP"
      }
    },
    {
      "cell_type": "code",
      "source": [
        "print(10 + 5)"
      ],
      "metadata": {
        "colab": {
          "base_uri": "https://localhost:8080/"
        },
        "id": "-KDvQ7RLsy3F",
        "outputId": "46eb7f01-4ee4-4a27-f570-b9d7399c102e"
      },
      "execution_count": 115,
      "outputs": [
        {
          "output_type": "stream",
          "name": "stdout",
          "text": [
            "15\n"
          ]
        }
      ]
    },
    {
      "cell_type": "markdown",
      "source": [
        "Python divides the operators in the following groups:\n",
        "\n",
        "Arithmetic operators\n",
        "\n",
        "Assignment operators\n",
        "\n",
        "Comparison operators\n",
        "\n",
        "Logical operators\n",
        "\n",
        "Identity operators\n",
        "\n",
        "Membership operators\n",
        "\n",
        "Bitwise operators\n",
        "\n",
        "\n",
        "**Python Arithmetic Operators**\n",
        "\n",
        "Arithmetic operators are used with numeric values to perform common mathematical operations:\n",
        "\n",
        "**Operator\tName\tExample\tTry it**\n",
        "\n",
        "1. Addition\tx + y\n",
        "2. Subtraction\tx - y\n",
        "3. Multiplication\tx * y\n",
        "4. Division\tx / y\n",
        "5. Modulus\tx % y\n",
        "6. Exponentiation\tx ** y\n",
        "7. Floor division\tx // y\n",
        "\n",
        "\n",
        "**Python Assignment Operators**\n",
        "\n",
        "Assignment operators are used to assign values to variables:\n",
        "\n",
        "Operator\tExample\tSame As\tTry it\n",
        "1. =\t--> x = 5 -->\tx = 5\n",
        "2. +=\t--> x += 3 -->\tx = x + 3\n",
        "3. -=\t--> x -= 3\t--> x = x - 3\n",
        "4. *= -->\tx *= 3\t--> x = x * 3\n",
        "5. /=\t--> x /= 3\t--> x = x / 3\n",
        "6. %=\t --> x %= 3\t --> x = x % 3\n",
        "7. //= --> \tx //= 3 --> \tx = x // 3\n",
        "8. ** = --> \tx ** = 3\t --> x = x ** 3\n",
        "9. &=\tx  --> x &= 3 --> \tx = x & 3\n",
        "10. |= --> \tx |= 3 --> \tx = x | 3\n",
        "11. ^=\t --> x ^= 3 --> \tx = x ^ 3\n",
        "12. >>=\t --> x >>= 3\t --> x = x >> 3\n",
        "13. <<=\t--> x <<= 3\t --> x = x << 3\n",
        "14. :=\t --> print(x := 3) --> \tx = 3\n",
        "print(x)"
      ],
      "metadata": {
        "id": "0GhoxagBs54-"
      }
    },
    {
      "cell_type": "code",
      "source": [],
      "metadata": {
        "id": "20bnX6ogtHSd"
      },
      "execution_count": null,
      "outputs": []
    },
    {
      "cell_type": "markdown",
      "source": [
        "**Python Comparison Operators**\n",
        "\n",
        "Comparison operators are used to compare two values:\n",
        "\n",
        "\n",
        "1. ==\tEqual\tx == y\n",
        "2. !=\tNot equal\tx != y\n",
        "3. >\tGreater than\tx > y\n",
        "4. <\tLess than\tx < y\n",
        "5. >=\tGreater than or equal to\tx >= y\n",
        "6. <=\tLess than or equal to\tx <= y\n",
        "\n",
        "\n",
        "**Python Logical Operators**\n",
        "\n",
        "Logical operators are used to combine conditional statements:\n",
        "\n",
        "\n",
        "1. **and** \tReturns True if both statements are true\tx < 5 and  x < 10\n",
        "\n",
        "2. **or**\tReturns True if one of the statements is true\tx < 5 or x < 4\n",
        "3. **not**\tReverse the result, returns False if the result is true\tnot(x < 5 and x < 10)\n",
        "\n",
        "\n",
        "**Python Identity Operators**\n",
        "\n",
        "Identity operators are used to compare the objects, not if they are equal, but if they are actually the same object, with the same memory location:\n",
        "\n",
        "**Operator\tDescription\tExample\tTry it**\n",
        "1. **is** -\tReturns True if both variables are the same object\tx is y\n",
        "2. **is not** -\tReturns True if both variables are not the same object\tx is not y\n",
        "\n",
        "\n",
        "**Python Membership Operators**\n",
        "\n",
        "Membership operators are used to test if a sequence is presented in an object:\n",
        "\n",
        "\n",
        "1. **in** -  \tReturns True if a sequence with the specified value is present in the object\tx in y\n",
        "2. **not in** - \tReturns True if a sequence with the specified value is not present in the object\tx not in y\n",
        "\n",
        "\n",
        "**Python Bitwise Operators**\n",
        "\n",
        "Bitwise operators are used to compare (binary) numbers:\n",
        "\n",
        "\n",
        "1. & \tAND\tSets each bit to 1 if both bits are 1\tx & y\n",
        "2. | OR\tSets each bit to 1 if one of two bits is 1\tx | y\n",
        "3. ^\tXOR\tSets each bit to 1 if only one of two bits is 1\tx ^ y\n",
        "4. ~\tNOT\tInverts all the bits\t~x\n",
        "5. <<\tZero fill left shift\tShift left by pushing zeros in from the right and let the leftmost bits fall off\tx << 2\n",
        "6. >>\tSigned right shift\tShift right by pushing copies of the leftmost bit in from the left, and let the rightmost bits fall off\tx >> 2\n",
        "\n",
        "**Operator Precedence**\n",
        "\n",
        "Operator precedence describes the order in which operations are performed."
      ],
      "metadata": {
        "id": "KptmlnffuoE9"
      }
    },
    {
      "cell_type": "code",
      "source": [
        "#Parentheses has the highest precedence, meaning that expressions inside parentheses must be evaluated first:\n",
        "\n",
        "print((6 + 3) - (6 + 3))"
      ],
      "metadata": {
        "colab": {
          "base_uri": "https://localhost:8080/"
        },
        "id": "OmtS2QKGv4RT",
        "outputId": "1ca81056-5185-49d4-c7ec-3bf51fe47f7a"
      },
      "execution_count": 116,
      "outputs": [
        {
          "output_type": "stream",
          "name": "stdout",
          "text": [
            "0\n"
          ]
        }
      ]
    },
    {
      "cell_type": "code",
      "source": [
        "#Multiplication * has higher precedence than addition +, and therefore multiplications are evaluated before additions:\n",
        "\n",
        "print(100 + 5 * 3)"
      ],
      "metadata": {
        "colab": {
          "base_uri": "https://localhost:8080/"
        },
        "id": "uYAUVbeHv6tn",
        "outputId": "2756622c-c9c4-447c-9240-9486bfff2f9d"
      },
      "execution_count": 117,
      "outputs": [
        {
          "output_type": "stream",
          "name": "stdout",
          "text": [
            "115\n"
          ]
        }
      ]
    },
    {
      "cell_type": "code",
      "source": [
        "#Addition + and subtraction - has the same precedence, and therefore we evaluate the expression from left to right:\n",
        "\n",
        "print(5 + 4 - 7 + 3)"
      ],
      "metadata": {
        "colab": {
          "base_uri": "https://localhost:8080/"
        },
        "id": "dpbc1qEhv97h",
        "outputId": "b25b6ecd-7cd7-4150-c416-88b4148426c9"
      },
      "execution_count": 118,
      "outputs": [
        {
          "output_type": "stream",
          "name": "stdout",
          "text": [
            "5\n"
          ]
        }
      ]
    },
    {
      "cell_type": "markdown",
      "source": [
        "## **Python Lists**"
      ],
      "metadata": {
        "id": "R2P7N8BpwFRc"
      }
    },
    {
      "cell_type": "code",
      "source": [
        "mylist = [\"apple\", \"banana\", \"cherry\"]\n"
      ],
      "metadata": {
        "id": "J3S3hgtMwIYt"
      },
      "execution_count": 186,
      "outputs": []
    },
    {
      "cell_type": "markdown",
      "source": [
        "**List**\n",
        "\n",
        "\n",
        "Lists are used to store multiple items in a single variable.\n",
        "\n",
        "Lists are one of 4 built-in data types in Python used to store collections of data, the other 3 are Tuple, Set, and Dictionary, all with different qualities and usage.\n",
        "\n",
        "Lists are created using square brackets:"
      ],
      "metadata": {
        "id": "r8aEJSfjwJ8j"
      }
    },
    {
      "cell_type": "code",
      "source": [
        "#Create a List:\n",
        "\n",
        "thislist = [\"apple\", \"banana\", \"cherry\"]\n",
        "print(thislist)"
      ],
      "metadata": {
        "colab": {
          "base_uri": "https://localhost:8080/"
        },
        "id": "oNq_71gCwNkz",
        "outputId": "9be9c34e-e970-49c4-ae7e-5623ad07f9fc"
      },
      "execution_count": 187,
      "outputs": [
        {
          "output_type": "stream",
          "name": "stdout",
          "text": [
            "['apple', 'banana', 'cherry']\n"
          ]
        }
      ]
    },
    {
      "cell_type": "markdown",
      "source": [
        "**List Items**\n",
        "\n",
        "List items are ordered, changeable, and allow duplicate values.\n",
        "\n",
        "List items are indexed, the first item has index [0], the second item has index [1] etc.\n",
        "\n",
        "**Ordered**\n",
        "When we say that lists are ordered, it means that the items have a defined order, and that order will not change.\n",
        "\n",
        "If you add new items to a list, the new items will be placed at the end of the list.\n",
        "\n",
        "Note: There are some list methods that will change the order, but in general: the order of the items will not change."
      ],
      "metadata": {
        "id": "-InCAuD8wP_E"
      }
    },
    {
      "cell_type": "markdown",
      "source": [
        "**Changeable**\n",
        "\n",
        "The list is changeable, meaning that we can change, add, and remove items in a list after it has been created.\n",
        "\n",
        "**Allow Duplicates**\n",
        "\n",
        "Since lists are indexed, lists can have items with the same value:"
      ],
      "metadata": {
        "id": "dLEcd-yHwWrj"
      }
    },
    {
      "cell_type": "code",
      "source": [
        "#Lists allow duplicate values:\n",
        "\n",
        "thislist = [\"apple\", \"banana\", \"cherry\", \"apple\", \"cherry\"]\n",
        "print(thislist)"
      ],
      "metadata": {
        "colab": {
          "base_uri": "https://localhost:8080/"
        },
        "id": "Cc1yf2fiwOM2",
        "outputId": "287a0fc5-8860-4ff2-c67b-18109904e7e0"
      },
      "execution_count": 188,
      "outputs": [
        {
          "output_type": "stream",
          "name": "stdout",
          "text": [
            "['apple', 'banana', 'cherry', 'apple', 'cherry']\n"
          ]
        }
      ]
    },
    {
      "cell_type": "markdown",
      "source": [
        "**List Length**\n",
        "\n",
        "To determine how many items a list has, use the len() function:"
      ],
      "metadata": {
        "id": "vG0jZnGVwd7z"
      }
    },
    {
      "cell_type": "code",
      "source": [
        "#Print the number of items in the list:\n",
        "\n",
        "thislist = [\"apple\", \"banana\", \"cherry\"]\n",
        "print(len(thislist))"
      ],
      "metadata": {
        "colab": {
          "base_uri": "https://localhost:8080/"
        },
        "id": "k_N3jIiRwbal",
        "outputId": "48758e11-1eea-4bdd-e7ae-bff2a2751e2e"
      },
      "execution_count": 189,
      "outputs": [
        {
          "output_type": "stream",
          "name": "stdout",
          "text": [
            "3\n"
          ]
        }
      ]
    },
    {
      "cell_type": "markdown",
      "source": [
        "**List Items - Data Types**\n",
        "\n",
        "List items can be of any data type:"
      ],
      "metadata": {
        "id": "cYkTkktpwjm0"
      }
    },
    {
      "cell_type": "code",
      "source": [
        "#String, int and boolean data types:\n",
        "\n",
        "list1 = [\"apple\", \"banana\", \"cherry\"]\n",
        "list2 = [1, 5, 7, 9, 3]\n",
        "list3 = [True, False, False]"
      ],
      "metadata": {
        "id": "t27m220twlhj"
      },
      "execution_count": 190,
      "outputs": []
    },
    {
      "cell_type": "markdown",
      "source": [
        "A list can contain different data types:\n",
        "\n"
      ],
      "metadata": {
        "id": "2spGJ8Xxwoui"
      }
    },
    {
      "cell_type": "code",
      "source": [
        "#A list with strings, integers and boolean values:\n",
        "\n",
        "list1 = [\"abc\", 34, True, 40, \"male\"]"
      ],
      "metadata": {
        "id": "bywBQZbYwqCe"
      },
      "execution_count": 191,
      "outputs": []
    },
    {
      "cell_type": "markdown",
      "source": [
        "**type()**\n",
        "\n",
        "From Python's perspective, lists are defined as objects with the data type 'list':"
      ],
      "metadata": {
        "id": "JLBuGFwawtAL"
      }
    },
    {
      "cell_type": "code",
      "source": [
        "#What is the data type of a list?\n",
        "\n",
        "mylist = [\"apple\", \"banana\", \"cherry\"]\n",
        "print(type(mylist))"
      ],
      "metadata": {
        "colab": {
          "base_uri": "https://localhost:8080/"
        },
        "id": "9dE5ZrxHwq0D",
        "outputId": "e639404e-8569-4a0f-9e85-dbb1005a80f1"
      },
      "execution_count": 192,
      "outputs": [
        {
          "output_type": "stream",
          "name": "stdout",
          "text": [
            "<class 'list'>\n"
          ]
        }
      ]
    },
    {
      "cell_type": "markdown",
      "source": [
        "**The list() Constructor**\n",
        "\n",
        "It is also possible to use the list() constructor when creating a new list."
      ],
      "metadata": {
        "id": "Fb31haaAw0FE"
      }
    },
    {
      "cell_type": "code",
      "source": [
        "#Using the list() constructor to make a List:\n",
        "\n",
        "thislist = list((\"apple\", \"banana\", \"cherry\")) # note the double round-brackets\n",
        "print(thislist)"
      ],
      "metadata": {
        "colab": {
          "base_uri": "https://localhost:8080/"
        },
        "id": "yC61x4Ekwxum",
        "outputId": "1b73e963-7612-4300-c223-1a2bd42b0b0f"
      },
      "execution_count": 193,
      "outputs": [
        {
          "output_type": "stream",
          "name": "stdout",
          "text": [
            "['apple', 'banana', 'cherry']\n"
          ]
        }
      ]
    },
    {
      "cell_type": "markdown",
      "source": [
        "**Python Collections (Arrays)**\n",
        "\n",
        "There are four collection data types in the Python programming language:\n",
        "\n",
        "1. **List** is a collection which is ordered and changeable. Allows duplicate members.\n",
        "2. **Tuple** is a collection which is ordered and unchangeable. Allows duplicate members.\n",
        "3. **Set** is a collection which is unordered, unchangeable*, and unindexed. No duplicate members.\n",
        "4. **Dictionary** is a collection which is ordered** and changeable. No duplicate members.\n",
        "\n",
        "Note:\n",
        "\n",
        "*Set items are unchangeable, but you can remove and/or add items whenever you like.\n",
        "\n",
        "**As of Python version 3.7, dictionaries are ordered. In Python 3.6 and earlier, dictionaries are unordered.\n",
        "\n",
        "\n",
        "When choosing a collection type, it is useful to understand the properties of that type. Choosing the right type for a particular data set could mean retention of meaning, and, it could mean an increase in efficiency or security."
      ],
      "metadata": {
        "id": "gJbDOW0zw4yL"
      }
    },
    {
      "cell_type": "markdown",
      "source": [
        "**Python - Access List Items**\n"
      ],
      "metadata": {
        "id": "DJAH7ydYxMOT"
      }
    },
    {
      "cell_type": "markdown",
      "source": [
        "**Access Items**\n",
        "\n",
        "List items are indexed and you can access them by referring to the index number:"
      ],
      "metadata": {
        "id": "6JXtopNIxRqy"
      }
    },
    {
      "cell_type": "code",
      "source": [
        "#Print the second item of the list:\n",
        "\n",
        "thislist = [\"apple\", \"banana\", \"cherry\"]\n",
        "print(thislist[1]) #Note: The first item has index 0.\n"
      ],
      "metadata": {
        "colab": {
          "base_uri": "https://localhost:8080/"
        },
        "id": "gL_Ujdczw3MH",
        "outputId": "f63b4df6-15f5-46bd-bd76-1bf985bfdcd8"
      },
      "execution_count": 194,
      "outputs": [
        {
          "output_type": "stream",
          "name": "stdout",
          "text": [
            "banana\n"
          ]
        }
      ]
    },
    {
      "cell_type": "markdown",
      "source": [
        "**Negative Indexing**\n",
        "\n",
        "Negative indexing means start from the end\n",
        "\n",
        "-1 refers to the last item, -2 refers to the second last item etc."
      ],
      "metadata": {
        "id": "_K152-QoxcH7"
      }
    },
    {
      "cell_type": "code",
      "source": [
        "#Print the last item of the list:\n",
        "\n",
        "thislist = [\"apple\", \"banana\", \"cherry\"]\n",
        "print(thislist[-1])"
      ],
      "metadata": {
        "colab": {
          "base_uri": "https://localhost:8080/"
        },
        "id": "lVSp_ZdyxWei",
        "outputId": "f052322c-860a-4362-c789-a4818fba5d97"
      },
      "execution_count": 195,
      "outputs": [
        {
          "output_type": "stream",
          "name": "stdout",
          "text": [
            "cherry\n"
          ]
        }
      ]
    },
    {
      "cell_type": "markdown",
      "source": [
        "**Range of Indexes**\n",
        "\n",
        "You can specify a range of indexes by specifying where to start and where to end the range.\n",
        "\n",
        "When specifying a range, the return value will be a new list with the specified items."
      ],
      "metadata": {
        "id": "CBiz8qdBxibK"
      }
    },
    {
      "cell_type": "code",
      "source": [
        "#Return the third, fourth, and fifth item:\n",
        "\n",
        "thislist = [\"apple\", \"banana\", \"cherry\", \"orange\", \"kiwi\", \"melon\", \"mango\"]\n",
        "print(thislist[2:5])"
      ],
      "metadata": {
        "colab": {
          "base_uri": "https://localhost:8080/"
        },
        "id": "_rebOPEvxl0s",
        "outputId": "3b76632d-3e84-4b58-82f3-d19b0b9b0461"
      },
      "execution_count": 196,
      "outputs": [
        {
          "output_type": "stream",
          "name": "stdout",
          "text": [
            "['cherry', 'orange', 'kiwi']\n"
          ]
        }
      ]
    },
    {
      "cell_type": "markdown",
      "source": [
        "Note: The search will start at index 2 (included) and end at index 5 (not included).\n",
        "\n",
        "Remember that the first item has index 0.\n",
        "\n",
        "By leaving out the start value, the range will start at the first item:"
      ],
      "metadata": {
        "id": "i0SFLuQ6xfyC"
      }
    },
    {
      "cell_type": "code",
      "source": [
        "#This example returns the items from the beginning to, but NOT including, \"kiwi\":\n",
        "\n",
        "thislist = [\"apple\", \"banana\", \"cherry\", \"orange\", \"kiwi\", \"melon\", \"mango\"]\n",
        "print(thislist[:4])"
      ],
      "metadata": {
        "colab": {
          "base_uri": "https://localhost:8080/"
        },
        "id": "ZZgKR92NxrfR",
        "outputId": "b76dee45-4236-47d3-f96a-6054cbb65890"
      },
      "execution_count": 197,
      "outputs": [
        {
          "output_type": "stream",
          "name": "stdout",
          "text": [
            "['apple', 'banana', 'cherry', 'orange']\n"
          ]
        }
      ]
    },
    {
      "cell_type": "markdown",
      "source": [
        "By leaving out the end value, the range will go on to the end of the list:\n",
        "\n"
      ],
      "metadata": {
        "id": "OG8AF_VKxtxr"
      }
    },
    {
      "cell_type": "code",
      "source": [
        "# This example returns the items from \"cherry\" to the end:\n",
        "\n",
        "thislist = [\"apple\", \"banana\", \"cherry\", \"orange\", \"kiwi\", \"melon\", \"mango\"]\n",
        "print(thislist[2:])"
      ],
      "metadata": {
        "colab": {
          "base_uri": "https://localhost:8080/"
        },
        "id": "Clkr2dB2xu56",
        "outputId": "a1a84afa-09dd-4023-cf4a-6f942d0e9ca4"
      },
      "execution_count": 198,
      "outputs": [
        {
          "output_type": "stream",
          "name": "stdout",
          "text": [
            "['cherry', 'orange', 'kiwi', 'melon', 'mango']\n"
          ]
        }
      ]
    },
    {
      "cell_type": "markdown",
      "source": [
        "**Range of Negative Indexes**\n",
        "\n",
        "Specify negative indexes if you want to start the search from the end of the list:"
      ],
      "metadata": {
        "id": "0-ugsixYxxeS"
      }
    },
    {
      "cell_type": "code",
      "source": [
        "#This example returns the items from \"orange\" (-4) to, but NOT including \"mango\" (-1):\n",
        "\n",
        "thislist = [\"apple\", \"banana\", \"cherry\", \"orange\", \"kiwi\", \"melon\", \"mango\"]\n",
        "print(thislist[-4:-1])"
      ],
      "metadata": {
        "colab": {
          "base_uri": "https://localhost:8080/"
        },
        "id": "EZ7lrGjqxz_y",
        "outputId": "908c7949-200e-4f31-b607-399412a4f03b"
      },
      "execution_count": 199,
      "outputs": [
        {
          "output_type": "stream",
          "name": "stdout",
          "text": [
            "['orange', 'kiwi', 'melon']\n"
          ]
        }
      ]
    },
    {
      "cell_type": "markdown",
      "source": [
        "**Check if Item Exists**:\n",
        "\n",
        "To determine if a specified item is present in a list use the in keyword:"
      ],
      "metadata": {
        "id": "sZpSBMJsx3m8"
      }
    },
    {
      "cell_type": "code",
      "source": [
        "#Check if \"apple\" is present in the list:\n",
        "\n",
        "thislist = [\"apple\", \"banana\", \"cherry\"]\n",
        "if \"apple\" in thislist:\n",
        "  print(\"Yes, 'apple' is in the fruits list\")"
      ],
      "metadata": {
        "colab": {
          "base_uri": "https://localhost:8080/"
        },
        "id": "x5o8dsAnx7H-",
        "outputId": "63d751d1-34b6-46f3-d610-ed80676aaf83"
      },
      "execution_count": 200,
      "outputs": [
        {
          "output_type": "stream",
          "name": "stdout",
          "text": [
            "Yes, 'apple' is in the fruits list\n"
          ]
        }
      ]
    },
    {
      "cell_type": "markdown",
      "source": [
        "**Python - Change List Items**\n"
      ],
      "metadata": {
        "id": "NmOf5q9AyGAL"
      }
    },
    {
      "cell_type": "markdown",
      "source": [
        "**Change Item Value**\n",
        "\n",
        "To change the value of a specific item, refer to the index number:"
      ],
      "metadata": {
        "id": "yEkUvRvEyJG6"
      }
    },
    {
      "cell_type": "code",
      "source": [
        "#Change the second item:\n",
        "\n",
        "thislist = [\"apple\", \"banana\", \"cherry\"]\n",
        "thislist[1] = \"blackcurrant\"\n",
        "print(thislist)"
      ],
      "metadata": {
        "colab": {
          "base_uri": "https://localhost:8080/"
        },
        "id": "dknbvdS1yNnB",
        "outputId": "5ba5954f-c082-462a-9d79-844d5c59d306"
      },
      "execution_count": 201,
      "outputs": [
        {
          "output_type": "stream",
          "name": "stdout",
          "text": [
            "['apple', 'blackcurrant', 'cherry']\n"
          ]
        }
      ]
    },
    {
      "cell_type": "markdown",
      "source": [
        "**Change a Range of Item Values**\n",
        "\n",
        "To change the value of items within a specific range, define a list with the new values, and refer to the range of index numbers where you want to insert the new values:"
      ],
      "metadata": {
        "id": "m4mPF_nQyPzi"
      }
    },
    {
      "cell_type": "code",
      "source": [
        "#Change the values \"banana\" and \"cherry\" with the values \"blackcurrant\" and \"watermelon\":\n",
        "\n",
        "thislist = [\"apple\", \"banana\", \"cherry\", \"orange\", \"kiwi\", \"mango\"]\n",
        "thislist[1:3] = [\"blackcurrant\", \"watermelon\"]\n",
        "print(thislist)"
      ],
      "metadata": {
        "colab": {
          "base_uri": "https://localhost:8080/"
        },
        "id": "3KEfAm3nyRsS",
        "outputId": "d0bccdc1-230a-4b36-d7fd-fca3048c5f40"
      },
      "execution_count": 202,
      "outputs": [
        {
          "output_type": "stream",
          "name": "stdout",
          "text": [
            "['apple', 'blackcurrant', 'watermelon', 'orange', 'kiwi', 'mango']\n"
          ]
        }
      ]
    },
    {
      "cell_type": "markdown",
      "source": [
        "If you insert more items than you replace, the new items will be inserted where you specified, and the remaining items will move accordingly:"
      ],
      "metadata": {
        "id": "UCHLUlH4yWsz"
      }
    },
    {
      "cell_type": "code",
      "source": [
        "#Change the second value by replacing it with two new values:\n",
        "\n",
        "thislist = [\"apple\", \"banana\", \"cherry\"]\n",
        "thislist[1:2] = [\"blackcurrant\", \"watermelon\"]\n",
        "print(thislist)"
      ],
      "metadata": {
        "colab": {
          "base_uri": "https://localhost:8080/"
        },
        "id": "5cE8CxS9yXiK",
        "outputId": "f3fbb794-57b3-49d2-9186-de4ae878017f"
      },
      "execution_count": 203,
      "outputs": [
        {
          "output_type": "stream",
          "name": "stdout",
          "text": [
            "['apple', 'blackcurrant', 'watermelon', 'cherry']\n"
          ]
        }
      ]
    },
    {
      "cell_type": "markdown",
      "source": [
        "Note: The length of the list will change when the number of items inserted does not match the number of items replaced.\n",
        "\n",
        "If you insert less items than you replace, the new items will be inserted where you specified, and the remaining items will move accordingly:"
      ],
      "metadata": {
        "id": "yMLhbtRJybPK"
      }
    },
    {
      "cell_type": "code",
      "source": [
        "#Change the second and third value by replacing it with one value:\n",
        "\n",
        "thislist = [\"apple\", \"banana\", \"cherry\"]\n",
        "thislist[1:3] = [\"watermelon\"]\n",
        "print(thislist)"
      ],
      "metadata": {
        "colab": {
          "base_uri": "https://localhost:8080/"
        },
        "id": "ffa-eOYwydI5",
        "outputId": "f9ce6ac6-6212-4d5e-ccc1-c80698c55709"
      },
      "execution_count": 204,
      "outputs": [
        {
          "output_type": "stream",
          "name": "stdout",
          "text": [
            "['apple', 'watermelon']\n"
          ]
        }
      ]
    },
    {
      "cell_type": "markdown",
      "source": [
        "**Insert Items**:\n",
        "\n",
        "\n",
        "To insert a new list item, without replacing any of the existing values, we can use the insert() method.\n",
        "\n",
        "The insert() method inserts an item at the specified index:"
      ],
      "metadata": {
        "id": "rRUC1wKnygN6"
      }
    },
    {
      "cell_type": "code",
      "source": [
        "#Insert \"watermelon\" as the third item:\n",
        "\n",
        "thislist = [\"apple\", \"banana\", \"cherry\"]\n",
        "thislist.insert(2, \"watermelon\")\n",
        "print(thislist)"
      ],
      "metadata": {
        "colab": {
          "base_uri": "https://localhost:8080/"
        },
        "id": "nNsB9C64ydt0",
        "outputId": "1f99a6b4-7d1c-488d-bfe4-2fb4577a6cce"
      },
      "execution_count": 205,
      "outputs": [
        {
          "output_type": "stream",
          "name": "stdout",
          "text": [
            "['apple', 'banana', 'watermelon', 'cherry']\n"
          ]
        }
      ]
    },
    {
      "cell_type": "markdown",
      "source": [
        "Note: As a result of the example above, the list will now contain 4 items.\n",
        "\n"
      ],
      "metadata": {
        "id": "t0vOy1mhyk66"
      }
    },
    {
      "cell_type": "markdown",
      "source": [
        "**Python - Add List Items**"
      ],
      "metadata": {
        "id": "vLjF9UTgy3Gt"
      }
    },
    {
      "cell_type": "markdown",
      "source": [
        "**Append Items**:\n",
        "\n",
        "\n",
        "To add an item to the end of the list, use the append() method:"
      ],
      "metadata": {
        "id": "ngMVi-jly8cK"
      }
    },
    {
      "cell_type": "code",
      "source": [
        "#Using the append() method to append an item:\n",
        "\n",
        "thislist = [\"apple\", \"banana\", \"cherry\"]\n",
        "thislist.append(\"orange\")\n",
        "print(thislist)"
      ],
      "metadata": {
        "colab": {
          "base_uri": "https://localhost:8080/"
        },
        "id": "eJ1jkCStyjq6",
        "outputId": "9de6c09e-7f2b-4316-b51a-6ec88a691c2b"
      },
      "execution_count": 206,
      "outputs": [
        {
          "output_type": "stream",
          "name": "stdout",
          "text": [
            "['apple', 'banana', 'cherry', 'orange']\n"
          ]
        }
      ]
    },
    {
      "cell_type": "markdown",
      "source": [
        "**Insert Items**:\n",
        "\n",
        "To insert a list item at a specified index, use the insert() method.\n",
        "\n",
        "The insert() method inserts an item at the specified index:"
      ],
      "metadata": {
        "id": "zG4RQdhozCfh"
      }
    },
    {
      "cell_type": "code",
      "source": [
        "#Insert an item as the second position:\n",
        "\n",
        "thislist = [\"apple\", \"banana\", \"cherry\"]\n",
        "thislist.insert(1, \"orange\")\n",
        "print(thislist)"
      ],
      "metadata": {
        "colab": {
          "base_uri": "https://localhost:8080/"
        },
        "id": "bbfXMjPbzAUa",
        "outputId": "8da8758d-cd61-42e3-f9a8-e494ea827c15"
      },
      "execution_count": 207,
      "outputs": [
        {
          "output_type": "stream",
          "name": "stdout",
          "text": [
            "['apple', 'orange', 'banana', 'cherry']\n"
          ]
        }
      ]
    },
    {
      "cell_type": "markdown",
      "source": [
        "Note: As a result of the examples above, the lists will now contain 4 items.\n",
        "\n"
      ],
      "metadata": {
        "id": "8PwmZtTpzGfK"
      }
    },
    {
      "cell_type": "markdown",
      "source": [
        "**Extend List:**\n",
        "\n",
        "To append elements from another list to the current list, use the extend() method."
      ],
      "metadata": {
        "id": "eLBVyjEbzH6x"
      }
    },
    {
      "cell_type": "code",
      "source": [
        "#Add the elements of tropical to thislist:\n",
        "\n",
        "thislist = [\"apple\", \"banana\", \"cherry\"]\n",
        "tropical = [\"mango\", \"pineapple\", \"papaya\"]\n",
        "thislist.extend(tropical)\n",
        "print(thislist)"
      ],
      "metadata": {
        "colab": {
          "base_uri": "https://localhost:8080/"
        },
        "id": "VVdBhRT1zKq5",
        "outputId": "8d8a36ec-491e-4eea-c59a-f2c3553b1ed7"
      },
      "execution_count": 208,
      "outputs": [
        {
          "output_type": "stream",
          "name": "stdout",
          "text": [
            "['apple', 'banana', 'cherry', 'mango', 'pineapple', 'papaya']\n"
          ]
        }
      ]
    },
    {
      "cell_type": "markdown",
      "source": [
        "The elements will be added to the end of the list.\n",
        "\n"
      ],
      "metadata": {
        "id": "CLUgtuarzNqx"
      }
    },
    {
      "cell_type": "markdown",
      "source": [
        "**Add Any Iterable:**\n",
        "\n",
        "The extend() method does not have to append lists, you can add any iterable object (tuples, sets, dictionaries etc.)."
      ],
      "metadata": {
        "id": "riR1dyf5zOEp"
      }
    },
    {
      "cell_type": "code",
      "source": [
        "#Add elements of a tuple to a list:\n",
        "\n",
        "thislist = [\"apple\", \"banana\", \"cherry\"]\n",
        "thistuple = (\"kiwi\", \"orange\")\n",
        "thislist.extend(thistuple)\n",
        "print(thislist)"
      ],
      "metadata": {
        "colab": {
          "base_uri": "https://localhost:8080/"
        },
        "id": "tLikgL6PzSNZ",
        "outputId": "1e1548e5-7876-49e5-cc07-beccc6ea5686"
      },
      "execution_count": 209,
      "outputs": [
        {
          "output_type": "stream",
          "name": "stdout",
          "text": [
            "['apple', 'banana', 'cherry', 'kiwi', 'orange']\n"
          ]
        }
      ]
    },
    {
      "cell_type": "markdown",
      "source": [
        "**Python - Remove List Items**"
      ],
      "metadata": {
        "id": "m9EqocSUzUv4"
      }
    },
    {
      "cell_type": "markdown",
      "source": [
        "**Remove Specified Item**:\n",
        "\n",
        "The remove() method removes the specified item."
      ],
      "metadata": {
        "id": "hFBYpCAizW3w"
      }
    },
    {
      "cell_type": "code",
      "source": [
        "#Remove \"banana\":\n",
        "\n",
        "thislist = [\"apple\", \"banana\", \"cherry\"]\n",
        "thislist.remove(\"banana\")\n",
        "print(thislist)"
      ],
      "metadata": {
        "colab": {
          "base_uri": "https://localhost:8080/"
        },
        "id": "GHqRmTDPzWiZ",
        "outputId": "3a368003-1b84-45c4-a590-ecf44c4ec8d4"
      },
      "execution_count": 210,
      "outputs": [
        {
          "output_type": "stream",
          "name": "stdout",
          "text": [
            "['apple', 'cherry']\n"
          ]
        }
      ]
    },
    {
      "cell_type": "markdown",
      "source": [
        "If there are more than one item with the specified value, the remove() method removes the first occurrence:"
      ],
      "metadata": {
        "id": "R3kjlVMzzeMa"
      }
    },
    {
      "cell_type": "code",
      "source": [
        "#Remove the first occurrence of \"banana\":\n",
        "\n",
        "thislist = [\"apple\", \"banana\", \"cherry\", \"banana\", \"kiwi\"]\n",
        "thislist.remove(\"banana\")\n",
        "print(thislist)"
      ],
      "metadata": {
        "colab": {
          "base_uri": "https://localhost:8080/"
        },
        "id": "LNZSNDjXzbvI",
        "outputId": "51613399-6ac5-41d9-8600-4825136fd960"
      },
      "execution_count": 211,
      "outputs": [
        {
          "output_type": "stream",
          "name": "stdout",
          "text": [
            "['apple', 'cherry', 'banana', 'kiwi']\n"
          ]
        }
      ]
    },
    {
      "cell_type": "markdown",
      "source": [
        "**Remove Specified Index:**\n",
        "\n",
        "The pop() method removes the specified index."
      ],
      "metadata": {
        "id": "bXVu-As8zira"
      }
    },
    {
      "cell_type": "code",
      "source": [
        "# Remove the second item:\n",
        "\n",
        "thislist = [\"apple\", \"banana\", \"cherry\"]\n",
        "thislist.pop(1)\n",
        "print(thislist)"
      ],
      "metadata": {
        "colab": {
          "base_uri": "https://localhost:8080/"
        },
        "id": "XtcYGP5YzgfF",
        "outputId": "84f33133-3e04-49b4-9657-68e81ed7a08c"
      },
      "execution_count": 212,
      "outputs": [
        {
          "output_type": "stream",
          "name": "stdout",
          "text": [
            "['apple', 'cherry']\n"
          ]
        }
      ]
    },
    {
      "cell_type": "markdown",
      "source": [
        "If you do not specify the index, the pop() method removes the last item.\n",
        "\n"
      ],
      "metadata": {
        "id": "dTHEavemzomg"
      }
    },
    {
      "cell_type": "code",
      "source": [
        "#Remove the last item:\n",
        "\n",
        "thislist = [\"apple\", \"banana\", \"cherry\"]\n",
        "thislist.pop()\n",
        "print(thislist)"
      ],
      "metadata": {
        "colab": {
          "base_uri": "https://localhost:8080/"
        },
        "id": "rxhG9WBYznfN",
        "outputId": "b9f6e6d6-37e8-4f14-cb32-72d633fa3738"
      },
      "execution_count": 213,
      "outputs": [
        {
          "output_type": "stream",
          "name": "stdout",
          "text": [
            "['apple', 'banana']\n"
          ]
        }
      ]
    },
    {
      "cell_type": "markdown",
      "source": [
        "The del keyword also removes the specified index:\n",
        "\n"
      ],
      "metadata": {
        "id": "fZyqDViizsTp"
      }
    },
    {
      "cell_type": "code",
      "source": [
        "#Remove the first item:\n",
        "\n",
        "thislist = [\"apple\", \"banana\", \"cherry\"]\n",
        "del thislist[0]\n",
        "print(thislist)"
      ],
      "metadata": {
        "colab": {
          "base_uri": "https://localhost:8080/"
        },
        "id": "C0x87LlozqOE",
        "outputId": "fa6408da-99c8-4c4c-8ada-c39e6c653018"
      },
      "execution_count": 214,
      "outputs": [
        {
          "output_type": "stream",
          "name": "stdout",
          "text": [
            "['banana', 'cherry']\n"
          ]
        }
      ]
    },
    {
      "cell_type": "markdown",
      "source": [
        "The del keyword can also delete the list completely.\n",
        "\n"
      ],
      "metadata": {
        "id": "wfKmvaoTzu36"
      }
    },
    {
      "cell_type": "code",
      "source": [
        "#Delete the entire list:\n",
        "\n",
        "thislist = [\"apple\", \"banana\", \"cherry\"]\n",
        "del thislist"
      ],
      "metadata": {
        "id": "KGBP7cIzzv7Z"
      },
      "execution_count": 215,
      "outputs": []
    },
    {
      "cell_type": "markdown",
      "source": [
        "**Clear the List:**\n",
        "\n",
        "The clear() method empties the list.\n",
        "\n",
        "The list still remains, but it has no content."
      ],
      "metadata": {
        "id": "-OnDYJlxz0RA"
      }
    },
    {
      "cell_type": "code",
      "source": [
        "#Clear the list content:\n",
        "\n",
        "thislist = [\"apple\", \"banana\", \"cherry\"]\n",
        "thislist.clear()\n",
        "print(thislist)"
      ],
      "metadata": {
        "colab": {
          "base_uri": "https://localhost:8080/"
        },
        "id": "c-0HyEIHzwqB",
        "outputId": "5a5b66b4-e7b9-4ac5-d5c3-bbaa23027cc8"
      },
      "execution_count": 216,
      "outputs": [
        {
          "output_type": "stream",
          "name": "stdout",
          "text": [
            "[]\n"
          ]
        }
      ]
    },
    {
      "cell_type": "markdown",
      "source": [
        "**Python - Loop Lists**\n"
      ],
      "metadata": {
        "id": "z3HteSewz-kp"
      }
    },
    {
      "cell_type": "markdown",
      "source": [
        "**Loop Through a List:**\n",
        "\n",
        "You can loop through the list items by using a for loop:"
      ],
      "metadata": {
        "id": "IssKfJ3O0BNB"
      }
    },
    {
      "cell_type": "code",
      "source": [
        "#Print all items in the list, one by one:\n",
        "\n",
        "thislist = [\"apple\", \"banana\", \"cherry\"]\n",
        "for x in thislist:\n",
        "  print(x)"
      ],
      "metadata": {
        "colab": {
          "base_uri": "https://localhost:8080/"
        },
        "id": "P8h0bosfz4hz",
        "outputId": "c9dee0c4-cc05-4355-cc22-630b645f310a"
      },
      "execution_count": 217,
      "outputs": [
        {
          "output_type": "stream",
          "name": "stdout",
          "text": [
            "apple\n",
            "banana\n",
            "cherry\n"
          ]
        }
      ]
    },
    {
      "cell_type": "markdown",
      "source": [
        "**Loop Through the Index Numbers:**\n",
        "\n",
        "You can also loop through the list items by referring to their index number.\n",
        "\n",
        "Use the range() and len() functions to create a suitable iterable."
      ],
      "metadata": {
        "id": "yRSGrDIY0JQR"
      }
    },
    {
      "cell_type": "code",
      "source": [
        "#Print all items by referring to their index number:\n",
        "\n",
        "thislist = [\"apple\", \"banana\", \"cherry\"]\n",
        "for i in range(len(thislist)):\n",
        "  print(thislist[i])"
      ],
      "metadata": {
        "colab": {
          "base_uri": "https://localhost:8080/"
        },
        "id": "IguB5Sci0Eti",
        "outputId": "674f4f06-55ff-49f3-954e-062d96f4f7c6"
      },
      "execution_count": 218,
      "outputs": [
        {
          "output_type": "stream",
          "name": "stdout",
          "text": [
            "apple\n",
            "banana\n",
            "cherry\n"
          ]
        }
      ]
    },
    {
      "cell_type": "markdown",
      "source": [
        "The iterable created in the example above is [0, 1, 2].\n",
        "\n",
        "**"
      ],
      "metadata": {
        "id": "kYgpfvaA0Q9w"
      }
    },
    {
      "cell_type": "markdown",
      "source": [
        "**Using a While Loop:**\n",
        "\n",
        "You can loop through the list items by using a while loop.\n",
        "\n",
        "Use the len() function to determine the length of the list, then start at 0 and loop your way through the list items by referring to their indexes.\n",
        "\n",
        "Remember to increase the index by 1 after each iteration."
      ],
      "metadata": {
        "id": "8esw7ulW0Sww"
      }
    },
    {
      "cell_type": "code",
      "source": [
        "#Print all items, using a while loop to go through all the index numbers\n",
        "\n",
        "thislist = [\"apple\", \"banana\", \"cherry\"]\n",
        "i = 0\n",
        "while i < len(thislist):\n",
        "  print(thislist[i])\n",
        "  i = i + 1"
      ],
      "metadata": {
        "colab": {
          "base_uri": "https://localhost:8080/"
        },
        "id": "p9q9kDEO0NU7",
        "outputId": "b9fd01d3-9e5e-4c19-f418-425e2b59883c"
      },
      "execution_count": 219,
      "outputs": [
        {
          "output_type": "stream",
          "name": "stdout",
          "text": [
            "apple\n",
            "banana\n",
            "cherry\n"
          ]
        }
      ]
    },
    {
      "cell_type": "markdown",
      "source": [
        "**Looping Using List Comprehension:**\n",
        "\n",
        "List Comprehension offers the shortest syntax for looping through lists:"
      ],
      "metadata": {
        "id": "W2vu95Rl0bl4"
      }
    },
    {
      "cell_type": "code",
      "source": [
        "#A short hand for loop that will print all items in a list:\n",
        "\n",
        "thislist = [\"apple\", \"banana\", \"cherry\"]\n",
        "[print(x) for x in thislist]"
      ],
      "metadata": {
        "colab": {
          "base_uri": "https://localhost:8080/"
        },
        "id": "dhc8e5hv0ZcU",
        "outputId": "827c9d81-7df8-4137-b973-5526ce0d4a2e"
      },
      "execution_count": 220,
      "outputs": [
        {
          "output_type": "stream",
          "name": "stdout",
          "text": [
            "apple\n",
            "banana\n",
            "cherry\n"
          ]
        },
        {
          "output_type": "execute_result",
          "data": {
            "text/plain": [
              "[None, None, None]"
            ]
          },
          "metadata": {},
          "execution_count": 220
        }
      ]
    },
    {
      "cell_type": "markdown",
      "source": [
        "**Python - List Comprehension**\n"
      ],
      "metadata": {
        "id": "l6gOUHQ90wzI"
      }
    },
    {
      "cell_type": "markdown",
      "source": [
        "**List Comprehension**\n",
        "\n",
        "List comprehension offers a shorter syntax when you want to create a new list based on the values of an existing list.\n",
        "\n",
        "Example:\n",
        "\n",
        "Based on a list of fruits, you want a new list, containing only the fruits with the letter \"a\" in the name.\n",
        "\n",
        "Without list comprehension you will have to write a for statement with a conditional test inside:"
      ],
      "metadata": {
        "id": "gtJ6k-gT00v4"
      }
    },
    {
      "cell_type": "code",
      "source": [
        "fruits = [\"apple\", \"banana\", \"cherry\", \"kiwi\", \"mango\"]\n",
        "newlist = []\n",
        "\n",
        "for x in fruits:\n",
        "  if \"a\" in x:\n",
        "    newlist.append(x)\n",
        "\n",
        "print(newlist)"
      ],
      "metadata": {
        "colab": {
          "base_uri": "https://localhost:8080/"
        },
        "id": "7t9Llrn50fMp",
        "outputId": "dc64c7a9-0528-4c2a-9b47-1226ea15464b"
      },
      "execution_count": 221,
      "outputs": [
        {
          "output_type": "stream",
          "name": "stdout",
          "text": [
            "['apple', 'banana', 'mango']\n"
          ]
        }
      ]
    },
    {
      "cell_type": "markdown",
      "source": [
        "With list comprehension you can do all that with only one line of code:"
      ],
      "metadata": {
        "id": "Cqxvx79F07IP"
      }
    },
    {
      "cell_type": "code",
      "source": [
        "fruits = [\"apple\", \"banana\", \"cherry\", \"kiwi\", \"mango\"]\n",
        "\n",
        "newlist = [x for x in fruits if \"a\" in x]\n",
        "\n",
        "print(newlist)"
      ],
      "metadata": {
        "colab": {
          "base_uri": "https://localhost:8080/"
        },
        "id": "i_IfHg6H083A",
        "outputId": "9d0c7e7c-23be-4981-845f-1a5356b288b3"
      },
      "execution_count": 222,
      "outputs": [
        {
          "output_type": "stream",
          "name": "stdout",
          "text": [
            "['apple', 'banana', 'mango']\n"
          ]
        }
      ]
    },
    {
      "cell_type": "markdown",
      "source": [
        "**The Syntax:**\n",
        "\n",
        "newlist = [expression for item in iterable if condition == True]\n",
        "The return value is a new list, leaving the old list unchanged.\n",
        "\n",
        "Condition:\n",
        "\n",
        "The condition is like a filter that only accepts the items that evaluate to True."
      ],
      "metadata": {
        "id": "Jg4adJTF0_y4"
      }
    },
    {
      "cell_type": "code",
      "source": [
        "#Only accept items that are not \"apple\":\n",
        "\n",
        "newlist = [x for x in fruits if x != \"apple\"]"
      ],
      "metadata": {
        "id": "ByAXVWOy1FQ4"
      },
      "execution_count": 223,
      "outputs": []
    },
    {
      "cell_type": "markdown",
      "source": [
        "The condition if x != \"apple\"  will return True for all elements other than \"apple\", making the new list contain all fruits except \"apple\".\n",
        "\n",
        "The condition is optional and can be omitted:"
      ],
      "metadata": {
        "id": "ta1gufwC1HwY"
      }
    },
    {
      "cell_type": "code",
      "source": [
        "#With no if statement:\n",
        "\n",
        "newlist = [x for x in fruits]"
      ],
      "metadata": {
        "id": "M6iD_jLR1GFg"
      },
      "execution_count": 224,
      "outputs": []
    },
    {
      "cell_type": "markdown",
      "source": [
        "**Iterable:**\n",
        "\n",
        "The iterable can be any iterable object, like a list, tuple, set etc."
      ],
      "metadata": {
        "id": "ABdg61Du1MCw"
      }
    },
    {
      "cell_type": "code",
      "source": [
        "#You can use the range() function to create an iterable:\n",
        "\n",
        "newlist = [x for x in range(10)]"
      ],
      "metadata": {
        "id": "p4fktEEP1KSJ"
      },
      "execution_count": 225,
      "outputs": []
    },
    {
      "cell_type": "markdown",
      "source": [
        "Same example, but with a condition:"
      ],
      "metadata": {
        "id": "I828wtGF1RLX"
      }
    },
    {
      "cell_type": "code",
      "source": [
        "#Accept only numbers lower than 5:\n",
        "\n",
        "newlist = [x for x in range(10) if x < 5]"
      ],
      "metadata": {
        "id": "3cTXAlaH1Oqv"
      },
      "execution_count": 226,
      "outputs": []
    },
    {
      "cell_type": "markdown",
      "source": [
        "**Expression:**\n",
        "\n",
        "The expression is the current item in the iteration, but it is also the outcome, which you can manipulate before it ends up like a list item in the new list:"
      ],
      "metadata": {
        "id": "325Q4L0B1VL4"
      }
    },
    {
      "cell_type": "code",
      "source": [
        "#Set the values in the new list to upper case:\n",
        "\n",
        "newlist = [x.upper() for x in fruits]"
      ],
      "metadata": {
        "id": "paYZrm341S8h"
      },
      "execution_count": 227,
      "outputs": []
    },
    {
      "cell_type": "markdown",
      "source": [
        "You can set the outcome to whatever you like:\n",
        "\n"
      ],
      "metadata": {
        "id": "qV9a1apR1bJ3"
      }
    },
    {
      "cell_type": "code",
      "source": [
        "#Set all values in the new list to 'hello':\n",
        "\n",
        "newlist = ['hello' for x in fruits]"
      ],
      "metadata": {
        "id": "ZPo6acgs1YrA"
      },
      "execution_count": 228,
      "outputs": []
    },
    {
      "cell_type": "markdown",
      "source": [
        "The expression can also contain conditions, not like a filter, but as a way to manipulate the outcome:"
      ],
      "metadata": {
        "id": "inQpiuI21lQg"
      }
    },
    {
      "cell_type": "code",
      "source": [
        "# Return \"orange\" instead of \"banana\":\n",
        "\n",
        "newlist = [x if x != \"banana\" else \"orange\" for x in fruits]"
      ],
      "metadata": {
        "id": "5zrlbUls1k1R"
      },
      "execution_count": 229,
      "outputs": []
    },
    {
      "cell_type": "markdown",
      "source": [
        "The expression in the example above says:\n",
        "\n",
        "\"Return the item if it is not banana, if it is banana return orange\"."
      ],
      "metadata": {
        "id": "ZukxrLX01pMH"
      }
    },
    {
      "cell_type": "markdown",
      "source": [
        "**Python - Sort Lists**"
      ],
      "metadata": {
        "id": "LYm8k6sx1rN_"
      }
    },
    {
      "cell_type": "markdown",
      "source": [
        "**Sort List Alphanumerically**:\n",
        "\n",
        "\n",
        "List objects have a sort() method that will sort the list alphanumerically, ascending, by default:"
      ],
      "metadata": {
        "id": "Cw3YTBCS1tjn"
      }
    },
    {
      "cell_type": "code",
      "source": [
        "#Sort the list alphabetically:\n",
        "\n",
        "thislist = [\"orange\", \"mango\", \"kiwi\", \"pineapple\", \"banana\"]\n",
        "thislist.sort()\n",
        "print(thislist)"
      ],
      "metadata": {
        "colab": {
          "base_uri": "https://localhost:8080/"
        },
        "id": "i_hjR2ft1eH5",
        "outputId": "f8432adf-38de-43d3-c450-a35cde522dc9"
      },
      "execution_count": 230,
      "outputs": [
        {
          "output_type": "stream",
          "name": "stdout",
          "text": [
            "['banana', 'kiwi', 'mango', 'orange', 'pineapple']\n"
          ]
        }
      ]
    },
    {
      "cell_type": "code",
      "source": [
        "#Sort the list numerically:\n",
        "\n",
        "thislist = [100, 50, 65, 82, 23]\n",
        "thislist.sort()\n",
        "print(thislist)"
      ],
      "metadata": {
        "colab": {
          "base_uri": "https://localhost:8080/"
        },
        "id": "_nZt4gNn1w8H",
        "outputId": "873b8555-c127-438f-9c78-861625936217"
      },
      "execution_count": 231,
      "outputs": [
        {
          "output_type": "stream",
          "name": "stdout",
          "text": [
            "[23, 50, 65, 82, 100]\n"
          ]
        }
      ]
    },
    {
      "cell_type": "markdown",
      "source": [
        "**Sort Descending:**\n",
        "\n",
        "To sort descending, use the keyword argument reverse = True:"
      ],
      "metadata": {
        "id": "G1RnAjWH11-P"
      }
    },
    {
      "cell_type": "code",
      "source": [
        "#Sort the list descending:\n",
        "\n",
        "thislist = [\"orange\", \"mango\", \"kiwi\", \"pineapple\", \"banana\"]\n",
        "thislist.sort(reverse = True)\n",
        "print(thislist)\n"
      ],
      "metadata": {
        "colab": {
          "base_uri": "https://localhost:8080/"
        },
        "id": "y-4UV-yY10Z1",
        "outputId": "06546b51-c64d-4eaa-a471-4598e2881cc8"
      },
      "execution_count": 232,
      "outputs": [
        {
          "output_type": "stream",
          "name": "stdout",
          "text": [
            "['pineapple', 'orange', 'mango', 'kiwi', 'banana']\n"
          ]
        }
      ]
    },
    {
      "cell_type": "code",
      "source": [
        "thislist = [100, 50, 65, 82, 23]\n",
        "thislist.sort(reverse = True)\n",
        "print(thislist)"
      ],
      "metadata": {
        "colab": {
          "base_uri": "https://localhost:8080/"
        },
        "id": "ishgzN0Y14j2",
        "outputId": "ae48b56c-c54c-4943-99cd-be8bea8b466e"
      },
      "execution_count": 233,
      "outputs": [
        {
          "output_type": "stream",
          "name": "stdout",
          "text": [
            "[100, 82, 65, 50, 23]\n"
          ]
        }
      ]
    },
    {
      "cell_type": "markdown",
      "source": [
        "**Customize Sort Function:**\n",
        "\n",
        "You can also customize your own function by using the keyword argument key = function.\n",
        "\n",
        "The function will return a number that will be used to sort the list (the lowest number first):"
      ],
      "metadata": {
        "id": "xpuXfrEm18hg"
      }
    },
    {
      "cell_type": "code",
      "source": [
        "#Sort the list based on how close the number is to 50:\n",
        "\n",
        "def myfunc(n):\n",
        "  return abs(n - 50)\n",
        "\n",
        "thislist = [100, 50, 65, 82, 23]\n",
        "thislist.sort(key = myfunc)\n",
        "print(thislist)"
      ],
      "metadata": {
        "colab": {
          "base_uri": "https://localhost:8080/"
        },
        "id": "t7jv4nvq1_1u",
        "outputId": "8b61cfa0-97d2-4b3f-eca9-554f344004da"
      },
      "execution_count": 234,
      "outputs": [
        {
          "output_type": "stream",
          "name": "stdout",
          "text": [
            "[50, 65, 23, 82, 100]\n"
          ]
        }
      ]
    },
    {
      "cell_type": "markdown",
      "source": [
        "**Case Insensitive Sort:**\n",
        "\n",
        "By default the sort() method is case sensitive, resulting in all capital letters being sorted before lower case letters:"
      ],
      "metadata": {
        "id": "es5wdsga2FP_"
      }
    },
    {
      "cell_type": "code",
      "source": [
        "#Case sensitive sorting can give an unexpected result:\n",
        "\n",
        "thislist = [\"banana\", \"Orange\", \"Kiwi\", \"cherry\"]\n",
        "thislist.sort()\n",
        "print(thislist)"
      ],
      "metadata": {
        "colab": {
          "base_uri": "https://localhost:8080/"
        },
        "id": "AaJGxm0a2BML",
        "outputId": "e1e0947b-908e-414c-8b7e-da24c2762da0"
      },
      "execution_count": 235,
      "outputs": [
        {
          "output_type": "stream",
          "name": "stdout",
          "text": [
            "['Kiwi', 'Orange', 'banana', 'cherry']\n"
          ]
        }
      ]
    },
    {
      "cell_type": "markdown",
      "source": [
        "Luckily we can use built-in functions as key functions when sorting a list.\n",
        "\n",
        "So if you want a case-insensitive sort function, use str.lower as a key function:"
      ],
      "metadata": {
        "id": "9mTF_kul2Ku_"
      }
    },
    {
      "cell_type": "code",
      "source": [
        "#Perform a case-insensitive sort of the list:\n",
        "\n",
        "thislist = [\"banana\", \"Orange\", \"Kiwi\", \"cherry\"]\n",
        "thislist.sort(key = str.lower)\n",
        "print(thislist)"
      ],
      "metadata": {
        "colab": {
          "base_uri": "https://localhost:8080/"
        },
        "id": "Kcg9cXFj2JBl",
        "outputId": "c862ef7b-2cd6-419f-cb20-676d1c0a7411"
      },
      "execution_count": 236,
      "outputs": [
        {
          "output_type": "stream",
          "name": "stdout",
          "text": [
            "['banana', 'cherry', 'Kiwi', 'Orange']\n"
          ]
        }
      ]
    },
    {
      "cell_type": "markdown",
      "source": [
        "**Reverse Order:**\n",
        "\n",
        "What if you want to reverse the order of a list, regardless of the alphabet?\n",
        "\n",
        "The reverse() method reverses the current sorting order of the elements."
      ],
      "metadata": {
        "id": "OJ4ITnfq2OTX"
      }
    },
    {
      "cell_type": "code",
      "source": [
        "#Reverse the order of the list items:\n",
        "\n",
        "thislist = [\"banana\", \"Orange\", \"Kiwi\", \"cherry\"]\n",
        "thislist.reverse()\n",
        "print(thislist)"
      ],
      "metadata": {
        "colab": {
          "base_uri": "https://localhost:8080/"
        },
        "id": "eoggYCuu2KgH",
        "outputId": "041bc3b1-4db1-4b41-fa49-1706ee850b4c"
      },
      "execution_count": 237,
      "outputs": [
        {
          "output_type": "stream",
          "name": "stdout",
          "text": [
            "['cherry', 'Kiwi', 'Orange', 'banana']\n"
          ]
        }
      ]
    },
    {
      "cell_type": "markdown",
      "source": [
        "**Python - Copy Lists**"
      ],
      "metadata": {
        "id": "2UhXFjdK2Xgo"
      }
    },
    {
      "cell_type": "markdown",
      "source": [
        "**Copy a List:**\n",
        "\n",
        "You cannot copy a list simply by typing list2 = list1, because: list2 will only be a reference to list1, and changes made in list1 will automatically also be made in list2.\n",
        "\n",
        "**Use the copy() method:**\n",
        "\n",
        "You can use the built-in List method copy() to copy a list."
      ],
      "metadata": {
        "id": "Kjzdu2GD2cfI"
      }
    },
    {
      "cell_type": "code",
      "source": [
        "#Make a copy of a list with the copy() method:\n",
        "\n",
        "thislist = [\"apple\", \"banana\", \"cherry\"]\n",
        "mylist = thislist.copy()\n",
        "Use the list() method\n",
        "Another way to make a copy is to use the built-in method list().print(mylist)"
      ],
      "metadata": {
        "colab": {
          "base_uri": "https://localhost:8080/",
          "height": 106
        },
        "id": "CIbszzfz2SMV",
        "outputId": "b27bd82a-a3e2-4050-b3a1-520c7dec16a2"
      },
      "execution_count": 238,
      "outputs": [
        {
          "output_type": "error",
          "ename": "SyntaxError",
          "evalue": "invalid syntax (ipython-input-2399365550.py, line 5)",
          "traceback": [
            "\u001b[0;36m  File \u001b[0;32m\"/tmp/ipython-input-2399365550.py\"\u001b[0;36m, line \u001b[0;32m5\u001b[0m\n\u001b[0;31m    Use the list() method\u001b[0m\n\u001b[0m        ^\u001b[0m\n\u001b[0;31mSyntaxError\u001b[0m\u001b[0;31m:\u001b[0m invalid syntax\n"
          ]
        }
      ]
    },
    {
      "cell_type": "markdown",
      "source": [
        "**Use the list() method:**\n",
        "\n",
        "Another way to make a copy is to use the built-in method list()."
      ],
      "metadata": {
        "id": "Zjn0KjKV2jaP"
      }
    },
    {
      "cell_type": "code",
      "source": [
        "#Make a copy of a list with the list() method:\n",
        "\n",
        "thislist = [\"apple\", \"banana\", \"cherry\"]\n",
        "mylist = list(thislist)\n",
        "print(mylist)"
      ],
      "metadata": {
        "id": "rDhQdskr2hq6"
      },
      "execution_count": null,
      "outputs": []
    },
    {
      "cell_type": "markdown",
      "source": [
        "**Use the slice Operator:**\n",
        "\n",
        "You can also make a copy of a list by using the : (slice) operator."
      ],
      "metadata": {
        "id": "tAnABwCQ2rQ-"
      }
    },
    {
      "cell_type": "code",
      "source": [
        "#Make a copy of a list with the : operator:\n",
        "\n",
        "thislist = [\"apple\", \"banana\", \"cherry\"]\n",
        "mylist = thislist[:]\n",
        "print(mylist)"
      ],
      "metadata": {
        "id": "hjG9bthS2txO"
      },
      "execution_count": null,
      "outputs": []
    },
    {
      "cell_type": "markdown",
      "source": [
        "**Python - Join Lists**"
      ],
      "metadata": {
        "id": "szvsRx5j2yh5"
      }
    },
    {
      "cell_type": "markdown",
      "source": [
        "**Join Two Lists:**\n",
        "\n",
        "There are several ways to join, or concatenate, two or more lists in Python.\n",
        "\n",
        "One of the easiest ways are by using the + operator."
      ],
      "metadata": {
        "id": "aUAjuDY021Rz"
      }
    },
    {
      "cell_type": "code",
      "source": [
        "#Join two list:\n",
        "\n",
        "list1 = [\"a\", \"b\", \"c\"]\n",
        "list2 = [1, 2, 3]\n",
        "\n",
        "list3 = list1 + list2\n",
        "print(list3)"
      ],
      "metadata": {
        "id": "GNw-jGq42n8F"
      },
      "execution_count": null,
      "outputs": []
    },
    {
      "cell_type": "markdown",
      "source": [
        "Another way to join two lists is by appending all the items from list2 into list1, one by one:"
      ],
      "metadata": {
        "id": "tqgZ6wOx26AH"
      }
    },
    {
      "cell_type": "code",
      "source": [
        "#Append list2 into list1:\n",
        "\n",
        "list1 = [\"a\", \"b\" , \"c\"]\n",
        "list2 = [1, 2, 3]\n",
        "\n",
        "for x in list2:\n",
        "  list1.append(x)\n",
        "\n",
        "print(list1)"
      ],
      "metadata": {
        "id": "Yf0DWp_L24Ws"
      },
      "execution_count": null,
      "outputs": []
    },
    {
      "cell_type": "markdown",
      "source": [
        "Or you can use the extend() method, where the purpose is to add elements from one list to another list:"
      ],
      "metadata": {
        "id": "CAZHUqSH29mu"
      }
    },
    {
      "cell_type": "code",
      "source": [
        "#Use the extend() method to add list2 at the end of list1:\n",
        "\n",
        "list1 = [\"a\", \"b\" , \"c\"]\n",
        "list2 = [1, 2, 3]\n",
        "\n",
        "list1.extend(list2)\n",
        "print(list1)"
      ],
      "metadata": {
        "colab": {
          "base_uri": "https://localhost:8080/"
        },
        "id": "-pgi2TGq278-",
        "outputId": "8a1858f9-5fbe-4d7e-9ccd-4a245bd20f71"
      },
      "execution_count": 239,
      "outputs": [
        {
          "output_type": "stream",
          "name": "stdout",
          "text": [
            "['a', 'b', 'c', 1, 2, 3]\n"
          ]
        }
      ]
    },
    {
      "cell_type": "markdown",
      "source": [
        "**Python - List Methods**\n"
      ],
      "metadata": {
        "id": "WKVR6caE3A9q"
      }
    },
    {
      "cell_type": "markdown",
      "source": [
        "**List Methods:**\n",
        "\n",
        "Python has a set of built-in methods that you can use on lists.\n",
        "\n",
        "**Method\tDescription**\n",
        "\n",
        "1. append()\tAdds an element at the end of the list\n",
        "2. clear()\tRemoves all the elements from the list\n",
        "3. copy()\tReturns a copy of the list\n",
        "4. count()\tReturns the number of elements with the specified value\n",
        "5. extend()\tAdd the elements of a list (or any iterable), to the end of the current list\n",
        "6. index()\tReturns the index of the first element with the specified value\n",
        "7. insert()\tAdds an element at the specified position\n",
        "8. pop()\tRemoves the element at the specified position\n",
        "9. remove()\tRemoves the item with the specified value\n",
        "10. reverse()\tReverses the order of the list\n",
        "11. sort()\tSorts the list"
      ],
      "metadata": {
        "id": "ZVFDBxQI3Hl2"
      }
    },
    {
      "cell_type": "markdown",
      "source": [
        "## **Python Tuples**"
      ],
      "metadata": {
        "id": "KVPZh1yV38qW"
      }
    },
    {
      "cell_type": "code",
      "source": [],
      "metadata": {
        "id": "JQ4skAS_4OGd"
      },
      "execution_count": null,
      "outputs": []
    },
    {
      "cell_type": "markdown",
      "source": [
        "## **Python Sets**"
      ],
      "metadata": {
        "id": "FgDRA7JT4AfG"
      }
    },
    {
      "cell_type": "code",
      "source": [],
      "metadata": {
        "id": "4frWUewK4PIt"
      },
      "execution_count": null,
      "outputs": []
    },
    {
      "cell_type": "markdown",
      "source": [
        "## **Python Dictionaries**"
      ],
      "metadata": {
        "id": "dxxLJPcC4A39"
      }
    },
    {
      "cell_type": "code",
      "source": [],
      "metadata": {
        "id": "_1K6ukYc4U3V"
      },
      "execution_count": null,
      "outputs": []
    },
    {
      "cell_type": "markdown",
      "source": [
        "## **Python IF...Else**"
      ],
      "metadata": {
        "id": "Yt1y-q-34BON"
      }
    },
    {
      "cell_type": "code",
      "source": [],
      "metadata": {
        "id": "jG-i8_9l4bGt"
      },
      "execution_count": null,
      "outputs": []
    },
    {
      "cell_type": "markdown",
      "source": [
        "## **Python Match**"
      ],
      "metadata": {
        "id": "INShOH_n4BhO"
      }
    },
    {
      "cell_type": "code",
      "source": [],
      "metadata": {
        "id": "eeV5zMVL4hAt"
      },
      "execution_count": null,
      "outputs": []
    },
    {
      "cell_type": "markdown",
      "source": [
        "## **Python While Loops**"
      ],
      "metadata": {
        "id": "tk7LH2I-4B72"
      }
    },
    {
      "cell_type": "code",
      "source": [],
      "metadata": {
        "id": "WGvxCzm14ndO"
      },
      "execution_count": null,
      "outputs": []
    },
    {
      "cell_type": "markdown",
      "source": [
        "## **Python FOR Loops**"
      ],
      "metadata": {
        "id": "1mfsfvYV4nD9"
      }
    },
    {
      "cell_type": "code",
      "source": [],
      "metadata": {
        "id": "TRmCRy_H4t_E"
      },
      "execution_count": null,
      "outputs": []
    },
    {
      "cell_type": "markdown",
      "source": [
        "## **Python Functions**"
      ],
      "metadata": {
        "id": "UH91pEmM4ufE"
      }
    },
    {
      "cell_type": "code",
      "source": [],
      "metadata": {
        "id": "kwRVxMCn4yCF"
      },
      "execution_count": null,
      "outputs": []
    },
    {
      "cell_type": "markdown",
      "source": [
        "## Python Lambda"
      ],
      "metadata": {
        "id": "lNmq9YjX4ygl"
      }
    },
    {
      "cell_type": "code",
      "source": [],
      "metadata": {
        "id": "et7fbcln2_QO"
      },
      "execution_count": 239,
      "outputs": []
    },
    {
      "cell_type": "markdown",
      "source": [
        "## Python Arrays"
      ],
      "metadata": {
        "id": "0Gje9eMY403F"
      }
    },
    {
      "cell_type": "code",
      "source": [],
      "metadata": {
        "id": "NEbNzJPn43X9"
      },
      "execution_count": null,
      "outputs": []
    },
    {
      "cell_type": "markdown",
      "source": [
        "## Python OOP"
      ],
      "metadata": {
        "id": "2o7xJMLO43nU"
      }
    },
    {
      "cell_type": "code",
      "source": [],
      "metadata": {
        "id": "pcEklbgD45p0"
      },
      "execution_count": null,
      "outputs": []
    },
    {
      "cell_type": "markdown",
      "source": [
        "## Python CLasses / Objects"
      ],
      "metadata": {
        "id": "pdAlKX9j456N"
      }
    },
    {
      "cell_type": "code",
      "source": [],
      "metadata": {
        "id": "LxvaJSFS48us"
      },
      "execution_count": null,
      "outputs": []
    },
    {
      "cell_type": "markdown",
      "source": [
        "## Python Inheritance"
      ],
      "metadata": {
        "id": "jH6QZUL1489s"
      }
    },
    {
      "cell_type": "code",
      "source": [],
      "metadata": {
        "id": "9NxWkjv54_O9"
      },
      "execution_count": null,
      "outputs": []
    },
    {
      "cell_type": "markdown",
      "source": [
        "## Python Iterators"
      ],
      "metadata": {
        "id": "REra72Jn4_js"
      }
    },
    {
      "cell_type": "code",
      "source": [],
      "metadata": {
        "id": "6gLI4QxP5EA9"
      },
      "execution_count": null,
      "outputs": []
    },
    {
      "cell_type": "markdown",
      "source": [
        "## Python Polymorphism"
      ],
      "metadata": {
        "id": "B1nz0LQh5EY1"
      }
    },
    {
      "cell_type": "code",
      "source": [],
      "metadata": {
        "id": "lAxpmgYeBN5R"
      },
      "execution_count": null,
      "outputs": []
    },
    {
      "cell_type": "markdown",
      "source": [
        "##Python Scope"
      ],
      "metadata": {
        "id": "WpQehn9xBOLw"
      }
    },
    {
      "cell_type": "code",
      "source": [],
      "metadata": {
        "id": "c8Hk7qU-BQMB"
      },
      "execution_count": null,
      "outputs": []
    },
    {
      "cell_type": "markdown",
      "source": [
        "## Python Modeules"
      ],
      "metadata": {
        "id": "h1NeL9btBQkx"
      }
    },
    {
      "cell_type": "code",
      "source": [],
      "metadata": {
        "id": "-GamdL2FBS2Z"
      },
      "execution_count": null,
      "outputs": []
    },
    {
      "cell_type": "markdown",
      "source": [
        "## Python Dates"
      ],
      "metadata": {
        "id": "13CpIj5BBTMK"
      }
    },
    {
      "cell_type": "code",
      "source": [],
      "metadata": {
        "id": "ALkQHOsYBVNI"
      },
      "execution_count": null,
      "outputs": []
    },
    {
      "cell_type": "markdown",
      "source": [
        "##Python Math"
      ],
      "metadata": {
        "id": "imYmp2vCBVhq"
      }
    },
    {
      "cell_type": "code",
      "source": [],
      "metadata": {
        "id": "uIdV7K-HBXTz"
      },
      "execution_count": null,
      "outputs": []
    },
    {
      "cell_type": "markdown",
      "source": [
        "## Python JSON"
      ],
      "metadata": {
        "id": "CDvpXD8qBXop"
      }
    },
    {
      "cell_type": "code",
      "source": [],
      "metadata": {
        "id": "nDxEUCmbBZDp"
      },
      "execution_count": null,
      "outputs": []
    },
    {
      "cell_type": "markdown",
      "source": [
        "## Python RegEx"
      ],
      "metadata": {
        "id": "0jKtsMWwBblq"
      }
    },
    {
      "cell_type": "code",
      "source": [],
      "metadata": {
        "id": "JJ3U_Xc3BeSo"
      },
      "execution_count": null,
      "outputs": []
    },
    {
      "cell_type": "markdown",
      "source": [
        "## Python PIP"
      ],
      "metadata": {
        "id": "3YHqr3dyBeox"
      }
    },
    {
      "cell_type": "code",
      "source": [],
      "metadata": {
        "id": "oAlbBCN2BhF4"
      },
      "execution_count": null,
      "outputs": []
    },
    {
      "cell_type": "markdown",
      "source": [
        "## Python Try... Except"
      ],
      "metadata": {
        "id": "MGud17a-Bheo"
      }
    },
    {
      "cell_type": "code",
      "source": [],
      "metadata": {
        "id": "Um8OdQG_BkRh"
      },
      "execution_count": null,
      "outputs": []
    },
    {
      "cell_type": "markdown",
      "source": [
        "## Python String Formatting"
      ],
      "metadata": {
        "id": "HYRziWluBkxb"
      }
    },
    {
      "cell_type": "code",
      "source": [],
      "metadata": {
        "id": "69A8VWTKBn5B"
      },
      "execution_count": null,
      "outputs": []
    },
    {
      "cell_type": "markdown",
      "source": [
        "## Python User Input"
      ],
      "metadata": {
        "id": "7ENy6WCNBoM6"
      }
    },
    {
      "cell_type": "code",
      "source": [],
      "metadata": {
        "id": "cTX2UFRQBqUY"
      },
      "execution_count": null,
      "outputs": []
    },
    {
      "cell_type": "markdown",
      "source": [
        "Python Virtual Env"
      ],
      "metadata": {
        "id": "r7IHAD9VBqtB"
      }
    },
    {
      "cell_type": "code",
      "source": [],
      "metadata": {
        "id": "8WIC17vHBsxQ"
      },
      "execution_count": null,
      "outputs": []
    },
    {
      "cell_type": "markdown",
      "source": [
        "# File Handling"
      ],
      "metadata": {
        "id": "t1iEv1zYBtWQ"
      }
    },
    {
      "cell_type": "markdown",
      "source": [
        "## Python File Handling"
      ],
      "metadata": {
        "id": "k_LllZXABwfZ"
      }
    },
    {
      "cell_type": "markdown",
      "source": [
        "**Python File Open**\n",
        "\n",
        "File handling is an important part of any web application.\n",
        "\n",
        "Python has several functions for creating, reading, updating, and deleting files."
      ],
      "metadata": {
        "id": "DExg9jmeBzyY"
      }
    },
    {
      "cell_type": "markdown",
      "source": [
        "**File Handling:**\n",
        "\n",
        "The key function for working with files in Python is the open() function.\n",
        "\n",
        "The open() function takes two parameters; filename, and mode.\n",
        "\n",
        "There are four different methods (modes) for opening a file:"
      ],
      "metadata": {
        "id": "RJ3FCfb4B7pQ"
      }
    },
    {
      "cell_type": "markdown",
      "source": [
        "1. \"r\" - Read - Default value. Opens a file for reading, error if the file does not exist\n",
        "\n",
        "2. \"a\" - Append - Opens a file for appending, creates the file if it does not exist\n",
        "\n",
        "3. \"w\" - Write - Opens a file for writing, creates the file if it does not exist\n",
        "\n",
        "4. \"x\" - Create - Creates the specified file, returns an error if the file exists\n",
        "\n",
        "In addition you can specify if the file should be handled as binary or text mode\n",
        "\n",
        "5. \"t\" - Text - Default value. Text mode\n",
        "\n",
        "6. \"b\" - Binary - Binary mode (e.g. images)"
      ],
      "metadata": {
        "id": "PzBAM27FCBDo"
      }
    },
    {
      "cell_type": "markdown",
      "source": [
        "**Syntax:**\n",
        "\n",
        "To open a file for reading it is enough to specify the name of the file:"
      ],
      "metadata": {
        "id": "QVlp05jgCPch"
      }
    },
    {
      "cell_type": "code",
      "source": [
        "f = open(\"demofile.txt\")\n",
        "\n",
        "\n",
        "# The code above is the same as:\n",
        "\n",
        "\n",
        "f = open(\"demofile.txt\", \"rt\")\n",
        "\n",
        "#Because \"r\" for read, and \"t\" for text are the default values, you do not need to specify them.\n",
        "\n",
        "#Note: Make sure the file exists, or else you will get an error.\n",
        "\n",
        "\n"
      ],
      "metadata": {
        "id": "Vb52lREACR74"
      },
      "execution_count": null,
      "outputs": []
    },
    {
      "cell_type": "markdown",
      "source": [
        "## **Python Read Files**\n",
        "\n"
      ],
      "metadata": {
        "id": "ezxvw9N2CcS5"
      }
    },
    {
      "cell_type": "markdown",
      "source": [
        "Open a File on the Server\n",
        "Assume we have the following file, located in the same folder as Python:\n",
        "\n",
        "demofile.txt\n",
        "\n",
        "Hello! Welcome to demofile.txt\n",
        "This file is for testing purposes.\n",
        "Good Luck!\n",
        "\n",
        "To open the file, use the built-in open() function.\n",
        "\n",
        "The open() function returns a file object, which has a read() method for reading the content of the file:"
      ],
      "metadata": {
        "id": "oBEBvLkzClCR"
      }
    },
    {
      "cell_type": "code",
      "source": [
        "f = open(\"demofile.txt\")\n",
        "print(f.read())"
      ],
      "metadata": {
        "colab": {
          "base_uri": "https://localhost:8080/",
          "height": 158
        },
        "id": "6mcSNtqZCrAL",
        "outputId": "98e5623a-07f5-4586-854c-90aa7ee51725"
      },
      "execution_count": 240,
      "outputs": [
        {
          "output_type": "error",
          "ename": "FileNotFoundError",
          "evalue": "[Errno 2] No such file or directory: 'demofile.txt'",
          "traceback": [
            "\u001b[0;31m---------------------------------------------------------------------------\u001b[0m",
            "\u001b[0;31mFileNotFoundError\u001b[0m                         Traceback (most recent call last)",
            "\u001b[0;32m/tmp/ipython-input-1943723113.py\u001b[0m in \u001b[0;36m<cell line: 0>\u001b[0;34m()\u001b[0m\n\u001b[0;32m----> 1\u001b[0;31m \u001b[0mf\u001b[0m \u001b[0;34m=\u001b[0m \u001b[0mopen\u001b[0m\u001b[0;34m(\u001b[0m\u001b[0;34m\"demofile.txt\"\u001b[0m\u001b[0;34m)\u001b[0m\u001b[0;34m\u001b[0m\u001b[0;34m\u001b[0m\u001b[0m\n\u001b[0m\u001b[1;32m      2\u001b[0m \u001b[0mprint\u001b[0m\u001b[0;34m(\u001b[0m\u001b[0mf\u001b[0m\u001b[0;34m.\u001b[0m\u001b[0mread\u001b[0m\u001b[0;34m(\u001b[0m\u001b[0;34m)\u001b[0m\u001b[0;34m)\u001b[0m\u001b[0;34m\u001b[0m\u001b[0;34m\u001b[0m\u001b[0m\n",
            "\u001b[0;31mFileNotFoundError\u001b[0m: [Errno 2] No such file or directory: 'demofile.txt'"
          ]
        }
      ]
    },
    {
      "cell_type": "markdown",
      "source": [
        "If the file is located in a different location, you will have to specify the file path, like this:"
      ],
      "metadata": {
        "id": "prNYARkDCvL4"
      }
    },
    {
      "cell_type": "code",
      "source": [
        "#Open a file on a different location:\n",
        "\n",
        "f = open(\"D:\\\\myfiles\\welcome.txt\")\n",
        "print(f.read())"
      ],
      "metadata": {
        "id": "xTYlxjWnCu3w"
      },
      "execution_count": null,
      "outputs": []
    },
    {
      "cell_type": "markdown",
      "source": [
        "**Using the with statement:**\n",
        "\n",
        "You can also use the with statement when opening a file:"
      ],
      "metadata": {
        "id": "c8G8EZOWCy1X"
      }
    },
    {
      "cell_type": "code",
      "source": [
        "#Using the with keyword:\n",
        "\n",
        "with open(\"demofile.txt\") as f:\n",
        "  print(f.read())"
      ],
      "metadata": {
        "id": "lEgEbF4KC2Lo"
      },
      "execution_count": null,
      "outputs": []
    },
    {
      "cell_type": "markdown",
      "source": [
        "**Close Files:**\n",
        "\n",
        "It is a good practice to always close the file when you are done with it.\n",
        "\n",
        "If you are not using the with statement, you must write a close statement in order to close the file:"
      ],
      "metadata": {
        "id": "pIZAvHdhC52H"
      }
    },
    {
      "cell_type": "code",
      "source": [
        "#Close the file when you are finished with it:\n",
        "\n",
        "f = open(\"demofile.txt\")\n",
        "print(f.readline())\n",
        "f.close()"
      ],
      "metadata": {
        "id": "YwCNsGJkC9dX"
      },
      "execution_count": null,
      "outputs": []
    },
    {
      "cell_type": "markdown",
      "source": [
        "Note: You should always close your files. In some cases, due to buffering, changes made to a file may not show until you close the file."
      ],
      "metadata": {
        "id": "nuJ9NNnGC9Nn"
      }
    },
    {
      "cell_type": "markdown",
      "source": [
        "**Read Only Parts of the File:**\n",
        "\n",
        "By default the read() method returns the whole text, but you can also specify how many characters you want to return:"
      ],
      "metadata": {
        "id": "1TeWJNr1C1yv"
      }
    },
    {
      "cell_type": "code",
      "source": [
        "#Return the 5 first characters of the file:\n",
        "\n",
        "with open(\"demofile.txt\") as f:\n",
        "  print(f.read(5))"
      ],
      "metadata": {
        "id": "BLZpVcxXDF8f"
      },
      "execution_count": null,
      "outputs": []
    },
    {
      "cell_type": "markdown",
      "source": [
        "**Read Lines:**\n",
        "\n",
        "You can return one line by using the readline() method:"
      ],
      "metadata": {
        "id": "mFenJLDIDJn_"
      }
    },
    {
      "cell_type": "code",
      "source": [
        "#Read one line of the file:\n",
        "\n",
        "with open(\"demofile.txt\") as f:\n",
        "  print(f.readline())"
      ],
      "metadata": {
        "id": "2M9X0jhgDLrv"
      },
      "execution_count": null,
      "outputs": []
    },
    {
      "cell_type": "markdown",
      "source": [
        "By calling readline() two times, you can read the two first lines:"
      ],
      "metadata": {
        "id": "S-ytOXc4DOKw"
      }
    },
    {
      "cell_type": "code",
      "source": [
        "#Read two lines of the file:\n",
        "\n",
        "with open(\"demofile.txt\") as f:\n",
        "  print(f.readline())\n",
        "  print(f.readline())"
      ],
      "metadata": {
        "id": "2G6Gu0fxDPYV"
      },
      "execution_count": null,
      "outputs": []
    },
    {
      "cell_type": "markdown",
      "source": [
        "By looping through the lines of the file, you can read the whole file, line by line:"
      ],
      "metadata": {
        "id": "R2BviXeSDRQI"
      }
    },
    {
      "cell_type": "code",
      "source": [
        "#Loop through the file line by line:\n",
        "\n",
        "with open(\"demofile.txt\") as f:\n",
        "  for x in f:\n",
        "    print(x)"
      ],
      "metadata": {
        "id": "yjA633omDRro"
      },
      "execution_count": null,
      "outputs": []
    },
    {
      "cell_type": "markdown",
      "source": [
        "## Python File Write/ Create Files\n"
      ],
      "metadata": {
        "id": "E26vQppODUsP"
      }
    },
    {
      "cell_type": "markdown",
      "source": [
        "**Write to an Existing File:**\n",
        "\n",
        "To write to an existing file, you must add a parameter to the open() function:\n",
        "\n",
        "\"a\" - Append - will append to the end of the file\n",
        "\n",
        "\"w\" - Write - will overwrite any existing content"
      ],
      "metadata": {
        "id": "Ct0LXg7hDkuu"
      }
    },
    {
      "cell_type": "code",
      "source": [
        "#Open the file \"demofile.txt\" and append content to the file:\n",
        "\n",
        "with open(\"demofile.txt\", \"a\") as f:\n",
        "  f.write(\"Now the file has more content!\")\n",
        "\n",
        "#open and read the file after the appending:\n",
        "with open(\"demofile.txt\") as f:\n",
        "  print(f.read())"
      ],
      "metadata": {
        "colab": {
          "base_uri": "https://localhost:8080/"
        },
        "id": "v_0Ndm5kDoo5",
        "outputId": "f0913af5-0e16-4d8a-c603-7d35c825eb5b"
      },
      "execution_count": 241,
      "outputs": [
        {
          "output_type": "stream",
          "name": "stdout",
          "text": [
            "Now the file has more content!\n"
          ]
        }
      ]
    },
    {
      "cell_type": "markdown",
      "source": [
        "**Overwrite Existing Content:**\n",
        "\n",
        "To overwrite the existing content to the file, use the w parameter:"
      ],
      "metadata": {
        "id": "H0zrvYzPDtQ_"
      }
    },
    {
      "cell_type": "code",
      "source": [
        "#Open the file \"demofile.txt\" and overwrite the content:\n",
        "\n",
        "with open(\"demofile.txt\", \"w\") as f:\n",
        "  f.write(\"Woops! I have deleted the content!\")\n",
        "\n",
        "#open and read the file after the overwriting:\n",
        "with open(\"demofile.txt\") as f:\n",
        "  print(f.read())"
      ],
      "metadata": {
        "colab": {
          "base_uri": "https://localhost:8080/"
        },
        "id": "l9plOOrFDd-o",
        "outputId": "98889230-1485-4a63-eab3-907db182f90e"
      },
      "execution_count": 242,
      "outputs": [
        {
          "output_type": "stream",
          "name": "stdout",
          "text": [
            "Woops! I have deleted the content!\n"
          ]
        }
      ]
    },
    {
      "cell_type": "markdown",
      "source": [
        "Note: the \"w\" method will overwrite the entire file.\n",
        "\n"
      ],
      "metadata": {
        "id": "GcT2DBeUDzB3"
      }
    },
    {
      "cell_type": "markdown",
      "source": [
        "**Create a New File**:\n",
        "\n",
        "To create a new file in Python, use the open() method, with one of the following parameters:\n",
        "\n",
        "\"x\" - Create - will create a file, returns an error if the file exists\n",
        "\n",
        "\"a\" - Append - will create a file if the specified file does not exists\n",
        "\n",
        "\"w\" - Write - will create a file if the specified file does not exists"
      ],
      "metadata": {
        "id": "lBbF_MIsDzlh"
      }
    },
    {
      "cell_type": "code",
      "source": [
        "#Create a new file called \"myfile.txt\":\n",
        "\n",
        "f = open(\"myfile.txt\", \"x\")\n"
      ],
      "metadata": {
        "id": "gJuYc0-YD7q2"
      },
      "execution_count": 243,
      "outputs": []
    },
    {
      "cell_type": "markdown",
      "source": [
        "Result: a new empty file is created.\n",
        "\n",
        "Note: If the file already exist, an error will be raised."
      ],
      "metadata": {
        "id": "OpYH3f4_D-Yx"
      }
    },
    {
      "cell_type": "markdown",
      "source": [
        "## **Python Delete Files**"
      ],
      "metadata": {
        "id": "UasXvOsYDeT3"
      }
    },
    {
      "cell_type": "markdown",
      "source": [
        "**Delete a File**:\n",
        "\n",
        "To delete a file, you must import the OS module, and run its os.remove() function:"
      ],
      "metadata": {
        "id": "WH2QmBX7EBGo"
      }
    },
    {
      "cell_type": "code",
      "source": [
        "Remove the file \"demofile.txt\":\n",
        "\n",
        "import os\n",
        "os.remove(\"demofile.txt\")#"
      ],
      "metadata": {
        "colab": {
          "base_uri": "https://localhost:8080/",
          "height": 106
        },
        "id": "zm9HtmcVDiOA",
        "outputId": "c777a3ec-2f32-4f06-b3b6-f99529e2221f"
      },
      "execution_count": 244,
      "outputs": [
        {
          "output_type": "error",
          "ename": "SyntaxError",
          "evalue": "invalid syntax (ipython-input-2069774410.py, line 1)",
          "traceback": [
            "\u001b[0;36m  File \u001b[0;32m\"/tmp/ipython-input-2069774410.py\"\u001b[0;36m, line \u001b[0;32m1\u001b[0m\n\u001b[0;31m    Remove the file \"demofile.txt\":\u001b[0m\n\u001b[0m           ^\u001b[0m\n\u001b[0;31mSyntaxError\u001b[0m\u001b[0;31m:\u001b[0m invalid syntax\n"
          ]
        }
      ]
    },
    {
      "cell_type": "markdown",
      "source": [
        "**Check if File exist:**\n",
        "\n",
        "To avoid getting an error, you might want to check if the file exists before you try to delete it:"
      ],
      "metadata": {
        "id": "nN-10S-AEG3P"
      }
    },
    {
      "cell_type": "code",
      "source": [
        "# Check if file exists, then delete it:\n",
        "\n",
        "import os\n",
        "if os.path.exists(\"demofile.txt\"):\n",
        "  os.remove(\"demofile.txt\")\n",
        "else:\n",
        "  print(\"The file does not exist\")"
      ],
      "metadata": {
        "id": "McIj_5etEE7Q"
      },
      "execution_count": null,
      "outputs": []
    },
    {
      "cell_type": "markdown",
      "source": [
        "**Delete Folder:**\n",
        "\n",
        "To delete an entire folder, use the os.rmdir() method:"
      ],
      "metadata": {
        "id": "GsG1fk5yELc-"
      }
    },
    {
      "cell_type": "markdown",
      "source": [
        "Note: You can only remove empty folders.\n",
        "\n"
      ],
      "metadata": {
        "id": "rv7sk9nCENzW"
      }
    },
    {
      "cell_type": "markdown",
      "source": [
        "# **Python Modules**:"
      ],
      "metadata": {
        "id": "dD3XXqT0EV9w"
      }
    },
    {
      "cell_type": "markdown",
      "source": [
        "##"
      ],
      "metadata": {
        "id": "ruzP_cJ0EZ8f"
      }
    }
  ]
}