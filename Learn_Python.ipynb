{
  "nbformat": 4,
  "nbformat_minor": 0,
  "metadata": {
    "colab": {
      "provenance": [],
      "authorship_tag": "ABX9TyMAkqQbXL45UnK34f9e2Fz6",
      "include_colab_link": true
    },
    "kernelspec": {
      "name": "python3",
      "display_name": "Python 3"
    },
    "language_info": {
      "name": "python"
    }
  },
  "cells": [
    {
      "cell_type": "markdown",
      "metadata": {
        "id": "view-in-github",
        "colab_type": "text"
      },
      "source": [
        "<a href=\"https://colab.research.google.com/github/dakshayani2906/Data-Science-Portfolio/blob/main/Learn_Python.ipynb\" target=\"_parent\"><img src=\"https://colab.research.google.com/assets/colab-badge.svg\" alt=\"Open In Colab\"/></a>"
      ]
    },
    {
      "cell_type": "markdown",
      "source": [
        "## Python Introduction"
      ],
      "metadata": {
        "id": "wz7LqGa4apQW"
      }
    },
    {
      "cell_type": "markdown",
      "source": [
        "### Whay is Python?\n",
        "\n",
        "popoular programming language\n",
        "\n",
        "created - Guido van Rossum in 1991\n",
        "\n",
        "used for?\n",
        "\n",
        "1. Web development (server side)\n",
        "2. Software Development\n",
        "3. Mathematics\n",
        "4. System Scripting\n",
        "\n",
        "What can Python do?\n",
        "\n",
        "1. Python can be used on a server to create web applications.\n",
        "2. Python can be used alongside software to create workflows.\n",
        "3. Python can connect to database systems. It can also read and modify files.\n",
        "4. Python can be used to handle big data and perform complex mathematics.\n",
        "5. Python can be used for rapid prototyping, or for production-ready software development\n",
        "\n",
        "Why Python?\n",
        "1. Python works on different platforms (Windows, Mac, Linux, Raspberry Pi, etc).\n",
        "2. Python has a simple syntax similar to the English language.\n",
        "3. Python has syntax that allows developers to write programs with fewer lines than some other programming languages.\n",
        "4. Python runs on an interpreter system, meaning that code can be executed as soon as it is written. This means that prototyping can be very quick.\n",
        "5. Python can be treated in a procedural way, an object-oriented way or a functional way.\n",
        "\n",
        "Python Syntax compared to other programming languages??\n",
        "1. Python was designed for readability, and has some similarities to the English language with influence from mathematics.\n",
        "2. Python uses new lines to complete a command, as opposed to other programming languages which often use semicolons or parentheses.\n",
        "3. Python relies on indentation, using whitespace, to define scope; such as the scope of loops, functions and classes. Other programming languages often use curly-brackets for this purpose."
      ],
      "metadata": {
        "id": "b7HMGxfQbTL8"
      }
    },
    {
      "cell_type": "markdown",
      "source": [
        "Open Google Colab from your web and start doing it anywhere"
      ],
      "metadata": {
        "id": "xtF68EKscF5w"
      }
    },
    {
      "cell_type": "code",
      "execution_count": 1,
      "metadata": {
        "colab": {
          "base_uri": "https://localhost:8080/"
        },
        "id": "bVMp12WXaMWH",
        "outputId": "24ce4cdf-2bf1-4038-eac2-51ada9bbebc5"
      },
      "outputs": [
        {
          "output_type": "stream",
          "name": "stdout",
          "text": [
            "Hello, World!\n"
          ]
        }
      ],
      "source": [
        "# First code\n",
        "\n",
        "print(\"Hello, World!\")"
      ]
    },
    {
      "cell_type": "markdown",
      "source": [
        "## Python Indendation\n",
        "\n",
        "Indendation refers to the spaces at the beginning of a code line\n",
        "\n",
        "Where in other programming languages the indentation in code is for readability only, the indentation in Python is very important.\n",
        "\n",
        "Python uses indentation to indicate a block of code"
      ],
      "metadata": {
        "id": "qXiN3rpKciEL"
      }
    },
    {
      "cell_type": "code",
      "source": [
        "if 5 > 2:\n",
        "  print(\"Five is greater than two!\")"
      ],
      "metadata": {
        "colab": {
          "base_uri": "https://localhost:8080/"
        },
        "id": "aH_IkJ5Schsc",
        "outputId": "38ae7f41-f7b2-4a53-ce4a-76ac53dc32e4"
      },
      "execution_count": 2,
      "outputs": [
        {
          "output_type": "stream",
          "name": "stdout",
          "text": [
            "Five is greater than two!\n"
          ]
        }
      ]
    },
    {
      "cell_type": "code",
      "source": [
        "if 5 > 2:\n",
        "print(\"Five is greater than two!\")"
      ],
      "metadata": {
        "colab": {
          "base_uri": "https://localhost:8080/",
          "height": 106
        },
        "id": "6yBtajBlcJRf",
        "outputId": "feb0daf7-a350-4a13-8e8b-54c5ccdbed3d"
      },
      "execution_count": 3,
      "outputs": [
        {
          "output_type": "error",
          "ename": "IndentationError",
          "evalue": "expected an indented block after 'if' statement on line 1 (ipython-input-3793329317.py, line 2)",
          "traceback": [
            "\u001b[0;36m  File \u001b[0;32m\"/tmp/ipython-input-3793329317.py\"\u001b[0;36m, line \u001b[0;32m2\u001b[0m\n\u001b[0;31m    print(\"Five is greater than two!\")\u001b[0m\n\u001b[0m    ^\u001b[0m\n\u001b[0;31mIndentationError\u001b[0m\u001b[0;31m:\u001b[0m expected an indented block after 'if' statement on line 1\n"
          ]
        }
      ]
    },
    {
      "cell_type": "code",
      "source": [
        "if 5 > 2:\n",
        "        print(\"Five is greater than two!\")"
      ],
      "metadata": {
        "colab": {
          "base_uri": "https://localhost:8080/"
        },
        "id": "DQx0N-etcw7c",
        "outputId": "ae58eb91-a3ba-49c6-d0ea-091b3dcc9132"
      },
      "execution_count": 4,
      "outputs": [
        {
          "output_type": "stream",
          "name": "stdout",
          "text": [
            "Five is greater than two!\n"
          ]
        }
      ]
    },
    {
      "cell_type": "code",
      "source": [
        "if 5 > 2:\n",
        " print(\"Five is greater than two!\")\n",
        "        print(\"Five is greater than two!\")"
      ],
      "metadata": {
        "colab": {
          "base_uri": "https://localhost:8080/",
          "height": 106
        },
        "id": "ptpSlAqjc5Eq",
        "outputId": "4424b5b2-a01a-4195-96dd-b4d420d904ea"
      },
      "execution_count": 5,
      "outputs": [
        {
          "output_type": "error",
          "ename": "IndentationError",
          "evalue": "unexpected indent (ipython-input-3430240237.py, line 3)",
          "traceback": [
            "\u001b[0;36m  File \u001b[0;32m\"/tmp/ipython-input-3430240237.py\"\u001b[0;36m, line \u001b[0;32m3\u001b[0m\n\u001b[0;31m    print(\"Five is greater than two!\")\u001b[0m\n\u001b[0m    ^\u001b[0m\n\u001b[0;31mIndentationError\u001b[0m\u001b[0;31m:\u001b[0m unexpected indent\n"
          ]
        }
      ]
    },
    {
      "cell_type": "markdown",
      "source": [
        "## Python Comments\n",
        "\n",
        "Comments can be used to explain Python code.\n",
        "\n",
        "Comments can be used to make the code more readable.\n",
        "\n",
        "Comments can be used to prevent execution when testing code.\n",
        "\n",
        "\n",
        "\n",
        "Creating a Comment\n",
        "\n",
        "Comments starts with a #, and Python will ignore them"
      ],
      "metadata": {
        "id": "Ax59aFdOc-MS"
      }
    },
    {
      "cell_type": "code",
      "source": [
        "# Creating a Comment\n",
        "\n",
        "# Comments starts with a #, and Python will ignore them"
      ],
      "metadata": {
        "id": "bTdwj-MkdUEk"
      },
      "execution_count": null,
      "outputs": []
    },
    {
      "cell_type": "code",
      "source": [
        "#This is a comment\n",
        "print(\"Hello, World!\")"
      ],
      "metadata": {
        "colab": {
          "base_uri": "https://localhost:8080/"
        },
        "id": "34rFKW9XdYF6",
        "outputId": "fff36095-5ded-45df-a087-5c0773480e43"
      },
      "execution_count": 6,
      "outputs": [
        {
          "output_type": "stream",
          "name": "stdout",
          "text": [
            "Hello, World!\n"
          ]
        }
      ]
    },
    {
      "cell_type": "code",
      "source": [
        "# Comments can be placed at the end of a line, and Python will ignore the rest of the line:"
      ],
      "metadata": {
        "id": "Q1loE9_NdaQq"
      },
      "execution_count": null,
      "outputs": []
    },
    {
      "cell_type": "code",
      "source": [
        "print(\"Hello, World!\") #This is a comment\n"
      ],
      "metadata": {
        "colab": {
          "base_uri": "https://localhost:8080/"
        },
        "id": "zCnyyy7ydb09",
        "outputId": "9d697fe0-fc8e-4ddf-d95d-82cb02053c24"
      },
      "execution_count": 7,
      "outputs": [
        {
          "output_type": "stream",
          "name": "stdout",
          "text": [
            "Hello, World!\n"
          ]
        }
      ]
    },
    {
      "cell_type": "code",
      "source": [
        "#print(\"Hello, World!\")\n",
        "print(\"Cheers, Mate!\")"
      ],
      "metadata": {
        "colab": {
          "base_uri": "https://localhost:8080/"
        },
        "id": "lDvvlDStdfRK",
        "outputId": "8cb507e6-4599-4d25-fdb1-b07e85a7bb98"
      },
      "execution_count": 8,
      "outputs": [
        {
          "output_type": "stream",
          "name": "stdout",
          "text": [
            "Cheers, Mate!\n"
          ]
        }
      ]
    },
    {
      "cell_type": "markdown",
      "source": [
        "### Multiline Comments\n",
        "\n",
        "Python does not really have a syntax for multiline comments.\n",
        "\n",
        "To add a multiline comment you could insert a # for each line:"
      ],
      "metadata": {
        "id": "GK3YDD-vdhGx"
      }
    },
    {
      "cell_type": "code",
      "source": [
        "#This is a comment\n",
        "#written in\n",
        "#more than just one line\n",
        "print(\"Hello, World!\")"
      ],
      "metadata": {
        "colab": {
          "base_uri": "https://localhost:8080/"
        },
        "id": "nRuCuWNtdkRj",
        "outputId": "1fd7a1c1-916d-4589-a60e-6fbcf191ebcc"
      },
      "execution_count": 9,
      "outputs": [
        {
          "output_type": "stream",
          "name": "stdout",
          "text": [
            "Hello, World!\n"
          ]
        }
      ]
    },
    {
      "cell_type": "code",
      "source": [
        "\"\"\"\n",
        "This is a comment\n",
        "written in\n",
        "more than just one line\n",
        "\"\"\"\n",
        "print(\"Hello, World!\")"
      ],
      "metadata": {
        "colab": {
          "base_uri": "https://localhost:8080/"
        },
        "id": "patVXI_gdp3R",
        "outputId": "db464e44-8531-4706-cd19-4a7aca86632b"
      },
      "execution_count": 10,
      "outputs": [
        {
          "output_type": "stream",
          "name": "stdout",
          "text": [
            "Hello, World!\n"
          ]
        }
      ]
    },
    {
      "cell_type": "markdown",
      "source": [
        "## Python Variables"
      ],
      "metadata": {
        "id": "z5YJ1B24eR6K"
      }
    },
    {
      "cell_type": "markdown",
      "source": [
        "Variables are containers for storing data values.\n",
        "\n",
        "Creating Variables:\n",
        "Python has no command for declaring a variable.\n",
        "\n",
        "A variable is created the moment you first assign a value to it."
      ],
      "metadata": {
        "id": "mafx-lOdeZLY"
      }
    },
    {
      "cell_type": "code",
      "source": [
        "x = 5\n",
        "y = \"John\"\n",
        "print(x)\n",
        "print(y)"
      ],
      "metadata": {
        "colab": {
          "base_uri": "https://localhost:8080/"
        },
        "id": "l-y2Q6OQeRop",
        "outputId": "2eab2bf7-e8e3-49fd-9590-b2e779643795"
      },
      "execution_count": 11,
      "outputs": [
        {
          "output_type": "stream",
          "name": "stdout",
          "text": [
            "5\n",
            "John\n"
          ]
        }
      ]
    },
    {
      "cell_type": "markdown",
      "source": [
        "Variables do not need to be declared with any particular type, and can even change type after they have been set."
      ],
      "metadata": {
        "id": "Kr-iHFlmexRx"
      }
    },
    {
      "cell_type": "code",
      "source": [
        "x = 4       # x is of type int\n",
        "x = \"Sally\" # x is now of type str\n",
        "print(x)"
      ],
      "metadata": {
        "colab": {
          "base_uri": "https://localhost:8080/"
        },
        "id": "J6n8xATlecOa",
        "outputId": "fd448098-fe15-477b-cabd-557145d3b7b1"
      },
      "execution_count": 12,
      "outputs": [
        {
          "output_type": "stream",
          "name": "stdout",
          "text": [
            "Sally\n"
          ]
        }
      ]
    },
    {
      "cell_type": "markdown",
      "source": [
        "### Casting\n",
        "\n",
        "If you want to specify the data type of a variable, this can be done with casting."
      ],
      "metadata": {
        "id": "X8gg0GxTe0VY"
      }
    },
    {
      "cell_type": "code",
      "source": [
        "x = str(3)\n",
        "y = int(3)\n",
        "z = float(3)\n",
        "\n",
        "print(x)\n",
        "print(y)\n",
        "print(z)"
      ],
      "metadata": {
        "colab": {
          "base_uri": "https://localhost:8080/"
        },
        "id": "awE6aKwhe4Qk",
        "outputId": "b74cf827-a574-42c9-c760-6ebd9510a2a8"
      },
      "execution_count": 14,
      "outputs": [
        {
          "output_type": "stream",
          "name": "stdout",
          "text": [
            "3\n",
            "3\n",
            "3.0\n"
          ]
        }
      ]
    },
    {
      "cell_type": "markdown",
      "source": [
        "Get the Type:\n",
        "\n",
        "You can get the data type of a variable with the type() function."
      ],
      "metadata": {
        "id": "aJpkS47AfEFw"
      }
    },
    {
      "cell_type": "code",
      "source": [
        "x = 5\n",
        "y = \"John\"\n",
        "print(type(x))\n",
        "print(type(y))"
      ],
      "metadata": {
        "colab": {
          "base_uri": "https://localhost:8080/"
        },
        "id": "BqOC45hle5B1",
        "outputId": "9cc609b4-ffcd-4260-c46b-1b66dd7e5292"
      },
      "execution_count": 15,
      "outputs": [
        {
          "output_type": "stream",
          "name": "stdout",
          "text": [
            "<class 'int'>\n",
            "<class 'str'>\n"
          ]
        }
      ]
    },
    {
      "cell_type": "markdown",
      "source": [
        "Single or Double Quotes?\n",
        "\n",
        "String variables can be declared either by using single or double quotes:"
      ],
      "metadata": {
        "id": "2n0-IPUqfKpb"
      }
    },
    {
      "cell_type": "code",
      "source": [
        "x = \"John\"\n",
        "# is the same as\n",
        "x = 'John'"
      ],
      "metadata": {
        "id": "nB2HQBVTfIWN"
      },
      "execution_count": 16,
      "outputs": []
    },
    {
      "cell_type": "markdown",
      "source": [
        "Case-Sensitive\n",
        "\n",
        "Variable names are case-sensitive."
      ],
      "metadata": {
        "id": "8b3zCeEXfN-5"
      }
    },
    {
      "cell_type": "code",
      "source": [
        "a = 4\n",
        "A = \"Sally\"\n",
        "#A will not overwrite a\n",
        "print(a)\n",
        "print(A)"
      ],
      "metadata": {
        "colab": {
          "base_uri": "https://localhost:8080/"
        },
        "id": "0S4cEQfqfQIo",
        "outputId": "0dfef114-0cd8-4907-c689-c8dc2f46701e"
      },
      "execution_count": 18,
      "outputs": [
        {
          "output_type": "stream",
          "name": "stdout",
          "text": [
            "4\n",
            "Sally\n"
          ]
        }
      ]
    },
    {
      "cell_type": "markdown",
      "source": [
        "Variable Names\n",
        "\n",
        "A variable can have a short name (like x and y) or a more descriptive name (age, carname, total_volume).\n",
        "\n",
        "Rules for Python variables:\n",
        "\n",
        "1. A variable name must start with a letter or the underscore character\n",
        "2. A variable name cannot start with a number\n",
        "3. A variable name can only contain alpha-numeric characters and underscores (A-z, 0-9, and _ )\n",
        "4. Variable names are case-sensitive (age, Age and AGE are three different variables)\n",
        "5. A variable name cannot be any of the Python keywords."
      ],
      "metadata": {
        "id": "JErEq1O5fZd4"
      }
    },
    {
      "cell_type": "code",
      "source": [
        "# Legal Variable Names:\n",
        "\n",
        "myvar = \"John\"\n",
        "my_var = \"John\"\n",
        "_my_var = \"John\"\n",
        "myVar = \"John\"\n",
        "MYVAR = \"John\"\n",
        "myvar2 = \"John\""
      ],
      "metadata": {
        "id": "niiCVw-qfSYg"
      },
      "execution_count": 19,
      "outputs": []
    },
    {
      "cell_type": "code",
      "source": [
        "# Illegal Variable Names:\n",
        "\n",
        "2myvar = \"John\"\n",
        "my-var = \"John\"\n",
        "my var = \"John\""
      ],
      "metadata": {
        "colab": {
          "base_uri": "https://localhost:8080/",
          "height": 106
        },
        "id": "3Z2lztvLfkZA",
        "outputId": "bd1b64b9-522f-408d-ee0e-d2e4d10f97b2"
      },
      "execution_count": 20,
      "outputs": [
        {
          "output_type": "error",
          "ename": "SyntaxError",
          "evalue": "invalid decimal literal (ipython-input-675717240.py, line 3)",
          "traceback": [
            "\u001b[0;36m  File \u001b[0;32m\"/tmp/ipython-input-675717240.py\"\u001b[0;36m, line \u001b[0;32m3\u001b[0m\n\u001b[0;31m    2myvar = \"John\"\u001b[0m\n\u001b[0m    ^\u001b[0m\n\u001b[0;31mSyntaxError\u001b[0m\u001b[0;31m:\u001b[0m invalid decimal literal\n"
          ]
        }
      ]
    },
    {
      "cell_type": "markdown",
      "source": [
        "Variables are case - sensitive"
      ],
      "metadata": {
        "id": "86I7D7J3fqZo"
      }
    },
    {
      "cell_type": "markdown",
      "source": [
        "### Python Variables - Assign Multiple Values"
      ],
      "metadata": {
        "id": "be_AyM4UfuMo"
      }
    },
    {
      "cell_type": "code",
      "source": [
        "# Many Values to Multiple Variables\n",
        "# Python allows you to assign values to multiple variables in one line:\n",
        "\n",
        "x, y, z = \"Orange\", \"Banana\", \"Cherry\"\n",
        "print(x)\n",
        "print(y)\n",
        "print(z)"
      ],
      "metadata": {
        "colab": {
          "base_uri": "https://localhost:8080/"
        },
        "id": "HvEzZEzSfm5n",
        "outputId": "cb5fb916-4b3c-4ddf-9dbd-b828062503dd"
      },
      "execution_count": 21,
      "outputs": [
        {
          "output_type": "stream",
          "name": "stdout",
          "text": [
            "Orange\n",
            "Banana\n",
            "Cherry\n"
          ]
        }
      ]
    },
    {
      "cell_type": "markdown",
      "source": [
        "One Value to Multiple Variables:\n",
        "\n",
        "And you can assign the same value to multiple variables in one line:\n",
        "\n"
      ],
      "metadata": {
        "id": "D2vkTagpf51Y"
      }
    },
    {
      "cell_type": "code",
      "source": [
        "x = y = z = \"Orange\"\n",
        "print(x)\n",
        "print(y)\n",
        "print(z)"
      ],
      "metadata": {
        "colab": {
          "base_uri": "https://localhost:8080/"
        },
        "id": "v9nIiaG0f1lg",
        "outputId": "cb8aabfa-56c0-4a16-bfac-431791d77ed3"
      },
      "execution_count": 22,
      "outputs": [
        {
          "output_type": "stream",
          "name": "stdout",
          "text": [
            "Orange\n",
            "Orange\n",
            "Orange\n"
          ]
        }
      ]
    },
    {
      "cell_type": "markdown",
      "source": [
        "Unpack a Collection:\n",
        "\n",
        "If you have a collection of values in a list, tuple etc. Python allows you to extract the values into variables. This is called unpacking."
      ],
      "metadata": {
        "id": "t42BRE4BgApg"
      }
    },
    {
      "cell_type": "code",
      "source": [
        "#Unpaock a list:\n",
        "\n",
        "fruits = [\"apple\", \"banana\", \"cherry\"]\n",
        "x, y, z = fruits\n",
        "print(x)\n",
        "print(y)\n",
        "print(z)"
      ],
      "metadata": {
        "colab": {
          "base_uri": "https://localhost:8080/"
        },
        "id": "shgWAvzsfp7Z",
        "outputId": "58343cf7-5813-448a-819e-4bc066d23804"
      },
      "execution_count": 23,
      "outputs": [
        {
          "output_type": "stream",
          "name": "stdout",
          "text": [
            "apple\n",
            "banana\n",
            "cherry\n"
          ]
        }
      ]
    },
    {
      "cell_type": "markdown",
      "source": [
        "Output Variables\n",
        "\n",
        "The Python print() function is often used to output variables."
      ],
      "metadata": {
        "id": "TWbroNj5gKkA"
      }
    },
    {
      "cell_type": "code",
      "source": [
        "x = \"Python is awesome\"\n",
        "print(x)\n"
      ],
      "metadata": {
        "colab": {
          "base_uri": "https://localhost:8080/"
        },
        "id": "XLG8QAXXgGdf",
        "outputId": "e1b30622-381b-4959-96d5-f54777c5e456"
      },
      "execution_count": 24,
      "outputs": [
        {
          "output_type": "stream",
          "name": "stdout",
          "text": [
            "Python is awesome\n"
          ]
        }
      ]
    },
    {
      "cell_type": "markdown",
      "source": [
        "In the print() function, you output multiple variables, separated by a comma:\n",
        "\n"
      ],
      "metadata": {
        "id": "d9LzSIBYgPWf"
      }
    },
    {
      "cell_type": "code",
      "source": [
        "x = \"Python\"\n",
        "y = \"is\"\n",
        "z = \"awesome\"\n",
        "print(x, y, z)"
      ],
      "metadata": {
        "colab": {
          "base_uri": "https://localhost:8080/"
        },
        "id": "VwlYjVmdgQt_",
        "outputId": "e40e4e74-3f1d-4606-bf6c-1015bf28161b"
      },
      "execution_count": 25,
      "outputs": [
        {
          "output_type": "stream",
          "name": "stdout",
          "text": [
            "Python is awesome\n"
          ]
        }
      ]
    },
    {
      "cell_type": "markdown",
      "source": [
        "You can also use the + operator to output multiple variables:\n",
        "\n"
      ],
      "metadata": {
        "id": "EdnMfosAgTFP"
      }
    },
    {
      "cell_type": "code",
      "source": [
        "x = \"Python \"\n",
        "y = \"is \"\n",
        "z = \"awesome\"\n",
        "print(x + y + z)"
      ],
      "metadata": {
        "colab": {
          "base_uri": "https://localhost:8080/"
        },
        "id": "K5HKQwzFgT0f",
        "outputId": "1859d7fe-2665-4485-fd4b-74ffc8de9217"
      },
      "execution_count": 26,
      "outputs": [
        {
          "output_type": "stream",
          "name": "stdout",
          "text": [
            "Python is awesome\n"
          ]
        }
      ]
    },
    {
      "cell_type": "markdown",
      "source": [
        "Notice the space character after \"Python \" and \"is \", without them the result would be \"Pythonisawesome\"."
      ],
      "metadata": {
        "id": "Lu1VtaqWgXEJ"
      }
    },
    {
      "cell_type": "code",
      "source": [
        "# For numbers, the + character works as a mathematical operator:\n",
        "\n",
        "x = 5\n",
        "y = 10\n",
        "print(x + y)"
      ],
      "metadata": {
        "colab": {
          "base_uri": "https://localhost:8080/"
        },
        "id": "bxy4lqtdgW23",
        "outputId": "6a850f24-a3a9-4c05-800f-3cc8c3b19d51"
      },
      "execution_count": 27,
      "outputs": [
        {
          "output_type": "stream",
          "name": "stdout",
          "text": [
            "15\n"
          ]
        }
      ]
    },
    {
      "cell_type": "markdown",
      "source": [
        "In the print() function, when you try to combine a string and a number with the + operator, Python will give you an error:"
      ],
      "metadata": {
        "id": "IvK_YR6PgcaI"
      }
    },
    {
      "cell_type": "code",
      "source": [
        "x = 5\n",
        "y = \"John\"\n",
        "print(x + y)"
      ],
      "metadata": {
        "colab": {
          "base_uri": "https://localhost:8080/",
          "height": 176
        },
        "id": "AOw-t3RMgd6o",
        "outputId": "5066dd14-8590-4e07-b942-ed17212881ec"
      },
      "execution_count": 28,
      "outputs": [
        {
          "output_type": "error",
          "ename": "TypeError",
          "evalue": "unsupported operand type(s) for +: 'int' and 'str'",
          "traceback": [
            "\u001b[0;31m---------------------------------------------------------------------------\u001b[0m",
            "\u001b[0;31mTypeError\u001b[0m                                 Traceback (most recent call last)",
            "\u001b[0;32m/tmp/ipython-input-1989821626.py\u001b[0m in \u001b[0;36m<cell line: 0>\u001b[0;34m()\u001b[0m\n\u001b[1;32m      1\u001b[0m \u001b[0mx\u001b[0m \u001b[0;34m=\u001b[0m \u001b[0;36m5\u001b[0m\u001b[0;34m\u001b[0m\u001b[0;34m\u001b[0m\u001b[0m\n\u001b[1;32m      2\u001b[0m \u001b[0my\u001b[0m \u001b[0;34m=\u001b[0m \u001b[0;34m\"John\"\u001b[0m\u001b[0;34m\u001b[0m\u001b[0;34m\u001b[0m\u001b[0m\n\u001b[0;32m----> 3\u001b[0;31m \u001b[0mprint\u001b[0m\u001b[0;34m(\u001b[0m\u001b[0mx\u001b[0m \u001b[0;34m+\u001b[0m \u001b[0my\u001b[0m\u001b[0;34m)\u001b[0m\u001b[0;34m\u001b[0m\u001b[0;34m\u001b[0m\u001b[0m\n\u001b[0m",
            "\u001b[0;31mTypeError\u001b[0m: unsupported operand type(s) for +: 'int' and 'str'"
          ]
        }
      ]
    },
    {
      "cell_type": "markdown",
      "source": [
        "The best way to output multiple variables in the print() function is to separate them with commas, which even support different data types:"
      ],
      "metadata": {
        "id": "afKwr7CRgfvH"
      }
    },
    {
      "cell_type": "code",
      "source": [
        "x = 5\n",
        "y = \"John\"\n",
        "print(x, y)"
      ],
      "metadata": {
        "colab": {
          "base_uri": "https://localhost:8080/"
        },
        "id": "MRyK5GocghHJ",
        "outputId": "fe92fbda-3d8e-494a-89d5-b447f11f04fc"
      },
      "execution_count": 29,
      "outputs": [
        {
          "output_type": "stream",
          "name": "stdout",
          "text": [
            "5 John\n"
          ]
        }
      ]
    },
    {
      "cell_type": "markdown",
      "source": [
        "Global Variables\n",
        "\n",
        "Variables that are created outside of a function (as in all of the examples in the previous pages) are known as global variables.\n",
        "\n",
        "Global variables can be used by everyone, both inside of functions and outside"
      ],
      "metadata": {
        "id": "jek5cMh1glX-"
      }
    },
    {
      "cell_type": "code",
      "source": [
        "# Create a variable outside of a function, and use it inside the function\n",
        "\n",
        "x = \"awesome\"\n",
        "\n",
        "def myfunc():\n",
        "  print(\"Python is \" + x)\n",
        "\n",
        "myfunc()\n"
      ],
      "metadata": {
        "colab": {
          "base_uri": "https://localhost:8080/"
        },
        "id": "cVqN_338gnxv",
        "outputId": "0cb29a3d-5bf3-462b-8c0a-10a9b8e4a5cd"
      },
      "execution_count": 30,
      "outputs": [
        {
          "output_type": "stream",
          "name": "stdout",
          "text": [
            "Python is awesome\n"
          ]
        }
      ]
    },
    {
      "cell_type": "markdown",
      "source": [
        "If you create a variable with the same name inside a function, this variable will be local, and can only be used inside the function. The global variable with the same name will remain as it was, global and with the original value."
      ],
      "metadata": {
        "id": "_NzOz0g4gsen"
      }
    },
    {
      "cell_type": "code",
      "source": [
        "# Create a variable inside a function, with the same name as the global variable\n",
        "\n",
        "x = \"awesome\"\n",
        "\n",
        "def myfunc():\n",
        "  x = \"fantastic\"\n",
        "  print(\"Python is \" + x)\n",
        "\n",
        "myfunc()\n",
        "\n",
        "print(\"Python is \" + x)"
      ],
      "metadata": {
        "colab": {
          "base_uri": "https://localhost:8080/"
        },
        "id": "6dZYcBvigsUJ",
        "outputId": "b5baba97-c8a1-402e-dbcc-24735dab00e0"
      },
      "execution_count": 32,
      "outputs": [
        {
          "output_type": "stream",
          "name": "stdout",
          "text": [
            "Python is fantastic\n",
            "Python is awesome\n"
          ]
        }
      ]
    },
    {
      "cell_type": "markdown",
      "source": [
        "The global Keyword\n",
        "\n",
        "Normally, when you create a variable inside a function, that variable is local, and can only be used inside that function.\n",
        "\n",
        "To create a global variable inside a function, you can use the global keyword."
      ],
      "metadata": {
        "id": "v8R9DeE_g0pH"
      }
    },
    {
      "cell_type": "code",
      "source": [
        "#If you sue the global keyword, the variable belong to global scope:\n",
        "\n",
        "def myfunc():\n",
        "  global x\n",
        "  x = \"fantastic\"\n",
        "\n",
        "myfunc()\n",
        "\n",
        "print(\"Python is \" + x)"
      ],
      "metadata": {
        "colab": {
          "base_uri": "https://localhost:8080/"
        },
        "id": "GVnLxW2vg0aP",
        "outputId": "93166e51-be93-4246-a9e4-24cc0e78154a"
      },
      "execution_count": 33,
      "outputs": [
        {
          "output_type": "stream",
          "name": "stdout",
          "text": [
            "Python is fantastic\n"
          ]
        }
      ]
    },
    {
      "cell_type": "markdown",
      "source": [
        "Also, use the global keyword if you want to change a global variable inside a function."
      ],
      "metadata": {
        "id": "9110VcQog_tQ"
      }
    },
    {
      "cell_type": "code",
      "source": [
        "# To change the value of a global variable inside a function, refer to the variable by using the global keyword:\n",
        "\n",
        "x = \"awesome\"\n",
        "\n",
        "def myfunc():\n",
        "  global x\n",
        "  x = \"fantastic\"\n",
        "\n",
        "myfunc()\n",
        "\n",
        "print(\"Python is \" + x)"
      ],
      "metadata": {
        "colab": {
          "base_uri": "https://localhost:8080/"
        },
        "id": "ahL9b-SegxYL",
        "outputId": "b734410f-b22b-4d20-dd5c-c088d0582670"
      },
      "execution_count": 34,
      "outputs": [
        {
          "output_type": "stream",
          "name": "stdout",
          "text": [
            "Python is fantastic\n"
          ]
        }
      ]
    },
    {
      "cell_type": "markdown",
      "source": [
        "## Data Types\n",
        "\n"
      ],
      "metadata": {
        "id": "55IVHod3hBOP"
      }
    },
    {
      "cell_type": "markdown",
      "source": [
        "Built-in Data Types\n",
        "\n",
        "In programming, data type is an important concept.\n",
        "\n",
        "Variables can store data of different types, and different types can do different things.\n",
        "\n",
        "Python has the following data types built-in by default, in these categories:\n",
        "\n",
        "Text Type:\tstr\n",
        "Numeric Types:\tint, float, complex\n",
        "Sequence Types:\tlist, tuple, range\n",
        "Mapping Type:\tdict\n",
        "Set Types:\tset, frozenset\n",
        "Boolean Type:\tbool\n",
        "Binary Types:\tbytes, bytearray, memoryview\n",
        "None Type:\tNoneType\n",
        "\n",
        "\n",
        "Getting the Data Type\n",
        "\n",
        "You can get the data type of any object by using the type() function:"
      ],
      "metadata": {
        "id": "phsUYh81hNO_"
      }
    },
    {
      "cell_type": "code",
      "source": [
        "# Print the data type of the variable x:\n",
        "\n",
        "x = 5\n",
        "print(type(x))"
      ],
      "metadata": {
        "colab": {
          "base_uri": "https://localhost:8080/"
        },
        "id": "jArtlChMhM1u",
        "outputId": "0ad2520f-f0f9-467b-8681-3405370fcffe"
      },
      "execution_count": 35,
      "outputs": [
        {
          "output_type": "stream",
          "name": "stdout",
          "text": [
            "<class 'int'>\n"
          ]
        }
      ]
    },
    {
      "cell_type": "markdown",
      "source": [
        "Setting the Data Type:\n",
        "\n",
        "In Python, the data type is set when you assign a value to a variable:\n",
        "\n",
        "Example\tData Type\tTry it\n",
        "x = \"Hello World\"\t------ str\n",
        "x = 20\t------  int\n",
        "x = 20.5 ------\tfloat\n",
        "x = 1j\t ----- complex\n",
        "x = [\"apple\", \"banana\", \"cherry\"]\t----- list\n",
        "x = (\"apple\", \"banana\", \"cherry\")\t----- tuple\n",
        "x = range(6)\t------ range\n",
        "x = {\"name\" : \"John\", \"age\" : 36}\t---- dict\n",
        "x = {\"apple\", \"banana\", \"cherry\"}\t-------  set\n",
        "x = frozenset({\"apple\", \"banana\", \"cherry\"})\t------ frozenset\n",
        "x = True\t------- bool\n",
        "x = b\"Hello\"\t-------- bytes\n",
        "x = bytearray(5)\t------- bytearray\n",
        "x = memoryview(bytes(5))\t--------  memoryview\n",
        "x = None\t-----------  NoneType"
      ],
      "metadata": {
        "id": "dA892VWKiJqH"
      }
    },
    {
      "cell_type": "code",
      "source": [
        "\n"
      ],
      "metadata": {
        "id": "ONyPcn3jh6S2"
      },
      "execution_count": null,
      "outputs": []
    },
    {
      "cell_type": "markdown",
      "source": [
        "Setting the Specific Data Type:\n",
        "\n",
        "If you want to specify the data type, you can use the following constructor functions:\n",
        "\n",
        "x = str(\"Hello World\")\tstr\n",
        "x = int(20)\tint\n",
        "x = float(20.5)\tfloat\n",
        "x = complex(1j)\tcomplex\n",
        "x = list((\"apple\", \"banana\", \"cherry\"))\tlist\n",
        "x = tuple((\"apple\", \"banana\", \"cherry\"))\ttuple\n",
        "x = range(6)\trange\n",
        "x = dict(name=\"John\", age=36)\tdict\n",
        "x = set((\"apple\", \"banana\", \"cherry\"))\tset\n",
        "x = frozenset((\"apple\", \"banana\", \"cherry\"))\tfrozenset\n",
        "x = bool(5)\tbool\n",
        "x = bytes(5)\tbytes\n",
        "x = bytearray(5)\tbytearray\n",
        "x = memoryview(bytes(5))\tmemoryview"
      ],
      "metadata": {
        "id": "rNPau3PIinSG"
      }
    },
    {
      "cell_type": "markdown",
      "source": [
        "## Python Numbers"
      ],
      "metadata": {
        "id": "cMBzUnoeiuBo"
      }
    },
    {
      "cell_type": "markdown",
      "source": [
        "Python Numbers:\n",
        "\n",
        "There are three numeric types in Python:\n",
        "\n",
        "int\n",
        "float\n",
        "complex\n",
        "\n",
        "Variables of numeric types are created when you assign a value to them:\n",
        "\n"
      ],
      "metadata": {
        "id": "z4keNZ4kix1u"
      }
    },
    {
      "cell_type": "code",
      "source": [
        "x = 1\n",
        "y = 2.8\n",
        "z = 1j\n",
        "\n",
        "print(type(x))\n",
        "print(type(y))\n",
        "print(type(z))"
      ],
      "metadata": {
        "colab": {
          "base_uri": "https://localhost:8080/"
        },
        "id": "lsmqKwGTi1oH",
        "outputId": "56442236-a4e1-4c22-e459-f46662338fb0"
      },
      "execution_count": 38,
      "outputs": [
        {
          "output_type": "stream",
          "name": "stdout",
          "text": [
            "<class 'int'>\n",
            "<class 'float'>\n",
            "<class 'complex'>\n"
          ]
        }
      ]
    },
    {
      "cell_type": "markdown",
      "source": [
        "Int\n",
        "\n",
        "Int, or integer, is a whole number, positive or negative, without decimals, of unlimited length."
      ],
      "metadata": {
        "id": "LL5zD0eCjNF9"
      }
    },
    {
      "cell_type": "code",
      "source": [
        "x = 1\n",
        "y = 35656222554887711\n",
        "z = -3255522\n",
        "\n",
        "print(type(x))\n",
        "print(type(y))\n",
        "print(type(z))"
      ],
      "metadata": {
        "colab": {
          "base_uri": "https://localhost:8080/"
        },
        "id": "uVzeGVX8i6-H",
        "outputId": "57f82319-e517-4bda-985f-af71f8476b36"
      },
      "execution_count": 39,
      "outputs": [
        {
          "output_type": "stream",
          "name": "stdout",
          "text": [
            "<class 'int'>\n",
            "<class 'int'>\n",
            "<class 'int'>\n"
          ]
        }
      ]
    },
    {
      "cell_type": "markdown",
      "source": [
        "Float\n",
        "\n",
        "Float, or \"floating point number\" is a number, positive or negative, containing one or more decimals"
      ],
      "metadata": {
        "id": "aFAaR9odjRh9"
      }
    },
    {
      "cell_type": "code",
      "source": [
        "x = 1.10\n",
        "y = 1.0\n",
        "z = -35.59\n",
        "\n",
        "print(type(x))\n",
        "print(type(y))\n",
        "print(type(z))"
      ],
      "metadata": {
        "colab": {
          "base_uri": "https://localhost:8080/"
        },
        "id": "vu5XPW52jTxN",
        "outputId": "a9ceece1-10dc-4187-fae0-2ca3ce6a60b6"
      },
      "execution_count": 40,
      "outputs": [
        {
          "output_type": "stream",
          "name": "stdout",
          "text": [
            "<class 'float'>\n",
            "<class 'float'>\n",
            "<class 'float'>\n"
          ]
        }
      ]
    },
    {
      "cell_type": "markdown",
      "source": [
        "Float can also be scientific numbers with an \"e\" to indicate the power of 10.\n",
        "\n"
      ],
      "metadata": {
        "id": "SRUQF95CjVY-"
      }
    },
    {
      "cell_type": "code",
      "source": [
        "x = 35e3\n",
        "y = 12E4\n",
        "z = -87.7e100\n",
        "\n",
        "print(type(x))\n",
        "print(type(y))\n",
        "print(type(z))"
      ],
      "metadata": {
        "colab": {
          "base_uri": "https://localhost:8080/"
        },
        "id": "4VBTqw4jjWH1",
        "outputId": "6eaa99a7-5298-43d5-dda4-e41def117dd7"
      },
      "execution_count": 41,
      "outputs": [
        {
          "output_type": "stream",
          "name": "stdout",
          "text": [
            "<class 'float'>\n",
            "<class 'float'>\n",
            "<class 'float'>\n"
          ]
        }
      ]
    },
    {
      "cell_type": "markdown",
      "source": [
        "Complex\n",
        "\n",
        "Complex numbers are written with a \"j\" as the imaginary part:"
      ],
      "metadata": {
        "id": "MLxoIwmdjVI1"
      }
    },
    {
      "cell_type": "code",
      "source": [
        "x = 3+5j\n",
        "y = 5j\n",
        "z = -5j\n",
        "\n",
        "print(type(x))\n",
        "print(type(y))\n",
        "print(type(z))"
      ],
      "metadata": {
        "colab": {
          "base_uri": "https://localhost:8080/"
        },
        "id": "PxfkUXzujaVF",
        "outputId": "14032676-013b-47bd-8853-6efb83e6b6bd"
      },
      "execution_count": 42,
      "outputs": [
        {
          "output_type": "stream",
          "name": "stdout",
          "text": [
            "<class 'complex'>\n",
            "<class 'complex'>\n",
            "<class 'complex'>\n"
          ]
        }
      ]
    },
    {
      "cell_type": "markdown",
      "source": [
        "Type Conversion\n",
        "\n",
        "You can convert from one type to another with the int(), float(), and complex() methods:"
      ],
      "metadata": {
        "id": "9pTmJD_wjdD0"
      }
    },
    {
      "cell_type": "code",
      "source": [
        "# Convert from one type to another:\n",
        "\n",
        "x = 1    # int\n",
        "y = 2.8  # float\n",
        "z = 1j   # complex\n",
        "\n",
        "#convert from int to float:\n",
        "a = float(x)\n",
        "\n",
        "#convert from float to int:\n",
        "b = int(y)\n",
        "\n",
        "#convert from int to complex:\n",
        "c = complex(x)\n",
        "\n",
        "print(a)\n",
        "print(b)\n",
        "print(c)\n",
        "\n",
        "print(type(a))\n",
        "print(type(b))\n",
        "print(type(c))"
      ],
      "metadata": {
        "colab": {
          "base_uri": "https://localhost:8080/"
        },
        "id": "Hcdi42XWjfHX",
        "outputId": "99e081af-e6f6-4267-c00d-6aa5233c3846"
      },
      "execution_count": 43,
      "outputs": [
        {
          "output_type": "stream",
          "name": "stdout",
          "text": [
            "1.0\n",
            "2\n",
            "(1+0j)\n",
            "<class 'float'>\n",
            "<class 'int'>\n",
            "<class 'complex'>\n"
          ]
        }
      ]
    },
    {
      "cell_type": "markdown",
      "source": [
        "Note: You cannot convert complex numbers into another number type.\n",
        "\n"
      ],
      "metadata": {
        "id": "5aCFtdfSjp8t"
      }
    },
    {
      "cell_type": "markdown",
      "source": [
        "Random Number:\n",
        "\n",
        "Python does not have a random() function to make a random number, but Python has a built-in module called random that can be used to make random numbers:"
      ],
      "metadata": {
        "id": "Za9KQQbNjsJu"
      }
    },
    {
      "cell_type": "code",
      "source": [
        "import random\n",
        "\n",
        "print(random.randrange(1, 10))"
      ],
      "metadata": {
        "colab": {
          "base_uri": "https://localhost:8080/"
        },
        "id": "pQNshTLfjqqf",
        "outputId": "d2216002-1750-4e21-f1cb-0444ded9fe46"
      },
      "execution_count": 44,
      "outputs": [
        {
          "output_type": "stream",
          "name": "stdout",
          "text": [
            "6\n"
          ]
        }
      ]
    },
    {
      "cell_type": "markdown",
      "source": [
        "## Python Casting"
      ],
      "metadata": {
        "id": "cbSsnU8ZjxBO"
      }
    },
    {
      "cell_type": "markdown",
      "source": [
        "Specify a Variable Type\n",
        "\n",
        "There may be times when you want to specify a type on to a variable. This can be done with casting.\n",
        "\n",
        "Python is an object-orientated language, and as such it uses classes to define data types, including its primitive types.\n",
        "\n",
        "Casting in python is therefore done using constructor functions:\n",
        "\n",
        "1. int() - constructs an integer number from an integer literal, a float literal (by removing all decimals), or a string literal (providing the string represents a whole number)\n",
        "\n",
        "2. float() - constructs a float number from an integer literal, a float literal or a string literal (providing the string represents a float or an integer)\n",
        "\n",
        "3. str() - constructs a string from a wide variety of data types, including strings, integer literals and float literals"
      ],
      "metadata": {
        "id": "heP4rduTjzJF"
      }
    },
    {
      "cell_type": "code",
      "source": [
        "# Integers\n",
        "\n",
        "x = int(1)\n",
        "y = int(2.8)\n",
        "z = int(\"3\")\n",
        "\n",
        "print(x)\n",
        "print(y)\n",
        "print(z)"
      ],
      "metadata": {
        "colab": {
          "base_uri": "https://localhost:8080/"
        },
        "id": "OK9dd5MBjy1F",
        "outputId": "bfec75ef-79e0-4b14-b5ab-0f3c6c0e3c07"
      },
      "execution_count": 47,
      "outputs": [
        {
          "output_type": "stream",
          "name": "stdout",
          "text": [
            "1\n",
            "2\n",
            "3\n"
          ]
        }
      ]
    },
    {
      "cell_type": "code",
      "source": [
        "# Float\n",
        "x = float(1)\n",
        "y = float(2.8)\n",
        "z = float(\"3\")\n",
        "w = float(\"4.2\")\n",
        "\n",
        "print(x)\n",
        "print(y)\n",
        "print(z)\n",
        "print(w)\n"
      ],
      "metadata": {
        "colab": {
          "base_uri": "https://localhost:8080/"
        },
        "id": "LUPnhn9RkEsV",
        "outputId": "a16427a6-d066-457b-dc2a-e208302938d1"
      },
      "execution_count": 48,
      "outputs": [
        {
          "output_type": "stream",
          "name": "stdout",
          "text": [
            "1.0\n",
            "2.8\n",
            "3.0\n",
            "4.2\n"
          ]
        }
      ]
    },
    {
      "cell_type": "code",
      "source": [
        "# Strings\n",
        "\n",
        "x = str(\"s1\")\n",
        "y = str(2)\n",
        "z = str(3.0)\n",
        "\n",
        "print(x)\n",
        "print(y)\n",
        "print(z)"
      ],
      "metadata": {
        "colab": {
          "base_uri": "https://localhost:8080/"
        },
        "id": "295FNnHjkPx9",
        "outputId": "b32fdf20-38ef-433f-de4c-08597463d347"
      },
      "execution_count": 49,
      "outputs": [
        {
          "output_type": "stream",
          "name": "stdout",
          "text": [
            "s1\n",
            "2\n",
            "3.0\n"
          ]
        }
      ]
    },
    {
      "cell_type": "markdown",
      "source": [
        "## Python Strings"
      ],
      "metadata": {
        "id": "4J0EXAkIkb2N"
      }
    },
    {
      "cell_type": "markdown",
      "source": [
        "Strings\n",
        "\n",
        "Strings in python are surrounded by either single quotation marks, or double quotation marks.\n",
        "\n",
        "'hello' is the same as \"hello\".\n",
        "\n",
        "You can display a string literal with the print() function:"
      ],
      "metadata": {
        "id": "1XM-7h49kfrM"
      }
    },
    {
      "cell_type": "code",
      "source": [
        "print(\"Hello\")\n",
        "print('Hello')"
      ],
      "metadata": {
        "colab": {
          "base_uri": "https://localhost:8080/"
        },
        "id": "jEPCb90Gkh6U",
        "outputId": "d3257759-41c0-40b8-f215-b035fd6648fc"
      },
      "execution_count": 50,
      "outputs": [
        {
          "output_type": "stream",
          "name": "stdout",
          "text": [
            "Hello\n",
            "Hello\n"
          ]
        }
      ]
    },
    {
      "cell_type": "markdown",
      "source": [
        "Quotes Inside Quotes:\n",
        "\n",
        "You can use quotes inside a string, as long as they don't match the quotes surrounding the string:"
      ],
      "metadata": {
        "id": "ei61I5TmkjxU"
      }
    },
    {
      "cell_type": "code",
      "source": [
        "print(\"It's alright\")\n",
        "print(\"He is called 'Johnny'\")\n",
        "print('He is called \"Johnny\"')"
      ],
      "metadata": {
        "colab": {
          "base_uri": "https://localhost:8080/"
        },
        "id": "YQFFnnvmkl_u",
        "outputId": "c1b5dc21-ed9c-4f5e-f21c-180b41c1263b"
      },
      "execution_count": 51,
      "outputs": [
        {
          "output_type": "stream",
          "name": "stdout",
          "text": [
            "It's alright\n",
            "He is called 'Johnny'\n",
            "He is called \"Johnny\"\n"
          ]
        }
      ]
    },
    {
      "cell_type": "markdown",
      "source": [
        "Assign String to a Variable:\n",
        "\n",
        "\n",
        "Assigning a string to a variable is done with the variable name followed by an equal sign and the string:"
      ],
      "metadata": {
        "id": "5Y1siUyKkoH0"
      }
    },
    {
      "cell_type": "code",
      "source": [
        "a = \"Hello\"\n",
        "print(a)"
      ],
      "metadata": {
        "colab": {
          "base_uri": "https://localhost:8080/"
        },
        "id": "2olGqYffkpoU",
        "outputId": "693bb157-154c-4adc-c1c4-2c5d5f43aa9b"
      },
      "execution_count": 52,
      "outputs": [
        {
          "output_type": "stream",
          "name": "stdout",
          "text": [
            "Hello\n"
          ]
        }
      ]
    },
    {
      "cell_type": "markdown",
      "source": [
        "Multiline Strings:\n",
        "\n",
        "\n",
        "You can assign a multiline string to a variable by using three quotes:"
      ],
      "metadata": {
        "id": "Q2jYiVhnkrSE"
      }
    },
    {
      "cell_type": "code",
      "source": [
        "# You can use three double quotes:\n",
        "\n",
        "a = \"\"\"Lorem ipsum dolor sit amet,\n",
        "consectetur adipiscing elit,\n",
        "sed do eiusmod tempor incididunt\n",
        "ut labore et dolore magna aliqua.\"\"\"\n",
        "\n",
        "\n",
        "print(a)"
      ],
      "metadata": {
        "colab": {
          "base_uri": "https://localhost:8080/"
        },
        "id": "6aCzDeATktKk",
        "outputId": "902f3279-70b8-45ba-9c22-a98d754b9279"
      },
      "execution_count": 54,
      "outputs": [
        {
          "output_type": "stream",
          "name": "stdout",
          "text": [
            "Lorem ipsum dolor sit amet,\n",
            "consectetur adipiscing elit,\n",
            "sed do eiusmod tempor incididunt\n",
            "ut labore et dolore magna aliqua.\n"
          ]
        }
      ]
    },
    {
      "cell_type": "code",
      "source": [
        "# Or three single quotes:\n",
        "\n",
        "a = '''Lorem ipsum dolor sit amet,\n",
        "consectetur adipiscing elit,\n",
        "sed do eiusmod tempor incididunt\n",
        "ut labore et dolore magna aliqua.'''\n",
        "\n",
        "print(a)"
      ],
      "metadata": {
        "colab": {
          "base_uri": "https://localhost:8080/"
        },
        "id": "C5OJn1Jnk4Nb",
        "outputId": "68e75edc-43bd-4a3f-c7df-5f2a2e67e10e"
      },
      "execution_count": 57,
      "outputs": [
        {
          "output_type": "stream",
          "name": "stdout",
          "text": [
            "Lorem ipsum dolor sit amet,\n",
            "consectetur adipiscing elit,\n",
            "sed do eiusmod tempor incididunt\n",
            "ut labore et dolore magna aliqua.\n"
          ]
        }
      ]
    },
    {
      "cell_type": "markdown",
      "source": [
        "Note: in the result, the line breaks are inserted at the same position as in the code."
      ],
      "metadata": {
        "id": "lsyt7LX1lCWT"
      }
    },
    {
      "cell_type": "markdown",
      "source": [
        "Strings are Arrays\n",
        "\n",
        "Like many other popular programming languages, strings in Python are arrays of unicode characters.\n",
        "\n",
        "However, Python does not have a character data type, a single character is simply a string with a length of 1.\n",
        "\n",
        "Square brackets can be used to access elements of the string."
      ],
      "metadata": {
        "id": "AJta8wLvlC78"
      }
    },
    {
      "cell_type": "code",
      "source": [
        "# Get the character at position 1 (remember that the first character has the position 0):\n",
        "\n",
        "a = \"Hello, World!\"\n",
        "print(a[1])"
      ],
      "metadata": {
        "colab": {
          "base_uri": "https://localhost:8080/"
        },
        "id": "AgQE3efvlHsu",
        "outputId": "3e64de57-87f3-42f0-f73c-b3cf575517dc"
      },
      "execution_count": 58,
      "outputs": [
        {
          "output_type": "stream",
          "name": "stdout",
          "text": [
            "e\n"
          ]
        }
      ]
    },
    {
      "cell_type": "markdown",
      "source": [
        "Looping Through a String:\n",
        "\n",
        "Since strings are arrays, we can loop through the characters in a string, with a for loop."
      ],
      "metadata": {
        "id": "_4zHv5DzlL3z"
      }
    },
    {
      "cell_type": "code",
      "source": [
        "# Loop through the letters in the word \"banana\":\n",
        "\n",
        "for x in \"banana\":\n",
        "  print(x)"
      ],
      "metadata": {
        "colab": {
          "base_uri": "https://localhost:8080/"
        },
        "id": "X8_7AmWZlPEe",
        "outputId": "777d2bd7-5b69-4a42-e133-c1bbb8cd8496"
      },
      "execution_count": 59,
      "outputs": [
        {
          "output_type": "stream",
          "name": "stdout",
          "text": [
            "b\n",
            "a\n",
            "n\n",
            "a\n",
            "n\n",
            "a\n"
          ]
        }
      ]
    },
    {
      "cell_type": "markdown",
      "source": [
        "String Length\n",
        "\n",
        "To get the length of a string, use the len() function"
      ],
      "metadata": {
        "id": "R5UUFeP2lS4j"
      }
    },
    {
      "cell_type": "code",
      "source": [
        "# The len() function returns the length of a string:\n",
        "\n",
        "a = \"Hello, World!\"\n",
        "print(len(a))"
      ],
      "metadata": {
        "colab": {
          "base_uri": "https://localhost:8080/"
        },
        "id": "q0n_8cJelP98",
        "outputId": "0fe998b8-27e3-4739-8c09-16935819027c"
      },
      "execution_count": 60,
      "outputs": [
        {
          "output_type": "stream",
          "name": "stdout",
          "text": [
            "13\n"
          ]
        }
      ]
    },
    {
      "cell_type": "markdown",
      "source": [
        "Check String:\n",
        "\n",
        "To check if a certain phrase or character is present in a string, we can use the keyword in."
      ],
      "metadata": {
        "id": "uTE-kPX-lW-s"
      }
    },
    {
      "cell_type": "code",
      "source": [
        "# Check if \"free\" is present in the following text:\n",
        "\n",
        "txt = \"The best things in life are free!\"\n",
        "print(\"free\" in txt)"
      ],
      "metadata": {
        "colab": {
          "base_uri": "https://localhost:8080/"
        },
        "id": "R7YpilzdlYnj",
        "outputId": "6082cf08-0e45-4873-cb6f-24f875ed239b"
      },
      "execution_count": 61,
      "outputs": [
        {
          "output_type": "stream",
          "name": "stdout",
          "text": [
            "True\n"
          ]
        }
      ]
    },
    {
      "cell_type": "markdown",
      "source": [
        "Use it in an if statement:"
      ],
      "metadata": {
        "id": "op5YgkSXlciL"
      }
    },
    {
      "cell_type": "code",
      "source": [
        "# Print only if \"free\" is present:\n",
        "\n",
        "txt = \"The best things in life are free!\"\n",
        "if \"free\" in txt:\n",
        "  print(\"Yes, 'free' is present.\")"
      ],
      "metadata": {
        "colab": {
          "base_uri": "https://localhost:8080/"
        },
        "id": "pS8R3fH7laME",
        "outputId": "4eeea8ef-3194-418a-b73a-7a0304d602db"
      },
      "execution_count": 62,
      "outputs": [
        {
          "output_type": "stream",
          "name": "stdout",
          "text": [
            "Yes, 'free' is present.\n"
          ]
        }
      ]
    },
    {
      "cell_type": "markdown",
      "source": [
        "Check if NOT:\n",
        "\n",
        "To check if a certain phrase or character is NOT present in a string, we can use the keyword not in."
      ],
      "metadata": {
        "id": "XBpdlM6glh0c"
      }
    },
    {
      "cell_type": "code",
      "source": [
        "# Check if \"expensive\" is NOT present in the following text:\n",
        "\n",
        "txt = \"The best things in life are free!\"\n",
        "print(\"expensive\" not in txt)"
      ],
      "metadata": {
        "colab": {
          "base_uri": "https://localhost:8080/"
        },
        "id": "g9_1_hv6ljtj",
        "outputId": "a49eae33-48eb-4392-9561-ac7570687c83"
      },
      "execution_count": 63,
      "outputs": [
        {
          "output_type": "stream",
          "name": "stdout",
          "text": [
            "True\n"
          ]
        }
      ]
    },
    {
      "cell_type": "markdown",
      "source": [
        "Use it in an if statement:"
      ],
      "metadata": {
        "id": "3MhtcaaolmvL"
      }
    },
    {
      "cell_type": "code",
      "source": [
        "# print only if \"expensive\" is NOT present:\n",
        "\n",
        "txt = \"The best things in life are free!\"\n",
        "if \"expensive\" not in txt:\n",
        "  print(\"No, 'expensive' is NOT present.\")"
      ],
      "metadata": {
        "colab": {
          "base_uri": "https://localhost:8080/"
        },
        "id": "Y3HYvPtwloZj",
        "outputId": "d0acb530-eef6-4186-f3d2-33d610eba3e2"
      },
      "execution_count": 64,
      "outputs": [
        {
          "output_type": "stream",
          "name": "stdout",
          "text": [
            "No, 'expensive' is NOT present.\n"
          ]
        }
      ]
    }
  ]
}