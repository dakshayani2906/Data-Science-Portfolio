{
  "cells": [
    {
      "cell_type": "markdown",
      "metadata": {
        "id": "view-in-github",
        "colab_type": "text"
      },
      "source": [
        "<a href=\"https://colab.research.google.com/github/dakshayani2906/Data-Science-Portfolio/blob/main/Untitled7.ipynb\" target=\"_parent\"><img src=\"https://colab.research.google.com/assets/colab-badge.svg\" alt=\"Open In Colab\"/></a>"
      ]
    },
    {
      "cell_type": "code",
      "source": [
        "\n",
        "\n",
        "# Linear Regression\n",
        "\n",
        "\n",
        "import pandas as pd\n",
        "from sklearn.linear_model import LogisticRegression\n",
        "\n",
        "# Sample Data\n",
        "data = pd.DataFrame({\n",
        "    'Age': [22, 25, 47, 52],\n",
        "    'Bought': [0, 0, 1, 1]\n",
        "})\n",
        "\n",
        "# Features and Target\n",
        "X = data[['Age']]\n",
        "y = data['Bought']\n",
        "\n",
        "# Model\n",
        "model = LogisticRegression()\n",
        "model.fit(X, y)\n",
        "\n",
        "# Prediction\n",
        "print(model.predict([[30]]))  # Will it be 0 or 1?\n",
        "print(model.predict_proba([[30]]))  # What is the probability?\n"
      ],
      "metadata": {
        "id": "YDjjdOz6cTne",
        "colab": {
          "base_uri": "https://localhost:8080/"
        },
        "outputId": "08497a8d-3808-4132-b02a-bab9077f058c"
      },
      "execution_count": 2,
      "outputs": [
        {
          "output_type": "stream",
          "name": "stdout",
          "text": [
            "[0]\n",
            "[[0.9173737 0.0826263]]\n"
          ]
        },
        {
          "output_type": "stream",
          "name": "stderr",
          "text": [
            "/usr/local/lib/python3.11/dist-packages/sklearn/utils/validation.py:2739: UserWarning: X does not have valid feature names, but LogisticRegression was fitted with feature names\n",
            "  warnings.warn(\n",
            "/usr/local/lib/python3.11/dist-packages/sklearn/utils/validation.py:2739: UserWarning: X does not have valid feature names, but LogisticRegression was fitted with feature names\n",
            "  warnings.warn(\n"
          ]
        }
      ]
    },
    {
      "cell_type": "code",
      "source": [
        "from sklearn.tree import DecisionTreeClassifier\n",
        "import pandas as pd\n",
        "\n",
        "# Sample Data\n",
        "data = pd.DataFrame({\n",
        "    'Age': [25, 35, 45],\n",
        "    'Income': ['High', 'Low', 'Medium'],\n",
        "    'Buy': ['No', 'Yes', 'Yes']\n",
        "})\n",
        "\n",
        "# Encoding categorical data\n",
        "data['Income'] = data['Income'].map({'Low': 0, 'Medium': 1, 'High': 2})\n",
        "data['Buy'] = data['Buy'].map({'No': 0, 'Yes': 1})\n",
        "\n",
        "X = data[['Age', 'Income']]\n",
        "y = data['Buy']\n",
        "\n",
        "# Model\n",
        "model = DecisionTreeClassifier()\n",
        "model.fit(X, y)\n",
        "\n",
        "# Prediction\n",
        "print(model.predict([[30, 1]]))  # Age 30, Medium Income\n"
      ],
      "metadata": {
        "colab": {
          "base_uri": "https://localhost:8080/"
        },
        "id": "vUTJodOZcnfP",
        "outputId": "23530a95-e93c-4e5e-a01f-5ebcfea54a5b"
      },
      "execution_count": 3,
      "outputs": [
        {
          "output_type": "stream",
          "name": "stdout",
          "text": [
            "[0]\n"
          ]
        },
        {
          "output_type": "stream",
          "name": "stderr",
          "text": [
            "/usr/local/lib/python3.11/dist-packages/sklearn/utils/validation.py:2739: UserWarning: X does not have valid feature names, but DecisionTreeClassifier was fitted with feature names\n",
            "  warnings.warn(\n"
          ]
        }
      ]
    }
  ],
  "metadata": {
    "colab": {
      "provenance": [],
      "authorship_tag": "ABX9TyNUCYYXIa2SgFuHxqApfWb+",
      "include_colab_link": true
    },
    "kernelspec": {
      "display_name": "Python 3",
      "name": "python3"
    },
    "language_info": {
      "name": "python"
    }
  },
  "nbformat": 4,
  "nbformat_minor": 0
}