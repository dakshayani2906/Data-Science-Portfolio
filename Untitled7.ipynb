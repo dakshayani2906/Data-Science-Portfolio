{
  "cells": [
    {
      "cell_type": "markdown",
      "metadata": {
        "id": "view-in-github",
        "colab_type": "text"
      },
      "source": [
        "<a href=\"https://colab.research.google.com/github/dakshayani2906/Data-Science-Portfolio/blob/main/Untitled7.ipynb\" target=\"_parent\"><img src=\"https://colab.research.google.com/assets/colab-badge.svg\" alt=\"Open In Colab\"/></a>"
      ]
    },
    {
      "cell_type": "code",
      "source": [
        "# Count missing values in a dataset\n",
        "\n",
        "\n",
        "import pandas as pd\n",
        "\n",
        "df = pd.read_csv(\"employees.csv\")\n",
        "print(df.isnull().sum())"
      ],
      "metadata": {
        "id": "n9BPCTbrqZxV"
      },
      "execution_count": null,
      "outputs": []
    },
    {
      "cell_type": "code",
      "source": [
        "# Count missing values in a dataset - Advanced\n",
        "\n",
        "import pandas as pd\n",
        "\n",
        "df = pd.read_csv(\"employees.csv\")\n",
        "\n",
        "missing_summary = (\n",
        "    df.isna()\n",
        "    .sum()\n",
        "    .reset_index(name = \"missing_count\")\n",
        "    .query(\"missing_count > 0\")\n",
        "    .sort_values(\"missing_pct\", ascending = False)\n",
        ")\n",
        "\n",
        "print(missing_sumamry)"
      ],
      "metadata": {
        "id": "UOwknbspsMC9"
      },
      "execution_count": null,
      "outputs": []
    },
    {
      "cell_type": "code",
      "source": [
        "numbers = [1,2,3,4,5,6,7,8,9,10]\n",
        "\n",
        "#FInd even numbers using a loop\n",
        "even_numbers = []\n",
        "for num in numbers:\n",
        "  if num % 2 == 0:\n",
        "    even_numbers.append(num)\n",
        "\n",
        "print(even_numbers)"
      ],
      "metadata": {
        "colab": {
          "base_uri": "https://localhost:8080/"
        },
        "id": "rb-Uu5pl2Bov",
        "outputId": "56b9ea02-3745-46ad-d71d-48ffb3407ea5"
      },
      "execution_count": null,
      "outputs": [
        {
          "output_type": "stream",
          "name": "stdout",
          "text": [
            "[2, 4, 6, 8, 10]\n"
          ]
        }
      ]
    },
    {
      "cell_type": "code",
      "source": [
        "numbers = [1,2,3,4,5,6,7,8,9,10]\n",
        "\n",
        "even_numbers = []\n",
        "for num in numbers:\n",
        "  if num % 2 == 0:\n",
        "    even_numbers.append(num)\n",
        "print (even_numbers)"
      ],
      "metadata": {
        "colab": {
          "base_uri": "https://localhost:8080/"
        },
        "id": "Jqd5lGOznIZf",
        "outputId": "0abc5ac1-c047-4711-f846-e48a79173e4e"
      },
      "execution_count": null,
      "outputs": [
        {
          "output_type": "stream",
          "name": "stdout",
          "text": [
            "[2, 4, 6, 8, 10]\n"
          ]
        }
      ]
    },
    {
      "cell_type": "code",
      "source": [
        "numbers = [1,2,3,4,5,6,7,8,9,10]\n",
        "\n",
        "even_numbers = []\n",
        "for num in numbers:\n",
        "  if num%2 ==0:\n",
        "    even_numbers.append(num)\n",
        "\n",
        "print(even_numbers)"
      ],
      "metadata": {
        "colab": {
          "base_uri": "https://localhost:8080/"
        },
        "id": "WqPB1lkGmtUg",
        "outputId": "e1ecd57d-7170-4b10-f327-c5cedfc29ab8"
      },
      "execution_count": null,
      "outputs": [
        {
          "output_type": "stream",
          "name": "stdout",
          "text": [
            "[2, 4, 6, 8, 10]\n"
          ]
        }
      ]
    },
    {
      "cell_type": "code",
      "source": [
        "Numbers = [1,2,3,4,5,6,7,8,9,10]\n",
        "\n",
        "#List comprehension\n",
        "\n",
        "even_numbers = [num for num in numbers if num % 2 == 0]\n",
        "\n",
        "print(even_numbers)"
      ],
      "metadata": {
        "colab": {
          "base_uri": "https://localhost:8080/"
        },
        "id": "XNyAmUO72QbL",
        "outputId": "efb9d7dd-7a91-4ab7-8aa8-df791fb63aab"
      },
      "execution_count": null,
      "outputs": [
        {
          "output_type": "stream",
          "name": "stdout",
          "text": [
            "[2, 4, 6, 8, 10]\n"
          ]
        }
      ]
    },
    {
      "cell_type": "code",
      "source": [
        "even_numbers = [num for num in numbers if num %2 == 0]\n",
        "\n",
        "print(even_numbers)"
      ],
      "metadata": {
        "colab": {
          "base_uri": "https://localhost:8080/"
        },
        "id": "XDjkQDeCnbBX",
        "outputId": "fccf49e0-da67-4e4b-eace-0fa0f484edf6"
      },
      "execution_count": null,
      "outputs": [
        {
          "output_type": "stream",
          "name": "stdout",
          "text": [
            "[2, 4, 6, 8, 10]\n"
          ]
        }
      ]
    },
    {
      "cell_type": "code",
      "source": [
        "#even_numbers = [num for num in numbers if num %2 == 0]\n",
        "even_numbers = [num for num in numbers if num% 2 == 0]\n",
        "print(even_numbers)"
      ],
      "metadata": {
        "colab": {
          "base_uri": "https://localhost:8080/"
        },
        "id": "jSa2gz6gnqme",
        "outputId": "5025eb22-7e9b-4c83-87b6-f380389e029c"
      },
      "execution_count": null,
      "outputs": [
        {
          "output_type": "stream",
          "name": "stdout",
          "text": [
            "[2, 4, 6, 8, 10]\n"
          ]
        }
      ]
    },
    {
      "cell_type": "code",
      "source": [
        "odd_numbers = [num for num in numbers if num % 2 != 0]\n",
        "\n",
        "print(odd_numbers)"
      ],
      "metadata": {
        "colab": {
          "base_uri": "https://localhost:8080/"
        },
        "id": "01FeAWiN2zTL",
        "outputId": "2cb433a8-9607-4ff7-d8a6-60b931c8445f"
      },
      "execution_count": null,
      "outputs": [
        {
          "output_type": "stream",
          "name": "stdout",
          "text": [
            "[1, 3, 5, 7, 9]\n"
          ]
        }
      ]
    },
    {
      "cell_type": "code",
      "source": [
        "# Vectorization with NumPy\n",
        "\n",
        "''' import numpy as np\n",
        "\n",
        "numbers = np.arange(1,11)\n",
        "\n",
        "even_numbers = numbers[numbers % 2 ==0]\n",
        "\n",
        "'''\n",
        "\n",
        "import numpy as np\n",
        "numbers = np.arange(1,11)\n",
        "even_numbers = numbers[numbers % 2 == 0]\n",
        "\n",
        "print(even_numbers)\n"
      ],
      "metadata": {
        "colab": {
          "base_uri": "https://localhost:8080/"
        },
        "id": "1F5SLVXe29Hl",
        "outputId": "76d60f2a-8c74-4c04-c135-defb8c5bbc81"
      },
      "execution_count": null,
      "outputs": [
        {
          "output_type": "stream",
          "name": "stdout",
          "text": [
            "[ 2  4  6  8 10]\n"
          ]
        }
      ]
    },
    {
      "cell_type": "code",
      "source": [],
      "metadata": {
        "id": "2wly2NB4n_He"
      },
      "execution_count": null,
      "outputs": []
    },
    {
      "cell_type": "code",
      "source": [
        "# Vectorization with Pandas\n",
        "\n",
        "''' import pandas as pd\n",
        "\n",
        "df = pd.DataFrame({\"numbers\" : range(1,11)})\n",
        "\n",
        "# Vectorized Filtering\n",
        "\n",
        "even_numbers = df[df[\"numbers\"] % 2 ==0]\n",
        "'''\n",
        "\n",
        "import pandas as pd\n",
        "df = pd.DataFrame({\"numbers\" : range(1,11) })\n",
        "even_numbers = df[df[\"numbers\"] % 2 == 0]\n",
        "print(even_numbers)"
      ],
      "metadata": {
        "colab": {
          "base_uri": "https://localhost:8080/"
        },
        "id": "ghpL3-OI3ad-",
        "outputId": "9e0a3122-42c8-4866-dbe0-15e803d60bd7"
      },
      "execution_count": null,
      "outputs": [
        {
          "output_type": "stream",
          "name": "stdout",
          "text": [
            "   numbers\n",
            "1        2\n",
            "3        4\n",
            "5        6\n",
            "7        8\n",
            "9       10\n"
          ]
        }
      ]
    },
    {
      "cell_type": "markdown",
      "source": [
        "Problem 1: FInad all even numbers from 1 - 20"
      ],
      "metadata": {
        "id": "eo9SjD7347lO"
      }
    },
    {
      "cell_type": "code",
      "source": [
        "# Loop\n",
        "\n",
        "''' even_numbers = []\n",
        "for num in range(1,21):\n",
        "  if num % 2 == 0:\n",
        "    even_numbers.append(num)\n",
        "'''\n",
        "\n",
        "even_numbers = []\n",
        "for num in range(1,31):\n",
        "  if num % 2 == 0:\n",
        "    even_numbers.append(num)\n",
        "\n",
        "print(even_numbers)\n",
        "\n",
        "even_numbers = []\n",
        "for num in range(1,101):\n",
        "  if num % 2 == 0:\n",
        "    even_numbers.append(num)\n",
        "print(even_numbers)"
      ],
      "metadata": {
        "colab": {
          "base_uri": "https://localhost:8080/"
        },
        "id": "qLD9bvc630ge",
        "outputId": "2dccc289-18cf-48a5-f63c-5407c6d8372a"
      },
      "execution_count": null,
      "outputs": [
        {
          "output_type": "stream",
          "name": "stdout",
          "text": [
            "[2, 4, 6, 8, 10, 12, 14, 16, 18, 20, 22, 24, 26, 28, 30]\n",
            "[2, 4, 6, 8, 10, 12, 14, 16, 18, 20, 22, 24, 26, 28, 30, 32, 34, 36, 38, 40, 42, 44, 46, 48, 50, 52, 54, 56, 58, 60, 62, 64, 66, 68, 70, 72, 74, 76, 78, 80, 82, 84, 86, 88, 90, 92, 94, 96, 98, 100]\n"
          ]
        }
      ]
    },
    {
      "cell_type": "code",
      "source": [
        "# List Comprehension\n",
        "\n",
        "#even_numbers = [num for num in range(1,21) if num %2 == 0]\n",
        "\n",
        "even_numbers = [num for num in range(1,10) if num % 2 == 0]\n",
        "\n",
        "print(even_numbers)"
      ],
      "metadata": {
        "colab": {
          "base_uri": "https://localhost:8080/"
        },
        "id": "ysAFuaQM5BsV",
        "outputId": "57a4edd2-934e-4151-a36a-2bc3b53c1a88"
      },
      "execution_count": null,
      "outputs": [
        {
          "output_type": "stream",
          "name": "stdout",
          "text": [
            "[2, 4, 6, 8]\n"
          ]
        }
      ]
    },
    {
      "cell_type": "code",
      "source": [
        "# Vectorisation NumPy\n",
        "\n",
        "import numpy as np\n",
        "\n",
        "numbers  = np.arange(1,21)\n",
        "even_numbers = numbers[numbers % 2 ==0 ]\n",
        "\n",
        "print(even_numbers)"
      ],
      "metadata": {
        "colab": {
          "base_uri": "https://localhost:8080/"
        },
        "id": "TmCsuTlR5Dyu",
        "outputId": "2493aaa5-3e13-4a32-bbc6-734711a668a9"
      },
      "execution_count": null,
      "outputs": [
        {
          "output_type": "stream",
          "name": "stdout",
          "text": [
            "[ 2  4  6  8 10 12 14 16 18 20]\n"
          ]
        }
      ]
    },
    {
      "cell_type": "code",
      "source": [],
      "metadata": {
        "id": "vGbtpdOMq3lM"
      },
      "execution_count": null,
      "outputs": []
    },
    {
      "cell_type": "markdown",
      "source": [
        "Square each number in a list"
      ],
      "metadata": {
        "id": "H-9yE-nCE_cK"
      }
    },
    {
      "cell_type": "code",
      "source": [
        "numbers = [1,2,3,4,5]\n",
        "\n",
        "# Loop\n",
        "\n",
        "squares = []\n",
        "for n in numbers:\n",
        "  squares.append(n**2)\n",
        "print(squares)"
      ],
      "metadata": {
        "colab": {
          "base_uri": "https://localhost:8080/"
        },
        "id": "e8Ln8sNVErrP",
        "outputId": "8e638c67-a332-478b-ed5a-65a540a9f3a9"
      },
      "execution_count": null,
      "outputs": [
        {
          "output_type": "stream",
          "name": "stdout",
          "text": [
            "[1, 4, 9, 16, 25]\n"
          ]
        }
      ]
    },
    {
      "cell_type": "code",
      "source": [
        "# List Comprehension\n",
        "\n",
        "# squares = [n ** 2 for n in numbers]\n",
        "squares = [n ** 2 for n in numbers]\n",
        "cubes = [ n ** 3 for n in numbers]\n",
        "\n",
        "print(squares)\n",
        "print(cubes)"
      ],
      "metadata": {
        "colab": {
          "base_uri": "https://localhost:8080/"
        },
        "id": "7Hq6RCt8ErbK",
        "outputId": "8f6854ea-e356-4dd4-9a14-b9916618dc5b"
      },
      "execution_count": null,
      "outputs": [
        {
          "output_type": "stream",
          "name": "stdout",
          "text": [
            "[1, 4, 9, 16, 25]\n",
            "[1, 8, 27, 64, 125]\n"
          ]
        }
      ]
    },
    {
      "cell_type": "code",
      "source": [],
      "metadata": {
        "id": "5XXLk4xAq7-P"
      },
      "execution_count": null,
      "outputs": []
    },
    {
      "cell_type": "code",
      "source": [
        "# Vectorisation Numpy\n",
        "\n",
        "import numpy as np\n",
        "numbers = np.array([1,2,3,4,5])\n",
        "squares = numbers ** 2\n",
        "\n",
        "print(squares)\n",
        "\n"
      ],
      "metadata": {
        "colab": {
          "base_uri": "https://localhost:8080/"
        },
        "id": "i04ioZJE5Hua",
        "outputId": "38ffddbb-8ee8-471b-98e6-79d44ddb425f"
      },
      "execution_count": null,
      "outputs": [
        {
          "output_type": "stream",
          "name": "stdout",
          "text": [
            "[ 1  4  9 16 25]\n"
          ]
        }
      ]
    },
    {
      "cell_type": "markdown",
      "source": [
        "Extract names longer than 5 characters"
      ],
      "metadata": {
        "id": "azAwvPzjFszc"
      }
    },
    {
      "cell_type": "code",
      "source": [
        "names = [\"Alex\", \"Jonathan\", \"Maya\", \"Christopher\", \"Nina\"]\n",
        "\n",
        "# Loop\n",
        "\n",
        "long_names = []\n",
        "for name in names:\n",
        "  if len(name) >5:\n",
        "    long_names.append(name)\n",
        "\n",
        "print(long_names)"
      ],
      "metadata": {
        "colab": {
          "base_uri": "https://localhost:8080/"
        },
        "id": "MxLg76fi5JCY",
        "outputId": "f94c2c68-742a-43ad-f7d6-d647e6082271"
      },
      "execution_count": null,
      "outputs": [
        {
          "output_type": "stream",
          "name": "stdout",
          "text": [
            "['Jonathan', 'Christopher']\n"
          ]
        }
      ]
    },
    {
      "cell_type": "code",
      "source": [
        "#List comprehension\n",
        "\n",
        "long_names = [ name for name in names if len(name) > 5]\n",
        "\n",
        "print(long_names)"
      ],
      "metadata": {
        "colab": {
          "base_uri": "https://localhost:8080/"
        },
        "id": "oN7x3CogF9eQ",
        "outputId": "fd914b19-243a-4659-dbaa-2d4d36e0a878"
      },
      "execution_count": null,
      "outputs": [
        {
          "output_type": "stream",
          "name": "stdout",
          "text": [
            "['Jonathan', 'Christopher']\n"
          ]
        }
      ]
    },
    {
      "cell_type": "code",
      "source": [
        "# Pandas Vectorization\n",
        "\n",
        "import pandas as pd\n",
        "\n",
        "df = pd.DataFrame({\"name\": [\"Alex\", \"Jonathan\", \"Maya\", \"Christopher\", \"Nina\"]})\n",
        "long_names = df[df[\"name\"].str.len() > 5 ]\n",
        "print(long_names)"
      ],
      "metadata": {
        "colab": {
          "base_uri": "https://localhost:8080/"
        },
        "id": "A4s9R2d5GG9P",
        "outputId": "7082536d-345c-4672-d772-5f5d5bbfbbf0"
      },
      "execution_count": null,
      "outputs": [
        {
          "output_type": "stream",
          "name": "stdout",
          "text": [
            "          name\n",
            "1     Jonathan\n",
            "3  Christopher\n"
          ]
        }
      ]
    },
    {
      "cell_type": "markdown",
      "source": [
        "Mutliply Salaries  by 1.1 (10% hike)"
      ],
      "metadata": {
        "id": "B97E_tOPGr-w"
      }
    },
    {
      "cell_type": "code",
      "source": [
        "import pandas as pd\n",
        "df = pd.DataFrame({\"employee\": [\"A\", \"B\", \"C\"], \"salary\": [50000, 60000, 70000]})"
      ],
      "metadata": {
        "id": "R7GbWAETGkRM"
      },
      "execution_count": null,
      "outputs": []
    },
    {
      "cell_type": "code",
      "source": [
        "# Loop\n",
        "\n",
        "new_salaries = []\n",
        "for s in df[\"salary\"]:\n",
        "  new_salaries.append(s * 1.1)\n",
        "\n",
        "print(new_salaries)"
      ],
      "metadata": {
        "colab": {
          "base_uri": "https://localhost:8080/"
        },
        "id": "NHbLjM4iG2u_",
        "outputId": "4dd9307f-ac1c-4380-e357-2a7e47bff7bb"
      },
      "execution_count": null,
      "outputs": [
        {
          "output_type": "stream",
          "name": "stdout",
          "text": [
            "[55000.00000000001, 66000.0, 77000.0]\n"
          ]
        }
      ]
    },
    {
      "cell_type": "code",
      "source": [
        "# List comprehension\n",
        "\n",
        "new_salaries = [s * 1.1 for s in df[\"salary\"]]\n",
        "print(new_salaries)"
      ],
      "metadata": {
        "colab": {
          "base_uri": "https://localhost:8080/"
        },
        "id": "BVWBHqdwHG97",
        "outputId": "5d1e219e-321e-4d46-c055-175ccf4db432"
      },
      "execution_count": null,
      "outputs": [
        {
          "output_type": "stream",
          "name": "stdout",
          "text": [
            "[55000.00000000001, 66000.0, 77000.0]\n"
          ]
        }
      ]
    },
    {
      "cell_type": "code",
      "source": [
        "# Pandas Vectorisation\n",
        "\n",
        "df[\"updates_salary\"] = df[\"salary\"] * 1.1\n",
        "print(df)"
      ],
      "metadata": {
        "colab": {
          "base_uri": "https://localhost:8080/"
        },
        "id": "XrpXS7qkHYg0",
        "outputId": "f86da4b7-109b-43e8-b271-c0509aec68bf"
      },
      "execution_count": null,
      "outputs": [
        {
          "output_type": "stream",
          "name": "stdout",
          "text": [
            "  employee  salary  updates_salary\n",
            "0        A   50000         55000.0\n",
            "1        B   60000         66000.0\n",
            "2        C   70000         77000.0\n"
          ]
        }
      ]
    },
    {
      "cell_type": "markdown",
      "source": [
        "Filter employees with Age >30 and salary > 50K"
      ],
      "metadata": {
        "id": "LenSLZKmHn36"
      }
    },
    {
      "cell_type": "code",
      "source": [
        "import pandas as pd\n",
        "df = pd.DataFrame({\n",
        "    \"employee\": [\"A\", \"B\", \"C\", \"D\"],\n",
        "    \"age\": [25, 35, 40, 28],\n",
        "    \"salary\": [40000, 60000, 70000, 45000]\n",
        "})"
      ],
      "metadata": {
        "id": "hqCowoTqHiye"
      },
      "execution_count": null,
      "outputs": []
    },
    {
      "cell_type": "code",
      "source": [
        "# Loop\n",
        "\n",
        "result = []\n",
        "for e, a, s in zip(df[\"employee\"], df[\"age\"], df[\"salary\"]):\n",
        "  if a>30 and s> 50000:\n",
        "    result.append((e,a,s))\n",
        "\n",
        "print(result)"
      ],
      "metadata": {
        "colab": {
          "base_uri": "https://localhost:8080/"
        },
        "id": "M2DSCVoDH0z5",
        "outputId": "9ce0eb5c-d989-4d86-a501-b6ce33ff15d4"
      },
      "execution_count": null,
      "outputs": [
        {
          "output_type": "stream",
          "name": "stdout",
          "text": [
            "[('B', 35, 60000), ('C', 40, 70000)]\n"
          ]
        }
      ]
    },
    {
      "cell_type": "code",
      "source": [
        "# List comprehension\n",
        "\n",
        "result = [(e,a,s) for e,a,s in zip(df[\"employee\"], df[\"age\"], df[\"salary\"]) if a> 30 and s > 50000]\n",
        "print(result)"
      ],
      "metadata": {
        "colab": {
          "base_uri": "https://localhost:8080/"
        },
        "id": "CjSKf9ivIKy4",
        "outputId": "43e8d260-6674-450f-9c5c-9c89991ba2cc"
      },
      "execution_count": null,
      "outputs": [
        {
          "output_type": "stream",
          "name": "stdout",
          "text": [
            "[('B', 35, 60000), ('C', 40, 70000)]\n"
          ]
        }
      ]
    },
    {
      "cell_type": "code",
      "source": [
        "# Pandas Vectorization\n",
        "filtered = df[(df[\"age\"] > 30) & (df[\"salary\"] > 50000)]\n",
        "print(filtered)"
      ],
      "metadata": {
        "colab": {
          "base_uri": "https://localhost:8080/"
        },
        "id": "tzGTL-sRIc9H",
        "outputId": "2ed92543-c0d8-485f-c42f-7cb4563856aa"
      },
      "execution_count": null,
      "outputs": [
        {
          "output_type": "stream",
          "name": "stdout",
          "text": [
            "  employee  age  salary\n",
            "1        B   35   60000\n",
            "2        C   40   70000\n"
          ]
        }
      ]
    },
    {
      "cell_type": "markdown",
      "source": [
        "Extract odd numbers from 1-15"
      ],
      "metadata": {
        "id": "A2p6cTVDJAhb"
      }
    },
    {
      "cell_type": "code",
      "source": [
        "# Loop\n",
        "\n",
        "numbers = [1,2,3,4,5,6,7,8,9,10,11,12,13,14,15]\n",
        "\n",
        "odd = []\n",
        "for n in range(1,16):\n",
        "  if n % 2 != 0:\n",
        "    odd.append(n)\n",
        "\n",
        "print(odd)"
      ],
      "metadata": {
        "colab": {
          "base_uri": "https://localhost:8080/"
        },
        "id": "xnChswWsI0E4",
        "outputId": "ff4e4870-8cf7-4f92-f314-5f0f3c555ac2"
      },
      "execution_count": null,
      "outputs": [
        {
          "output_type": "stream",
          "name": "stdout",
          "text": [
            "[1, 3, 5, 7, 9, 11, 13, 15]\n"
          ]
        }
      ]
    },
    {
      "cell_type": "code",
      "source": [
        "odd = []\n",
        "for n in range(1,16):\n",
        "  if n % 2 != 0:\n",
        "    odd.append(n)\n",
        "print(odd)"
      ],
      "metadata": {
        "colab": {
          "base_uri": "https://localhost:8080/"
        },
        "id": "Y5Rd_q4bKFIk",
        "outputId": "2c3ef64d-3da0-4a2b-8547-b58f43a7a876"
      },
      "execution_count": null,
      "outputs": [
        {
          "output_type": "stream",
          "name": "stdout",
          "text": [
            "[1, 3, 5, 7, 9, 11, 13, 15]\n"
          ]
        }
      ]
    },
    {
      "cell_type": "code",
      "source": [
        "# List Comprehension\n",
        "\n",
        "odd = [n for n in range(1,16) if n % 2 != 0]\n",
        "print(odd)"
      ],
      "metadata": {
        "colab": {
          "base_uri": "https://localhost:8080/"
        },
        "id": "OhnedMz8Jf_Y",
        "outputId": "7395035e-d5bf-4cef-86e8-b24bacde33c5"
      },
      "execution_count": null,
      "outputs": [
        {
          "output_type": "stream",
          "name": "stdout",
          "text": [
            "[1, 3, 5, 7, 9, 11, 13, 15]\n"
          ]
        }
      ]
    },
    {
      "cell_type": "code",
      "source": [
        "odd = [n for n in range (1,16) if n % 2 != 0]\n",
        "print(odd)"
      ],
      "metadata": {
        "colab": {
          "base_uri": "https://localhost:8080/"
        },
        "id": "NYK3X4azKP9s",
        "outputId": "612c32e2-b364-4df9-a583-f28e5d813aff"
      },
      "execution_count": null,
      "outputs": [
        {
          "output_type": "stream",
          "name": "stdout",
          "text": [
            "[1, 3, 5, 7, 9, 11, 13, 15]\n"
          ]
        }
      ]
    },
    {
      "cell_type": "code",
      "source": [
        "# NUmpy\n",
        "\n",
        "import numpy as np\n",
        "\n",
        "num = np.arange(1,16)\n",
        "odd = num[num %2 != 0]\n",
        "print(odd)\n"
      ],
      "metadata": {
        "colab": {
          "base_uri": "https://localhost:8080/"
        },
        "id": "F3EjxI97JsDc",
        "outputId": "8f07a31a-3a18-4f23-fc0c-cdf0c6c58b9c"
      },
      "execution_count": null,
      "outputs": [
        {
          "output_type": "stream",
          "name": "stdout",
          "text": [
            "[ 1  3  5  7  9 11 13 15]\n"
          ]
        }
      ]
    },
    {
      "cell_type": "code",
      "source": [
        "import numpy as np\n",
        "num = np.arange(1,16)\n",
        "odd = num[num % 2 != 0]\n",
        "print(odd)"
      ],
      "metadata": {
        "colab": {
          "base_uri": "https://localhost:8080/"
        },
        "id": "pRESzlSqJ9oK",
        "outputId": "81ee0e5e-91a1-4020-fc7e-300e009d4bdd"
      },
      "execution_count": null,
      "outputs": [
        {
          "output_type": "stream",
          "name": "stdout",
          "text": [
            "[ 1  3  5  7  9 11 13 15]\n"
          ]
        }
      ]
    },
    {
      "cell_type": "markdown",
      "source": [
        "Convert temperatures from Celsius to Fahrenheit"
      ],
      "metadata": {
        "id": "70BtYDKFKiqQ"
      }
    },
    {
      "cell_type": "code",
      "source": [
        "# F = C * 9/5 + 32\n",
        "\n",
        "temps_c = [0,10,20,30,40]\n",
        "\n",
        "#Loop\n",
        "\n",
        "temps_f = []\n",
        "for c in temps_c:\n",
        "  temps_f.append(c* 9/5 +32)\n",
        "\n",
        "print(temps_f)"
      ],
      "metadata": {
        "colab": {
          "base_uri": "https://localhost:8080/"
        },
        "id": "BbzcMjxKKhUL",
        "outputId": "e98dffaf-0d75-4a3c-9c95-cce98127b6ec"
      },
      "execution_count": null,
      "outputs": [
        {
          "output_type": "stream",
          "name": "stdout",
          "text": [
            "[32.0, 50.0, 68.0, 86.0, 104.0]\n"
          ]
        }
      ]
    },
    {
      "cell_type": "code",
      "source": [
        "temps_f = []\n",
        "for c in temps_c:\n",
        "  temps_f.append(c* 9/5 +32)\n",
        "print(temps_f)"
      ],
      "metadata": {
        "colab": {
          "base_uri": "https://localhost:8080/"
        },
        "id": "YPKoRvL2K6tS",
        "outputId": "f0b7f20b-b6b5-4787-cde2-33f2f10ea270"
      },
      "execution_count": null,
      "outputs": [
        {
          "output_type": "stream",
          "name": "stdout",
          "text": [
            "[32.0, 50.0, 68.0, 86.0, 104.0]\n"
          ]
        }
      ]
    },
    {
      "cell_type": "code",
      "source": [
        "# list comprehension\n",
        "\n",
        "temps_f = [c * 9/5 + 32 for c in temps_c]\n",
        "print(temps_f)"
      ],
      "metadata": {
        "colab": {
          "base_uri": "https://localhost:8080/"
        },
        "id": "yFNU-WeeLHeg",
        "outputId": "05a76c29-a5ab-4327-8f02-e8eea8cdc906"
      },
      "execution_count": null,
      "outputs": [
        {
          "output_type": "stream",
          "name": "stdout",
          "text": [
            "[32.0, 50.0, 68.0, 86.0, 104.0]\n"
          ]
        }
      ]
    },
    {
      "cell_type": "code",
      "source": [
        "temps_f = [ c* 9/5 +32 for c in temps_c]\n",
        "print(temps_f)"
      ],
      "metadata": {
        "colab": {
          "base_uri": "https://localhost:8080/"
        },
        "id": "thWs4efxLP_l",
        "outputId": "9d2dc60f-4f22-4a4e-9ebf-97b25f739964"
      },
      "execution_count": null,
      "outputs": [
        {
          "output_type": "stream",
          "name": "stdout",
          "text": [
            "[32.0, 50.0, 68.0, 86.0, 104.0]\n"
          ]
        }
      ]
    },
    {
      "cell_type": "code",
      "source": [
        "# Numpy vectorization\n",
        "\n",
        "temps_c = np.array([0,10,20,30,40])\n",
        "temps_f = temps_c * 9/5 + 32\n",
        "print(temps_f)"
      ],
      "metadata": {
        "colab": {
          "base_uri": "https://localhost:8080/"
        },
        "id": "ieKrxBo2LcLY",
        "outputId": "9d4b0399-fde2-4aa0-ac50-f2cb354303a6"
      },
      "execution_count": null,
      "outputs": [
        {
          "output_type": "stream",
          "name": "stdout",
          "text": [
            "[ 32.  50.  68.  86. 104.]\n"
          ]
        }
      ]
    },
    {
      "cell_type": "code",
      "source": [
        "temps_c = np.array([0,10,20,30,40])\n",
        "temps_f = temps_c * 9 / 5 + 32\n",
        "print(temps_f)"
      ],
      "metadata": {
        "colab": {
          "base_uri": "https://localhost:8080/"
        },
        "id": "zhYVGS7NOudZ",
        "outputId": "529cfed1-ef8e-4e59-e556-daa1623936d7"
      },
      "execution_count": null,
      "outputs": [
        {
          "output_type": "stream",
          "name": "stdout",
          "text": [
            "[ 32.  50.  68.  86. 104.]\n"
          ]
        }
      ]
    },
    {
      "cell_type": "markdown",
      "source": [
        "Get names starting with \"A\""
      ],
      "metadata": {
        "id": "nmEh1t9jQy_J"
      }
    },
    {
      "cell_type": "code",
      "source": [
        "names = [\"Alice\", \"Bob\", \"Angela\", \"Mike\", \"Arjun\", \"Aishu\"]\n",
        "\n",
        "# Loop\n",
        "\n",
        "a_names = []\n",
        "for n in names:\n",
        "  if n.startswith(\"A\"):\n",
        "    a_names.append(n)\n",
        "print(a_names)"
      ],
      "metadata": {
        "colab": {
          "base_uri": "https://localhost:8080/"
        },
        "id": "9kxFpyhPQxp5",
        "outputId": "4f91b4c7-2de4-4909-a829-31fc25815aa6"
      },
      "execution_count": null,
      "outputs": [
        {
          "output_type": "stream",
          "name": "stdout",
          "text": [
            "['Alice', 'Angela', 'Arjun', 'Aishu']\n"
          ]
        }
      ]
    },
    {
      "cell_type": "code",
      "source": [
        "a_names = []\n",
        "for n in names:\n",
        "  if n.startswith(\"A\"):\n",
        "    a_names.append(n)\n",
        "print(a_names)"
      ],
      "metadata": {
        "colab": {
          "base_uri": "https://localhost:8080/"
        },
        "id": "1zWqEi9hUFQy",
        "outputId": "c08ab4b4-bdc7-43c6-c271-9f4d2c426201"
      },
      "execution_count": null,
      "outputs": [
        {
          "output_type": "stream",
          "name": "stdout",
          "text": [
            "['Alice', 'Angela', 'Arjun', 'Aishu']\n"
          ]
        }
      ]
    },
    {
      "cell_type": "code",
      "source": [
        "# LIst Comprehension\n",
        "a_names = [n for n in names if n.startswith(\"A\")]\n",
        "print(a_names)"
      ],
      "metadata": {
        "colab": {
          "base_uri": "https://localhost:8080/"
        },
        "id": "8lfcFtCSUTCR",
        "outputId": "69a7945e-6655-4a25-c2eb-52773149ff7f"
      },
      "execution_count": null,
      "outputs": [
        {
          "output_type": "stream",
          "name": "stdout",
          "text": [
            "['Alice', 'Angela', 'Arjun', 'Aishu']\n"
          ]
        }
      ]
    },
    {
      "cell_type": "code",
      "source": [
        "a_names = [n for n in names if n.startswith(\"A\")]\n",
        "print(a_names)"
      ],
      "metadata": {
        "colab": {
          "base_uri": "https://localhost:8080/"
        },
        "id": "Jgyx7apFUcJo",
        "outputId": "9f871cbf-c24e-413d-fad5-00335917373c"
      },
      "execution_count": null,
      "outputs": [
        {
          "output_type": "stream",
          "name": "stdout",
          "text": [
            "['Alice', 'Angela', 'Arjun', 'Aishu']\n"
          ]
        }
      ]
    },
    {
      "cell_type": "code",
      "source": [
        "a_names = [n for n in names if n.startswith(\"B\")]\n",
        "print(a_names)"
      ],
      "metadata": {
        "colab": {
          "base_uri": "https://localhost:8080/"
        },
        "id": "KgTXJR2ZUokX",
        "outputId": "356d4aed-6aad-497d-c5f1-b51c0cdd8591"
      },
      "execution_count": null,
      "outputs": [
        {
          "output_type": "stream",
          "name": "stdout",
          "text": [
            "['Bob']\n"
          ]
        }
      ]
    },
    {
      "cell_type": "code",
      "source": [
        "# PAndas\n",
        "import pandas as pd\n",
        "\n",
        "df = pd.DataFrame({\"name\": [\"Alice\", \"Bob\", \"Angela\", \"Mike\", \"Arjun\"]})\n",
        "a_names = df[df[\"name\"].str.startswith(\"B\")]\n",
        "print(a_names)"
      ],
      "metadata": {
        "colab": {
          "base_uri": "https://localhost:8080/"
        },
        "id": "RFOtjoRUXDNe",
        "outputId": "5b831419-a648-487f-87cd-d4dc415897e2"
      },
      "execution_count": null,
      "outputs": [
        {
          "output_type": "stream",
          "name": "stdout",
          "text": [
            "  name\n",
            "1  Bob\n"
          ]
        }
      ]
    },
    {
      "cell_type": "markdown",
      "source": [
        "Add 5 years to all employee ages\n"
      ],
      "metadata": {
        "id": "elU6W-OEXVBP"
      }
    },
    {
      "cell_type": "code",
      "source": [
        "\n",
        "import pandas as pd\n",
        "df = pd.DataFrame({\n",
        "    \"employee\": [\"A\", \"B\", \"C\"],\n",
        "    \"age\": [25, 30, 35]\n",
        "})"
      ],
      "metadata": {
        "id": "00htCN_CXP02"
      },
      "execution_count": null,
      "outputs": []
    },
    {
      "cell_type": "code",
      "source": [
        "# Loop\n",
        "\n",
        "new_ages = []\n",
        "for a in df[\"age\"]:\n",
        "  new_ages.append(a+5)\n",
        "print(new_ages)"
      ],
      "metadata": {
        "colab": {
          "base_uri": "https://localhost:8080/"
        },
        "id": "UQYzfAdacB9G",
        "outputId": "68e58fa4-356e-4c7a-f1b7-e292b74236ce"
      },
      "execution_count": null,
      "outputs": [
        {
          "output_type": "stream",
          "name": "stdout",
          "text": [
            "[30, 35, 40]\n"
          ]
        }
      ]
    },
    {
      "cell_type": "code",
      "source": [
        "new_ages = []\n",
        "for a in df[\"age\"]:\n",
        "  new_ages.append(a+5)\n",
        "print(new_ages)"
      ],
      "metadata": {
        "colab": {
          "base_uri": "https://localhost:8080/"
        },
        "id": "84nWt3WBcXYN",
        "outputId": "f9fce2ee-111b-4b70-a342-a3ffe56deb22"
      },
      "execution_count": null,
      "outputs": [
        {
          "output_type": "stream",
          "name": "stdout",
          "text": [
            "[30, 35, 40]\n"
          ]
        }
      ]
    },
    {
      "cell_type": "code",
      "source": [
        "# List Comprehension\n",
        "\n",
        "new_ages = [a+5 for a in df[\"age\"]]\n",
        "print(new_ages)"
      ],
      "metadata": {
        "colab": {
          "base_uri": "https://localhost:8080/"
        },
        "id": "95iAxBkVchpn",
        "outputId": "136a2db3-5356-44f6-e925-6d406d927dda"
      },
      "execution_count": null,
      "outputs": [
        {
          "output_type": "stream",
          "name": "stdout",
          "text": [
            "[30, 35, 40]\n"
          ]
        }
      ]
    },
    {
      "cell_type": "code",
      "source": [
        "# Pandas\n",
        "\n",
        "df[\"new_age\"] = df[\"age\"] + 5\n",
        "print(df)"
      ],
      "metadata": {
        "colab": {
          "base_uri": "https://localhost:8080/"
        },
        "id": "wLwHjmoBcpSc",
        "outputId": "c9f53532-e871-45c7-d207-7bca4ced61dd"
      },
      "execution_count": null,
      "outputs": [
        {
          "output_type": "stream",
          "name": "stdout",
          "text": [
            "  employee  age  new_age\n",
            "0        A   25       30\n",
            "1        B   30       35\n",
            "2        C   35       40\n"
          ]
        }
      ]
    },
    {
      "cell_type": "code",
      "source": [
        "df[\"new_age\"] = df[\"age\"] +5\n",
        "print(df)"
      ],
      "metadata": {
        "colab": {
          "base_uri": "https://localhost:8080/"
        },
        "id": "ekpaUo6hcx5p",
        "outputId": "ddc092e4-b703-4e27-fcea-ae368029f2a8"
      },
      "execution_count": null,
      "outputs": [
        {
          "output_type": "stream",
          "name": "stdout",
          "text": [
            "  employee  age  new_age\n",
            "0        A   25       30\n",
            "1        B   30       35\n",
            "2        C   35       40\n"
          ]
        }
      ]
    },
    {
      "cell_type": "markdown",
      "source": [
        "Select employees who earn above average salary"
      ],
      "metadata": {
        "id": "OrUzfhDEc5Dx"
      }
    },
    {
      "cell_type": "code",
      "source": [
        "import pandas as pd\n",
        "df = pd.DataFrame({\n",
        "    \"employee\": [\"A\", \"B\", \"C\", \"D\"],\n",
        "    \"salary\": [40000, 50000, 60000, 70000]\n",
        "})"
      ],
      "metadata": {
        "id": "fIGY2W5Oc3wa"
      },
      "execution_count": null,
      "outputs": []
    },
    {
      "cell_type": "code",
      "source": [
        "# Loop\n",
        "\n",
        "avg_salary = sum(df[\"salary\"]) / len(df[\"salary\"])\n",
        "above_avg = []\n",
        "for e, s in zip(df[\"employee\"], df[\"salary\"]):\n",
        "    if s > avg_salary:\n",
        "        above_avg.append((e, s))\n",
        "print(above_avg)"
      ],
      "metadata": {
        "colab": {
          "base_uri": "https://localhost:8080/"
        },
        "id": "SLRnXQGWc8cX",
        "outputId": "afd0cbf3-ee31-4e54-d4f7-11aff9c53e10"
      },
      "execution_count": null,
      "outputs": [
        {
          "output_type": "stream",
          "name": "stdout",
          "text": [
            "[('C', 60000), ('D', 70000)]\n"
          ]
        }
      ]
    },
    {
      "cell_type": "code",
      "source": [
        "squares_loop = []\n",
        "for num in range(1,21):\n",
        "  if num % 3 == 0:\n",
        "      squares_loop.append(num ** 2)\n",
        "\n",
        "print(squares_loop)"
      ],
      "metadata": {
        "colab": {
          "base_uri": "https://localhost:8080/"
        },
        "id": "COoB_LDwdQou",
        "outputId": "3ef85f39-291e-47c3-a46e-18187943021d"
      },
      "execution_count": null,
      "outputs": [
        {
          "output_type": "stream",
          "name": "stdout",
          "text": [
            "[9, 36, 81, 144, 225, 324]\n"
          ]
        }
      ]
    },
    {
      "cell_type": "code",
      "source": [
        "squares_loop = [num ** 2 for num in range(1,21) if num % 3 == 0 ]\n",
        "print(squares_loop)"
      ],
      "metadata": {
        "colab": {
          "base_uri": "https://localhost:8080/"
        },
        "id": "-CsKY5k4tgQs",
        "outputId": "acc6f149-ec7c-4be5-8140-10c1ae4bfd76"
      },
      "execution_count": null,
      "outputs": [
        {
          "output_type": "stream",
          "name": "stdout",
          "text": [
            "[9, 36, 81, 144, 225, 324]\n"
          ]
        }
      ]
    },
    {
      "cell_type": "code",
      "source": [
        "words = [\"data\", \"science\", \"AI\", \"machine\", \"learning\"]\n",
        "\n",
        "length_loop = []\n",
        "for word in words:\n",
        "  lengths_loop.append(len(word))\n",
        "\n",
        "print(f\"Loop result : {length_loop}\")\n"
      ],
      "metadata": {
        "colab": {
          "base_uri": "https://localhost:8080/",
          "height": 211
        },
        "id": "WZPmWQzDsJa4",
        "outputId": "b7af3c35-aab7-4d88-8cd5-f7ab060a6dfd"
      },
      "execution_count": null,
      "outputs": [
        {
          "output_type": "error",
          "ename": "NameError",
          "evalue": "name 'lengths_loop' is not defined",
          "traceback": [
            "\u001b[0;31m---------------------------------------------------------------------------\u001b[0m",
            "\u001b[0;31mNameError\u001b[0m                                 Traceback (most recent call last)",
            "\u001b[0;32m/tmp/ipython-input-2631481702.py\u001b[0m in \u001b[0;36m<cell line: 0>\u001b[0;34m()\u001b[0m\n\u001b[1;32m      3\u001b[0m \u001b[0mlength_loop\u001b[0m \u001b[0;34m=\u001b[0m \u001b[0;34m[\u001b[0m\u001b[0;34m]\u001b[0m\u001b[0;34m\u001b[0m\u001b[0;34m\u001b[0m\u001b[0m\n\u001b[1;32m      4\u001b[0m \u001b[0;32mfor\u001b[0m \u001b[0mword\u001b[0m \u001b[0;32min\u001b[0m \u001b[0mwords\u001b[0m\u001b[0;34m:\u001b[0m\u001b[0;34m\u001b[0m\u001b[0;34m\u001b[0m\u001b[0m\n\u001b[0;32m----> 5\u001b[0;31m   \u001b[0mlengths_loop\u001b[0m\u001b[0;34m.\u001b[0m\u001b[0mappend\u001b[0m\u001b[0;34m(\u001b[0m\u001b[0mlen\u001b[0m\u001b[0;34m(\u001b[0m\u001b[0mword\u001b[0m\u001b[0;34m)\u001b[0m\u001b[0;34m)\u001b[0m\u001b[0;34m\u001b[0m\u001b[0;34m\u001b[0m\u001b[0m\n\u001b[0m\u001b[1;32m      6\u001b[0m \u001b[0;34m\u001b[0m\u001b[0m\n\u001b[1;32m      7\u001b[0m \u001b[0mprint\u001b[0m\u001b[0;34m(\u001b[0m\u001b[0;34mf\"Loop result : {length_loop}\"\u001b[0m\u001b[0;34m)\u001b[0m\u001b[0;34m\u001b[0m\u001b[0;34m\u001b[0m\u001b[0m\n",
            "\u001b[0;31mNameError\u001b[0m: name 'lengths_loop' is not defined"
          ]
        }
      ]
    },
    {
      "cell_type": "code",
      "source": [],
      "metadata": {
        "id": "cBmS2dHqDndJ"
      },
      "execution_count": null,
      "outputs": []
    }
  ],
  "metadata": {
    "colab": {
      "provenance": [],
      "authorship_tag": "ABX9TyNego0CeKcTkG3HP/DBUY8P",
      "include_colab_link": true
    },
    "kernelspec": {
      "display_name": "Python 3",
      "name": "python3"
    },
    "language_info": {
      "name": "python"
    }
  },
  "nbformat": 4,
  "nbformat_minor": 0
}