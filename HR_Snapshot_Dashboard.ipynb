{
  "cells": [
    {
      "cell_type": "markdown",
      "metadata": {
        "id": "view-in-github",
        "colab_type": "text"
      },
      "source": [
        "<a href=\"https://colab.research.google.com/github/dakshayani2906/Data-Science-Portfolio/blob/main/HR_Snapshot_Dashboard.ipynb\" target=\"_parent\"><img src=\"https://colab.research.google.com/assets/colab-badge.svg\" alt=\"Open In Colab\"/></a>"
      ]
    },
    {
      "cell_type": "code",
      "source": [
        "import random\n",
        "\n",
        "def get_choices():\n",
        "  player_choice = input(\"Enter a choice (rock, paper, scissors: \")\n",
        "  computer_choice = \"paper\"\n",
        "  choices = {\"player\": player_choice, \"computer\" : computer_choice}\n",
        "\n",
        "  return choices\n",
        "\n",
        "\n",
        "choice = get_choices()\n",
        "print(choice)"
      ],
      "metadata": {
        "id": "7cs18G6MiJO_"
      },
      "execution_count": null,
      "outputs": []
    },
    {
      "cell_type": "code",
      "source": [],
      "metadata": {
        "id": "4woIS9v3i0Sy"
      },
      "execution_count": null,
      "outputs": []
    },
    {
      "cell_type": "code",
      "source": [
        "def check_win(player, computer):\n",
        "  return[player, computer]\n",
        "\n",
        "\n"
      ],
      "metadata": {
        "id": "G4SnZ2W8jHOa"
      },
      "execution_count": null,
      "outputs": []
    },
    {
      "cell_type": "code",
      "source": [
        "spam = 0\n",
        "while spam < 5:\n",
        "  print(\"Hello, world.\")\n",
        "  spam = spam +1\n"
      ],
      "metadata": {
        "colab": {
          "base_uri": "https://localhost:8080/"
        },
        "id": "TCry9MxNRT9R",
        "outputId": "3a1a131e-2c2d-435e-d5f3-d2f3be6574ba"
      },
      "execution_count": null,
      "outputs": [
        {
          "output_type": "stream",
          "name": "stdout",
          "text": [
            "Hello, world.\n",
            "Hello, world.\n",
            "Hello, world.\n",
            "Hello, world.\n",
            "Hello, world.\n"
          ]
        }
      ]
    },
    {
      "cell_type": "code",
      "source": [
        "while True:\n",
        "  print(\"Please type your name.\")\n",
        "  name = input()\n",
        "  if name == \"your name\":\n",
        "    break\n",
        "print(\"Thank you\")"
      ],
      "metadata": {
        "colab": {
          "base_uri": "https://localhost:8080/"
        },
        "id": "nJXOktdsS0Ir",
        "outputId": "d6f146ae-20ca-4b7f-e510-50feedd52dff"
      },
      "execution_count": null,
      "outputs": [
        {
          "output_type": "stream",
          "name": "stdout",
          "text": [
            "Please type your name.\n",
            "Aishu\n",
            "Please type your name.\n",
            "your name\n",
            "Thank you\n"
          ]
        }
      ]
    },
    {
      "cell_type": "code",
      "source": [
        "while True:\n",
        "  print(\"Who are you?\")\n",
        "  name = input()\n",
        "  if name != \"John\" :\n",
        "    continue\n",
        "  print(\"Hello, John. WHat is the password? (It is a fish.)\")\n",
        "  password = input()\n",
        "  if password == \"swordfish\":\n",
        "    break\n",
        "\n",
        "print(\"Access granted.\")"
      ],
      "metadata": {
        "colab": {
          "base_uri": "https://localhost:8080/"
        },
        "id": "PrpDo48rTA2a",
        "outputId": "38830261-37d4-475c-ae8f-f975cd2f5a6e"
      },
      "execution_count": null,
      "outputs": [
        {
          "output_type": "stream",
          "name": "stdout",
          "text": [
            "WHo are you?\n",
            "Aishu\n",
            "WHo are you?\n",
            "John\n",
            "Hello, Hohn. WHat is the password? (It is a fish.)\n",
            "fish\n",
            "WHo are you?\n",
            "John\n",
            "Hello, Hohn. WHat is the password? (It is a fish.)\n",
            "fish\n",
            "WHo are you?\n",
            "john\n",
            "WHo are you?\n",
            "John\n",
            "Hello, Hohn. WHat is the password? (It is a fish.)\n",
            "swordfish\n",
            "Access grantes.\n"
          ]
        }
      ]
    },
    {
      "cell_type": "code",
      "source": [
        "print(\"My name is\")\n",
        "for i in range(5):\n",
        "  print(\"John Five Times ({})\" .format(str(i)))\n"
      ],
      "metadata": {
        "colab": {
          "base_uri": "https://localhost:8080/"
        },
        "id": "PMmzMoPVUu92",
        "outputId": "da138b5f-dc8e-4cda-cce8-32b684a654c7"
      },
      "execution_count": null,
      "outputs": [
        {
          "output_type": "stream",
          "name": "stdout",
          "text": [
            "My name is\n",
            "John Five Times (0)\n",
            "John Five Times (1)\n",
            "John Five Times (2)\n",
            "John Five Times (3)\n",
            "John Five Times (4)\n"
          ]
        }
      ]
    },
    {
      "cell_type": "code",
      "source": [
        "for i in range(0,10,2):\n",
        "  print(i)"
      ],
      "metadata": {
        "colab": {
          "base_uri": "https://localhost:8080/"
        },
        "id": "uvSnCdRkVYNY",
        "outputId": "aa9fe369-b404-49c5-edbe-7254bcb7d725"
      },
      "execution_count": null,
      "outputs": [
        {
          "output_type": "stream",
          "name": "stdout",
          "text": [
            "0\n",
            "2\n",
            "4\n",
            "6\n",
            "8\n"
          ]
        }
      ]
    },
    {
      "cell_type": "code",
      "source": [
        "for i in range(5,-1,-1):\n",
        "  print(i)"
      ],
      "metadata": {
        "colab": {
          "base_uri": "https://localhost:8080/"
        },
        "id": "czFzbuMyViDr",
        "outputId": "ea432a04-5fd1-4aa5-acaf-c9367999ef48"
      },
      "execution_count": null,
      "outputs": [
        {
          "output_type": "stream",
          "name": "stdout",
          "text": [
            "5\n",
            "4\n",
            "3\n",
            "2\n",
            "1\n",
            "0\n"
          ]
        }
      ]
    },
    {
      "cell_type": "code",
      "source": [
        "for i in [1,2,3,4,5]:\n",
        "  if i == 3:\n",
        "    break\n",
        "else:\n",
        "  print(\"Only executed when no item of the list is equal to 3\")\n",
        "\n",
        "print(i)"
      ],
      "metadata": {
        "colab": {
          "base_uri": "https://localhost:8080/"
        },
        "id": "9ZBOYaaqVtv_",
        "outputId": "b5969b76-c99d-4e23-9ae6-17eae4b5907d"
      },
      "execution_count": null,
      "outputs": [
        {
          "output_type": "stream",
          "name": "stdout",
          "text": [
            "3\n"
          ]
        }
      ]
    },
    {
      "cell_type": "code",
      "source": [
        "import random\n",
        "for i in range(5):\n",
        "  print(random.randint(1,10))"
      ],
      "metadata": {
        "colab": {
          "base_uri": "https://localhost:8080/"
        },
        "id": "lX7CJFxqV6XW",
        "outputId": "efdb87f2-dbf0-4cef-a406-ea6e402a2d75"
      },
      "execution_count": null,
      "outputs": [
        {
          "output_type": "stream",
          "name": "stdout",
          "text": [
            "6\n",
            "3\n",
            "3\n",
            "6\n",
            "6\n"
          ]
        }
      ]
    },
    {
      "cell_type": "code",
      "source": [
        "import sys\n",
        "\n",
        "while True:\n",
        "  print(\"Type exit to exit.\")\n",
        "  response = input()\n",
        "  if response == 'exit':\n",
        "    sys.exit()\n",
        "  print(\"You typed {}.'.format(response)\")"
      ],
      "metadata": {
        "colab": {
          "base_uri": "https://localhost:8080/",
          "height": 176
        },
        "id": "A1wB3H-5WKkN",
        "outputId": "dccd0bb1-be3b-4292-c3e3-5b26566c083a"
      },
      "execution_count": null,
      "outputs": [
        {
          "name": "stdout",
          "output_type": "stream",
          "text": [
            "Type exit to exit.\n",
            "hi\n",
            "You typed {}.'.format(response)\n",
            "Type exit to exit.\n",
            "exit\n"
          ]
        },
        {
          "output_type": "error",
          "ename": "SystemExit",
          "evalue": "",
          "traceback": [
            "An exception has occurred, use %tb to see the full traceback.\n",
            "\u001b[0;31mSystemExit\u001b[0m\n"
          ]
        }
      ]
    },
    {
      "cell_type": "code",
      "source": [
        "def hello(name):\n",
        "  print(\"hello {}\" .format(name))\n",
        "\n",
        "hello(\"Aishu\")\n",
        "hello(\"Raja\")"
      ],
      "metadata": {
        "colab": {
          "base_uri": "https://localhost:8080/"
        },
        "id": "uARHAooZWeaY",
        "outputId": "8fe7910c-69f8-455d-a828-0ba3322b372f"
      },
      "execution_count": null,
      "outputs": [
        {
          "output_type": "stream",
          "name": "stdout",
          "text": [
            "hello Aishu\n",
            "hello Raja\n"
          ]
        }
      ]
    },
    {
      "cell_type": "code",
      "source": [
        "import random\n",
        "def getAnswer(answerNumber):\n",
        "  if answerNumber == 1:\n",
        "    return \"It is certain\"\n",
        "  elif answerNumber == 2:\n",
        "    return \"It is deidedly so\"\n",
        "  elif answerNumber == 3:\n",
        "    return \"Yes\"\n",
        "  elif answerNumber == 4:\n",
        "    return \"Very doubtful\"\n",
        "\n",
        "r = random.randint(1,4)\n",
        "fortune = getAnswer(r)\n",
        "print(fortune)"
      ],
      "metadata": {
        "colab": {
          "base_uri": "https://localhost:8080/"
        },
        "id": "CR2f-SoRW6o_",
        "outputId": "f678328e-989b-4deb-d484-2472a10df97f"
      },
      "execution_count": null,
      "outputs": [
        {
          "output_type": "stream",
          "name": "stdout",
          "text": [
            "Very doubtful\n"
          ]
        }
      ]
    },
    {
      "cell_type": "code",
      "source": [
        "def spam():\n",
        "  global eggs\n",
        "  eggs = \"spam\"\n",
        "\n",
        "eggs = \"global\"\n",
        "spam()\n",
        "print(eggs)"
      ],
      "metadata": {
        "colab": {
          "base_uri": "https://localhost:8080/"
        },
        "id": "8vdxCBN7Xhei",
        "outputId": "89eb83ce-ccec-42f2-b802-e177eb7dd190"
      },
      "execution_count": null,
      "outputs": [
        {
          "output_type": "stream",
          "name": "stdout",
          "text": [
            "spam\n"
          ]
        }
      ]
    },
    {
      "cell_type": "code",
      "source": [
        "def spam(divideBy):\n",
        "  try:\n",
        "    return 42 / divideBy\n",
        "  except ZeroDivisionError as e:\n",
        "    print(\"Error: Invalid argument: {}\".format(e))\n",
        "\n",
        "print(spam(2))\n",
        "print(spam(12))\n",
        "print(spam(0))\n",
        "print(spam(1))"
      ],
      "metadata": {
        "colab": {
          "base_uri": "https://localhost:8080/"
        },
        "id": "m8azovaKYBcO",
        "outputId": "3e9f7405-69d4-4329-8c18-ddb57c040790"
      },
      "execution_count": null,
      "outputs": [
        {
          "output_type": "stream",
          "name": "stdout",
          "text": [
            "21.0\n",
            "3.5\n",
            "Error: Invalid argument: division by zero\n",
            "None\n",
            "42.0\n"
          ]
        }
      ]
    },
    {
      "cell_type": "code",
      "source": [
        "def spam(divideBy):\n",
        "  try:\n",
        "    return 42 / divideBy\n",
        "  except ZeroDivisionError as e:\n",
        "    print(\"Error: Invalid argument: {}\".format(e))\n",
        "  finally:\n",
        "    print(\"-- division finished --\")\n",
        "\n",
        "print(spam(2))\n",
        "print(spam(12))\n",
        "print(spam(0))\n",
        "print(spam(1))"
      ],
      "metadata": {
        "colab": {
          "base_uri": "https://localhost:8080/"
        },
        "id": "Qxaw7J2lYmTu",
        "outputId": "e43c3f38-d5d7-4881-e8e6-bfefe6d5eb39"
      },
      "execution_count": null,
      "outputs": [
        {
          "output_type": "stream",
          "name": "stdout",
          "text": [
            "-- division finished --\n",
            "21.0\n",
            "-- division finished --\n",
            "3.5\n",
            "Error: Invalid argument: division by zero\n",
            "-- division finished --\n",
            "None\n",
            "-- division finished --\n",
            "42.0\n"
          ]
        }
      ]
    },
    {
      "cell_type": "code",
      "source": [
        "print(''' Dear Aishu,\n",
        "\n",
        "How are you doing?\n",
        "\n",
        "We are going to Goa in next Holiday.\n",
        "\n",
        "With Love,\n",
        "Amma ''')"
      ],
      "metadata": {
        "colab": {
          "base_uri": "https://localhost:8080/"
        },
        "id": "Kbe8rwn0ZE5K",
        "outputId": "8d336707-3e4b-45ec-ffd5-fd78ca0e3a85"
      },
      "execution_count": null,
      "outputs": [
        {
          "output_type": "stream",
          "name": "stdout",
          "text": [
            " Dear Aishu,\n",
            "  \n",
            "How are you doing?\n",
            "  \n",
            "We are going to Goa in next Holiday.\n",
            "  \n",
            "With Love,\n",
            "Amma \n"
          ]
        }
      ]
    },
    {
      "cell_type": "code",
      "source": [
        "\"Hello\" in \"Hello World\""
      ],
      "metadata": {
        "colab": {
          "base_uri": "https://localhost:8080/"
        },
        "id": "6siJp3Vwa-dA",
        "outputId": "8daa9fe4-e902-4501-dfeb-54427c3a0405"
      },
      "execution_count": null,
      "outputs": [
        {
          "output_type": "execute_result",
          "data": {
            "text/plain": [
              "True"
            ]
          },
          "metadata": {},
          "execution_count": 33
        }
      ]
    },
    {
      "cell_type": "code",
      "source": [
        "def box_print(symbol, width, height):\n",
        "  if len(symbol) != 1:\n",
        "    raise Exception(\"Symbol must be a single character string.\")\n",
        "  if width <= 2:\n",
        "    raise Exception(\"Width must be greater than 2.\")\n",
        "  if height <= 2:\n",
        "    raise Exception(\"Height must be greater than 2.\")\n",
        "  print(symbol * width)\n",
        "  for i in range(height - 2):\n",
        "    print(symbol + (' ' * (width - 2)) + symbol)\n",
        "  print(symbol * width)\n",
        "\n",
        "for sym, w, h in (('*', 5,5), (\"O\", 20,5), (\"x\", 1,2), (\"Z\",9,9)):\n",
        "  try:\n",
        "    box_print(sym,w,h)\n",
        "  except Exception as err:\n",
        "    print(\"An exception happened: \" + str(err))"
      ],
      "metadata": {
        "colab": {
          "base_uri": "https://localhost:8080/"
        },
        "id": "UQ00_CYQbjrt",
        "outputId": "7918a5ab-2d54-4204-e82f-fcceffa643f8"
      },
      "execution_count": null,
      "outputs": [
        {
          "output_type": "stream",
          "name": "stdout",
          "text": [
            "*****\n",
            "*   *\n",
            "*   *\n",
            "*   *\n",
            "*****\n",
            "OOOOOOOOOOOOOOOOOOOO\n",
            "O                  O\n",
            "O                  O\n",
            "O                  O\n",
            "OOOOOOOOOOOOOOOOOOOO\n",
            "An exception happened: Width must be greater than 2.\n",
            "ZZZZZZZZZ\n",
            "Z       Z\n",
            "Z       Z\n",
            "Z       Z\n",
            "Z       Z\n",
            "Z       Z\n",
            "Z       Z\n",
            "Z       Z\n",
            "ZZZZZZZZZ\n"
          ]
        }
      ]
    },
    {
      "cell_type": "code",
      "source": [
        "def add(a,b):\n",
        "  return a+b\n",
        "\n",
        "add(20,30)"
      ],
      "metadata": {
        "colab": {
          "base_uri": "https://localhost:8080/"
        },
        "id": "0nBnbg8_dM0h",
        "outputId": "e1f8327d-975b-4203-b394-3d96b532eb28"
      },
      "execution_count": null,
      "outputs": [
        {
          "output_type": "execute_result",
          "data": {
            "text/plain": [
              "50"
            ]
          },
          "metadata": {},
          "execution_count": 40
        }
      ]
    },
    {
      "cell_type": "code",
      "source": [
        "'' if ____name____ == \" ___main___\":\n",
        "  add(3,5)\n",
        "'''\n",
        "\n",
        "import calculate\n",
        "calculate.add(3,5)"
      ],
      "metadata": {
        "colab": {
          "base_uri": "https://localhost:8080/",
          "height": 106
        },
        "id": "6k6ULZtEeUuw",
        "outputId": "7d03490c-238c-45d6-d231-3d97b7e48f31"
      },
      "execution_count": null,
      "outputs": [
        {
          "output_type": "error",
          "ename": "SyntaxError",
          "evalue": "unterminated triple-quoted string literal (detected at line 6) (ipython-input-1126402812.py, line 3)",
          "traceback": [
            "\u001b[0;36m  File \u001b[0;32m\"/tmp/ipython-input-1126402812.py\"\u001b[0;36m, line \u001b[0;32m3\u001b[0m\n\u001b[0;31m    '''\u001b[0m\n\u001b[0m    ^\u001b[0m\n\u001b[0;31mSyntaxError\u001b[0m\u001b[0;31m:\u001b[0m unterminated triple-quoted string literal (detected at line 6)\n"
          ]
        }
      ]
    },
    {
      "cell_type": "code",
      "source": [
        "class Employee:\n",
        "  def __init__(self, first, last, pay):\n",
        "    self.first = first\n",
        "    selff.last = %logstateself,pay = pay\n",
        "    self.email = first +\".\" + laast + \"@company.com\""
      ],
      "metadata": {
        "id": "FCnchHWme0oZ"
      },
      "execution_count": null,
      "outputs": []
    },
    {
      "cell_type": "code",
      "source": [
        "emp_1 = Employee('daisy', 'doll',5000)\n",
        "emp_2 = Employee('daisy', 'doll',5000)"
      ],
      "metadata": {
        "id": "KmUJx0y1fT83"
      },
      "execution_count": null,
      "outputs": []
    },
    {
      "cell_type": "code",
      "source": [
        "print(emp_1)\n",
        "print(emp_2)"
      ],
      "metadata": {
        "colab": {
          "base_uri": "https://localhost:8080/"
        },
        "id": "ajSAuxaNfZJZ",
        "outputId": "4d6e0ffc-f800-4613-bd04-aa5e423bdd29"
      },
      "execution_count": null,
      "outputs": [
        {
          "output_type": "stream",
          "name": "stdout",
          "text": [
            "<__main__.Employee object at 0x7a6fe9363470>\n",
            "<__main__.Employee object at 0x7a6fe93639e0>\n"
          ]
        }
      ]
    },
    {
      "cell_type": "code",
      "source": [
        "emp_1.first = \"Daisy\"\n",
        "emp_1.last = \"Doll\"\n",
        "emp_1.email = \"daisy.doll@company.com\"\n",
        "emp_1.pay = 50000\n",
        "\n",
        "print(emp_1.email)"
      ],
      "metadata": {
        "colab": {
          "base_uri": "https://localhost:8080/"
        },
        "id": "UJvZ63QYfb1O",
        "outputId": "7440b72c-8c4d-42d2-bb12-b732eb906224"
      },
      "execution_count": null,
      "outputs": [
        {
          "output_type": "stream",
          "name": "stdout",
          "text": [
            "daisy.doll@company.com\n"
          ]
        }
      ]
    },
    {
      "cell_type": "code",
      "source": [],
      "metadata": {
        "id": "dtYiZtrAfvkP"
      },
      "execution_count": null,
      "outputs": []
    }
  ],
  "metadata": {
    "colab": {
      "provenance": [],
      "authorship_tag": "ABX9TyMpmoZxfpob4OrrmwC6dCok",
      "include_colab_link": true
    },
    "kernelspec": {
      "display_name": "Python 3",
      "name": "python3"
    },
    "language_info": {
      "name": "python"
    }
  },
  "nbformat": 4,
  "nbformat_minor": 0
}