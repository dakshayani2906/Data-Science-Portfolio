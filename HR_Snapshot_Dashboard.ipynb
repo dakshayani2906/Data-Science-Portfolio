{
  "cells": [
    {
      "cell_type": "markdown",
      "metadata": {
        "id": "view-in-github",
        "colab_type": "text"
      },
      "source": [
        "<a href=\"https://colab.research.google.com/github/dakshayani2906/Data-Science-Portfolio/blob/main/HR_Snapshot_Dashboard.ipynb\" target=\"_parent\"><img src=\"https://colab.research.google.com/assets/colab-badge.svg\" alt=\"Open In Colab\"/></a>"
      ]
    },
    {
      "cell_type": "markdown",
      "source": [
        "# Employee Dashboard KPIs (Easy)"
      ],
      "metadata": {
        "id": "RjJ6hjFSY12R"
      }
    },
    {
      "cell_type": "markdown",
      "source": [
        "\n",
        "Problem Statement:\n",
        "\n",
        "You are given employee records.\n",
        "\n",
        "Find:\n",
        "\n",
        "1. Current active headcount\n",
        "\n",
        "2. Attrition count in the last 30 days\n",
        "\n",
        "3. Average employee tenure in years\n",
        "\n",
        "4. Headcount by department"
      ],
      "metadata": {
        "id": "tCTlrdofY8KB"
      }
    },
    {
      "cell_type": "code",
      "source": [
        "import pandas as pd\n",
        "from datetime import datetime, timedelta"
      ],
      "metadata": {
        "id": "nZK7rbWQY0O3"
      },
      "execution_count": 16,
      "outputs": []
    },
    {
      "cell_type": "code",
      "source": [
        "# Sample data\n",
        "\n",
        "data = {\n",
        "    'employee_id':[1,2,3,4,5],\n",
        "    'hire_date':[\"2019-01-10\",\"2020-03-15\",\"2021-06-01\",\"2022-01-05\",\"2023-07-12\"],\n",
        "    'termination_date':[None,\"2023-08-20\",None,None,\"2023-09-01\"],\n",
        "    'department':[\"HR\",\"IT\",\"Finance\",\"IT\",\"HR\"]\n",
        "}"
      ],
      "metadata": {
        "id": "nIQWtP1IZNqZ"
      },
      "execution_count": 20,
      "outputs": []
    },
    {
      "cell_type": "code",
      "source": [
        "df = pd.DataFrame(data)\n",
        "df['hire_date'] = pd.to_datetime(df['hire_date'])\n",
        "df['termination_date'] = pd.to_datetime(df[\"termination_date\"])"
      ],
      "metadata": {
        "id": "WwZYhoImZdeL"
      },
      "execution_count": 21,
      "outputs": []
    },
    {
      "cell_type": "code",
      "source": [
        "today = datetime(2023,9,30)\n",
        "\n",
        "#Active headcount\n",
        "df['is_active'] = df['termination_date'].isna()\n",
        "print(\"Active headcount :\", df['is_active'].sum())"
      ],
      "metadata": {
        "colab": {
          "base_uri": "https://localhost:8080/"
        },
        "id": "l0obIPj5ZtdF",
        "outputId": "daad24df-0196-4c54-9d47-ffaf3bb17beb"
      },
      "execution_count": 23,
      "outputs": [
        {
          "output_type": "stream",
          "name": "stdout",
          "text": [
            "Active headcount : 3\n"
          ]
        }
      ]
    },
    {
      "cell_type": "code",
      "source": [],
      "metadata": {
        "id": "gZjDRuybaBci"
      },
      "execution_count": null,
      "outputs": []
    }
  ],
  "metadata": {
    "colab": {
      "provenance": [],
      "authorship_tag": "ABX9TyPN6MQsULGNvXmK0P6upUb2",
      "include_colab_link": true
    },
    "kernelspec": {
      "display_name": "Python 3",
      "name": "python3"
    },
    "language_info": {
      "name": "python"
    }
  },
  "nbformat": 4,
  "nbformat_minor": 0
}