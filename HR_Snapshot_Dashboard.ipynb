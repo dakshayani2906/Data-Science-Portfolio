{
  "cells": [
    {
      "cell_type": "markdown",
      "metadata": {
        "id": "view-in-github",
        "colab_type": "text"
      },
      "source": [
        "<a href=\"https://colab.research.google.com/github/dakshayani2906/Data-Science-Portfolio/blob/main/HR_Snapshot_Dashboard.ipynb\" target=\"_parent\"><img src=\"https://colab.research.google.com/assets/colab-badge.svg\" alt=\"Open In Colab\"/></a>"
      ]
    },
    {
      "cell_type": "code",
      "source": [
        "import random\n",
        "\n",
        "def get_choices():\n",
        "  player_choice = input(\"Enter a choice (rock, paper, scissors: \")\n",
        "  computer_choice = \"paper\"\n",
        "  choices = {\"player\": player_choice, \"computer\" : computer_choice}\n",
        "\n",
        "  return choices\n",
        "\n",
        "\n",
        "choice = get_choices()\n",
        "print(choice)"
      ],
      "metadata": {
        "id": "7cs18G6MiJO_"
      },
      "execution_count": null,
      "outputs": []
    },
    {
      "cell_type": "code",
      "source": [],
      "metadata": {
        "id": "4woIS9v3i0Sy"
      },
      "execution_count": null,
      "outputs": []
    },
    {
      "cell_type": "code",
      "source": [
        "def check_win(player, computer):\n",
        "  return[player, computer]\n",
        "\n",
        "\n"
      ],
      "metadata": {
        "id": "G4SnZ2W8jHOa"
      },
      "execution_count": 1,
      "outputs": []
    },
    {
      "cell_type": "code",
      "source": [
        "spam = 0\n",
        "while spam < 5:\n",
        "  print(\"Hello, world.\")\n",
        "  spam = spam +1\n",
        ""
      ],
      "metadata": {
        "colab": {
          "base_uri": "https://localhost:8080/"
        },
        "id": "TCry9MxNRT9R",
        "outputId": "3a1a131e-2c2d-435e-d5f3-d2f3be6574ba"
      },
      "execution_count": 2,
      "outputs": [
        {
          "output_type": "stream",
          "name": "stdout",
          "text": [
            "Hello, world.\n",
            "Hello, world.\n",
            "Hello, world.\n",
            "Hello, world.\n",
            "Hello, world.\n"
          ]
        }
      ]
    },
    {
      "cell_type": "code",
      "source": [
        "while True:\n",
        "  print(\"Please type your name.\")\n",
        "  name = input()\n",
        "  if name == \"your name\":\n",
        "    break\n",
        "print(\"Thank you\")"
      ],
      "metadata": {
        "colab": {
          "base_uri": "https://localhost:8080/"
        },
        "id": "nJXOktdsS0Ir",
        "outputId": "d6f146ae-20ca-4b7f-e510-50feedd52dff"
      },
      "execution_count": 3,
      "outputs": [
        {
          "output_type": "stream",
          "name": "stdout",
          "text": [
            "Please type your name.\n",
            "Aishu\n",
            "Please type your name.\n",
            "your name\n",
            "Thank you\n"
          ]
        }
      ]
    },
    {
      "cell_type": "code",
      "source": [],
      "metadata": {
        "id": "PrpDo48rTA2a"
      },
      "execution_count": null,
      "outputs": []
    }
  ],
  "metadata": {
    "colab": {
      "provenance": [],
      "authorship_tag": "ABX9TyOaVhNBv7m8OVRqBBnolNhY",
      "include_colab_link": true
    },
    "kernelspec": {
      "display_name": "Python 3",
      "name": "python3"
    },
    "language_info": {
      "name": "python"
    }
  },
  "nbformat": 4,
  "nbformat_minor": 0
}