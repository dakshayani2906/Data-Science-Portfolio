{
  "nbformat": 4,
  "nbformat_minor": 0,
  "metadata": {
    "colab": {
      "provenance": [],
      "authorship_tag": "ABX9TyM/8lTmKZEOAbsf92bU9nSi",
      "include_colab_link": true
    },
    "kernelspec": {
      "name": "python3",
      "display_name": "Python 3"
    },
    "language_info": {
      "name": "python"
    }
  },
  "cells": [
    {
      "cell_type": "markdown",
      "metadata": {
        "id": "view-in-github",
        "colab_type": "text"
      },
      "source": [
        "<a href=\"https://colab.research.google.com/github/dakshayani2906/Data-Science-Portfolio/blob/main/Untitled10.ipynb\" target=\"_parent\"><img src=\"https://colab.research.google.com/assets/colab-badge.svg\" alt=\"Open In Colab\"/></a>"
      ]
    },
    {
      "cell_type": "code",
      "source": [
        "import numpy as np\n",
        "\n",
        "# Arrays\n",
        "a = np.array([1,2,3])\n",
        "b = np.array([[1,2,3],[4,5,6]])"
      ],
      "metadata": {
        "id": "CE_aXXmaKw01"
      },
      "execution_count": 6,
      "outputs": []
    },
    {
      "cell_type": "code",
      "source": [
        "# Shape & Info\n",
        "a.shape\n",
        "b.ndim\n",
        "b.size"
      ],
      "metadata": {
        "colab": {
          "base_uri": "https://localhost:8080/"
        },
        "id": "UqCDueN2KzHV",
        "outputId": "5fea24cd-a3c9-4626-e1bf-ba48cf1d6a14"
      },
      "execution_count": 7,
      "outputs": [
        {
          "output_type": "execute_result",
          "data": {
            "text/plain": [
              "6"
            ]
          },
          "metadata": {},
          "execution_count": 7
        }
      ]
    },
    {
      "cell_type": "code",
      "source": [
        "# Creating Arrays\n",
        "np.zeros((2,3))\n",
        "np.ones((2,3))\n",
        "np.arange(0,10,2)   # [0 2 4 6 8]\n",
        "np.linspace(0,1,5)  # 5 points between 0 & 1\n",
        "np.eye(3)           # Identity matrix"
      ],
      "metadata": {
        "colab": {
          "base_uri": "https://localhost:8080/"
        },
        "id": "dKUuDrGcK2e4",
        "outputId": "18f6c2bd-bfa9-4285-c21c-526f5de6e64b"
      },
      "execution_count": 8,
      "outputs": [
        {
          "output_type": "execute_result",
          "data": {
            "text/plain": [
              "array([[1., 0., 0.],\n",
              "       [0., 1., 0.],\n",
              "       [0., 0., 1.]])"
            ]
          },
          "metadata": {},
          "execution_count": 8
        }
      ]
    },
    {
      "cell_type": "code",
      "source": [
        "# Random\n",
        "np.random.rand(2,3)\n",
        "np.random.randn(3)   # Normal dist.\n",
        "np.random.randint(0,10,5)"
      ],
      "metadata": {
        "colab": {
          "base_uri": "https://localhost:8080/"
        },
        "id": "_lF9j0wiK4bO",
        "outputId": "9eef6dfe-fcd7-473b-9496-0f2098ec9852"
      },
      "execution_count": 9,
      "outputs": [
        {
          "output_type": "execute_result",
          "data": {
            "text/plain": [
              "array([2, 2, 8, 6, 1])"
            ]
          },
          "metadata": {},
          "execution_count": 9
        }
      ]
    },
    {
      "cell_type": "code",
      "source": [
        "# Math\n",
        "np.add(a,1)   # a+1\n",
        "np.multiply(a,2)\n",
        "np.mean(a)\n",
        "np.median(a)\n",
        "np.std(a)\n",
        "np.var(a)"
      ],
      "metadata": {
        "colab": {
          "base_uri": "https://localhost:8080/"
        },
        "id": "63lI3_b8K7n9",
        "outputId": "be4906fe-507d-45ee-fdac-df0d67d92bc9"
      },
      "execution_count": 10,
      "outputs": [
        {
          "output_type": "execute_result",
          "data": {
            "text/plain": [
              "np.float64(0.6666666666666666)"
            ]
          },
          "metadata": {},
          "execution_count": 10
        }
      ]
    },
    {
      "cell_type": "code",
      "source": [
        "\n",
        "# Indexing / Slicing\n",
        "a[0]          # first element\n",
        "b[0,1]        # row 0, col 1\n",
        "b[:,1]        # 2nd column\n",
        "b[0:2, :]     # first 2 rows"
      ],
      "metadata": {
        "colab": {
          "base_uri": "https://localhost:8080/"
        },
        "id": "DgibFxklLAQ9",
        "outputId": "6ea6d629-790e-41b3-9a24-342266ab5e3d"
      },
      "execution_count": 11,
      "outputs": [
        {
          "output_type": "execute_result",
          "data": {
            "text/plain": [
              "array([[1, 2, 3],\n",
              "       [4, 5, 6]])"
            ]
          },
          "metadata": {},
          "execution_count": 11
        }
      ]
    },
    {
      "cell_type": "code",
      "source": [
        "# Reshape\n",
        "c = np.arange(6).reshape(2,3)"
      ],
      "metadata": {
        "id": "qYkg3X4tLDdf"
      },
      "execution_count": 12,
      "outputs": []
    },
    {
      "cell_type": "code",
      "execution_count": 13,
      "metadata": {
        "id": "ccuUcH4q0eBh",
        "colab": {
          "base_uri": "https://localhost:8080/"
        },
        "outputId": "326eacb8-2cbb-4f1e-b5c1-c63ca2f57a59"
      },
      "outputs": [
        {
          "output_type": "execute_result",
          "data": {
            "text/plain": [
              "array([[1, 2, 3],\n",
              "       [1, 2, 3]])"
            ]
          },
          "metadata": {},
          "execution_count": 13
        }
      ],
      "source": [
        "# Stacking\n",
        "np.hstack([a,a])\n",
        "np.vstack([a,a])\n"
      ]
    }
  ]
}