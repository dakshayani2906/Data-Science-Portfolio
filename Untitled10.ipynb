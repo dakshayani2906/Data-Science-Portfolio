{
  "nbformat": 4,
  "nbformat_minor": 0,
  "metadata": {
    "colab": {
      "provenance": [],
      "authorship_tag": "ABX9TyP//MVi70uuP6N6UZEcIQwV",
      "include_colab_link": true
    },
    "kernelspec": {
      "name": "python3",
      "display_name": "Python 3"
    },
    "language_info": {
      "name": "python"
    }
  },
  "cells": [
    {
      "cell_type": "markdown",
      "metadata": {
        "id": "view-in-github",
        "colab_type": "text"
      },
      "source": [
        "<a href=\"https://colab.research.google.com/github/dakshayani2906/Data-Science-Portfolio/blob/main/Untitled10.ipynb\" target=\"_parent\"><img src=\"https://colab.research.google.com/assets/colab-badge.svg\" alt=\"Open In Colab\"/></a>"
      ]
    },
    {
      "cell_type": "markdown",
      "source": [
        "🔹 Problem 1: Employee Attrition (HR Data)\n",
        "\n",
        "Q: Who is likely to leave the company?\n",
        "\n",
        "Code (Pandas + NumPy):"
      ],
      "metadata": {
        "id": "hrEu-WU3Mu9w"
      }
    },
    {
      "cell_type": "code",
      "source": [
        "import pandas as pd\n",
        "import numpy as np\n",
        "\n",
        "# Sample HR data\n",
        "df = pd.DataFrame({\n",
        "    \"Employee\":[\"A\",\"B\",\"C\",\"D\"],\n",
        "    \"Age\":[25,29,45,36],\n",
        "    \"Salary\":[40000,50000,120000,80000],\n",
        "    \"Attrition\":[0,1,0,1]  # 0=Stayed, 1=Left\n",
        "})\n",
        "\n",
        "# Insights\n",
        "print(df.groupby(\"Attrition\")[\"Salary\"].mean())   # Avg Salary for attrition groups\n",
        "\n",
        "# Feature Engineering\n",
        "df[\"HighSalary\"] = np.where(df[\"Salary\"] > 70000, 1, 0)\n",
        "print(df)"
      ],
      "metadata": {
        "colab": {
          "base_uri": "https://localhost:8080/"
        },
        "id": "tyzA7UDMMrX1",
        "outputId": "ee559062-68a5-4b76-af41-38064e18cb66"
      },
      "execution_count": 14,
      "outputs": [
        {
          "output_type": "stream",
          "name": "stdout",
          "text": [
            "Attrition\n",
            "0    80000.0\n",
            "1    65000.0\n",
            "Name: Salary, dtype: float64\n",
            "  Employee  Age  Salary  Attrition  HighSalary\n",
            "0        A   25   40000          0           0\n",
            "1        B   29   50000          1           0\n",
            "2        C   45  120000          0           1\n",
            "3        D   36   80000          1           1\n"
          ]
        }
      ]
    },
    {
      "cell_type": "code",
      "source": [
        "# Problem 2: Product Recommendations (Amazon Style)\n",
        "\n",
        "# Which product has the highest average rating?\n",
        "\n",
        "df = pd.DataFrame({\n",
        "    \"Product\":[\"P1\",\"P2\",\"P1\",\"P3\",\"P2\",\"P3\"],\n",
        "    \"Rating\":[5,4,3,5,2,4]\n",
        "})\n",
        "\n",
        "# Group & aggregate\n",
        "result = df.groupby(\"Product\")[\"Rating\"].mean().sort_values(ascending=False)\n",
        "print(result)\n",
        "\n",
        "\n",
        "# Learning: Pandas groupby = must-have skill for analyzing customer/product data."
      ],
      "metadata": {
        "colab": {
          "base_uri": "https://localhost:8080/"
        },
        "id": "6oz2VScNNGEF",
        "outputId": "142bcb40-4b78-4701-91b2-b8f41f47a1cc"
      },
      "execution_count": 15,
      "outputs": [
        {
          "output_type": "stream",
          "name": "stdout",
          "text": [
            "Product\n",
            "P3    4.5\n",
            "P1    4.0\n",
            "P2    3.0\n",
            "Name: Rating, dtype: float64\n"
          ]
        }
      ]
    },
    {
      "cell_type": "code",
      "source": [
        "# Problem 3: ML Preprocessing\n",
        "\n",
        "Q: Normalize features before ML model.\n",
        "\n",
        "import numpy as np\n",
        "\n",
        "X = np.array([[1,200],[2,300],[3,400]])  # Age, Salary\n",
        "X_mean = X.mean(axis=0)\n",
        "X_std = X.std(axis=0)\n",
        "\n",
        "# Standardization\n",
        "X_scaled = (X - X_mean) / X_std\n",
        "print(X_scaled)\n",
        "\n",
        "\n",
        "📌 Learning: ML models (like Logistic Regression, SVM) require scaled data. NumPy is core for this."
      ],
      "metadata": {
        "id": "vKjptHQRNThO"
      },
      "execution_count": null,
      "outputs": []
    }
  ]
}